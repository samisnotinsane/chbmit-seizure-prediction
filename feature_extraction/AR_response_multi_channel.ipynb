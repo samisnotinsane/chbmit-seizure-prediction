{
 "cells": [
  {
   "cell_type": "markdown",
   "id": "6e040305",
   "metadata": {},
   "source": [
    "# Multi-Channel EEG modelling with AR"
   ]
  },
  {
   "cell_type": "code",
   "execution_count": 1,
   "id": "199b19a9",
   "metadata": {},
   "outputs": [],
   "source": [
    "import os\n",
    "import mne\n",
    "import numpy as np\n",
    "import matplotlib.pyplot as plt"
   ]
  },
  {
   "cell_type": "code",
   "execution_count": 2,
   "id": "a4efe9e1",
   "metadata": {},
   "outputs": [],
   "source": [
    "root = '/Volumes/My Passport/AI_Research/data/physionet.org/files/chbmit/1.0.0/chb01/'"
   ]
  },
  {
   "cell_type": "code",
   "execution_count": 3,
   "id": "20042c91",
   "metadata": {},
   "outputs": [
    {
     "name": "stdout",
     "output_type": "stream",
     "text": [
      "(23, 921600)\n"
     ]
    }
   ],
   "source": [
    "# Summary\n",
    "# File Name: chb01_03.edf\n",
    "# File Start Time: 13:43:04\n",
    "# File End Time: 14:43:04\n",
    "# Number of Seizures in File: 1\n",
    "# Seizure Start Time: 2996 seconds\n",
    "# Seizure End Time: 3036 seconds\n",
    "raw = mne.io.read_raw_edf(input_fname=os.path.join(root, os.listdir(root)[3]), preload=False, verbose='Error')\n",
    "ch_names = raw.info['ch_names'] # array of channel names\n",
    "EEG, times = raw.copy().get_data(picks=['eeg'], units='uV', return_times=True)\n",
    "seizure_start_time = 2996\n",
    "seizure_start_index = raw.time_as_index(seizure_start_time)\n",
    "print(EEG.shape)"
   ]
  },
  {
   "cell_type": "code",
   "execution_count": 4,
   "id": "deaf3426",
   "metadata": {},
   "outputs": [
    {
     "name": "stdout",
     "output_type": "stream",
     "text": [
      "Input channels: 23\n",
      "Model: AR(5)\n",
      "Window size: 512\n",
      "Sampling frequency: 256.0 Hz\n",
      "Prediction frequency: 0.5 Hz\n"
     ]
    }
   ],
   "source": [
    "fs = raw.info['sfreq']   # sampling frequency (Hz)\n",
    "N = 512                  # fs = N*fp (N must be a natural number)\n",
    "fp = fs/N                # prediction frequency\n",
    "n_i = 5                  # AR model order\n",
    "t_s = 1/fs               # Input signal time period\n",
    "n_c = EEG.shape[0]       # Number of EEG electrodes (channels)\n",
    "\n",
    "print(f'Input channels: {n_c}')\n",
    "print(f'Model: AR({n_i})')\n",
    "print(f'Window size: {N}')\n",
    "print(f'Sampling frequency: {fs} Hz')\n",
    "print(f'Prediction frequency: {fp} Hz')"
   ]
  },
  {
   "cell_type": "code",
   "execution_count": 5,
   "id": "2639bcea",
   "metadata": {},
   "outputs": [
    {
     "data": {
      "text/plain": [
       "10"
      ]
     },
     "execution_count": 5,
     "metadata": {},
     "output_type": "execute_result"
    }
   ],
   "source": [
    "# slice a window across all channels\n",
    "len(EEG[22, 0:10])\n",
    "# x = EEG[:, 0:10]\n",
    "# x[22].shape"
   ]
  },
  {
   "cell_type": "code",
   "execution_count": 13,
   "id": "a0f967e2",
   "metadata": {},
   "outputs": [
    {
     "name": "stdout",
     "output_type": "stream",
     "text": [
      "Input dimension: (23, 921600)\n",
      "Output dimension: (1798, 23, 5)\n",
      "CPU times: user 4.55 s, sys: 19.9 ms, total: 4.57 s\n",
      "Wall time: 4.61 s\n"
     ]
    }
   ],
   "source": [
    "%%time\n",
    "np.random.seed(42)\n",
    "n_samples = EEG.shape[1]                  # Length of input signal\n",
    "e = EEG                                   # Feed input signal\n",
    "a = 1.8 * np.random.randn(n_c, n_i)       # Initialise AR coefficients\n",
    "a_hat = np.zeros((n_c, n_i))\n",
    "k = np.zeros(1)\n",
    "Ik = N                                    # Set window width\n",
    "ar_index_list = []                        # Sequential buffer of time index\n",
    "ar_hats_list = []                         # Sequential buffer of AR coefficients (conisder replacing these with vstack)\n",
    "for t in range(Ik + n_i, n_samples):      # Moving window starting from index 1 to (n_samples-1)\n",
    "    if (t % N == 0):                      # Decimation policy: a is computed once every N samples\n",
    "        window_start = t - Ik - n_i + 1\n",
    "        window_end = t\n",
    "        # ar_index_list.append(t)                   \n",
    "        phi = np.zeros((n_c, n_i))\n",
    "        for i in range(n_c):                        # Iterate electrodes\n",
    "            x_t = e[i, window_start:window_end]     # Multi-channel window over input signal\n",
    "            phi[i] = x_t[len(x_t)-n_i-1:len(x_t)-1] # Regressor is sample from last timestep upto timestep-model order\n",
    "            x_t = np.expand_dims(phi[i], axis=1).T @ np.expand_dims(a[i], axis=1)\n",
    "            a_hat[i] = np.squeeze(                  # AR parameter approximation by least-squares\n",
    "                np.linalg.pinv(np.expand_dims(phi[i], axis=1)@np.expand_dims(phi[i], axis=1).T) @ \n",
    "                    (np.expand_dims(phi[i], axis=1)@x_t)\n",
    "            )\n",
    "        ar_index_list.append(t)                       # Record time index of when a is computed\n",
    "        ar_hats_list.append(a_hat)\n",
    "ar_index = np.array(ar_index_list)\n",
    "ar_hats = np.array(ar_hats_list)\n",
    "print('Input dimension:', e.shape)\n",
    "print('Output dimension:', ar_hats.shape)"
   ]
  },
  {
   "cell_type": "code",
   "execution_count": null,
   "id": "9e7fac1e",
   "metadata": {},
   "outputs": [],
   "source": []
  }
 ],
 "metadata": {
  "kernelspec": {
   "display_name": "Python 3",
   "language": "python",
   "name": "python3"
  },
  "language_info": {
   "codemirror_mode": {
    "name": "ipython",
    "version": 3
   },
   "file_extension": ".py",
   "mimetype": "text/x-python",
   "name": "python",
   "nbconvert_exporter": "python",
   "pygments_lexer": "ipython3",
   "version": "3.8.5"
  }
 },
 "nbformat": 4,
 "nbformat_minor": 5
}
