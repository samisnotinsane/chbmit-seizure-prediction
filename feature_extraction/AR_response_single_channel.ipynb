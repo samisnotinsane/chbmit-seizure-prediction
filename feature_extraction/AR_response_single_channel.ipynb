{
 "cells": [
  {
   "cell_type": "markdown",
   "id": "2f855624",
   "metadata": {},
   "source": [
    "# AR Modelling of EEG Data"
   ]
  },
  {
   "cell_type": "code",
   "execution_count": 1,
   "id": "6e9d2414",
   "metadata": {},
   "outputs": [],
   "source": [
    "import os\n",
    "import mne\n",
    "import numpy as np\n",
    "import matplotlib.pyplot as plt"
   ]
  },
  {
   "cell_type": "code",
   "execution_count": 2,
   "id": "5b2a6845",
   "metadata": {},
   "outputs": [],
   "source": [
    "root = '/Volumes/My Passport/AI_Research/data/physionet.org/files/chbmit/1.0.0/chb01/'"
   ]
  },
  {
   "cell_type": "code",
   "execution_count": 3,
   "id": "05215193",
   "metadata": {},
   "outputs": [
    {
     "name": "stdout",
     "output_type": "stream",
     "text": [
      "(23, 921600)\n"
     ]
    }
   ],
   "source": [
    "# Summary\n",
    "# File Name: chb01_03.edf\n",
    "# File Start Time: 13:43:04\n",
    "# File End Time: 14:43:04\n",
    "# Number of Seizures in File: 1\n",
    "# Seizure Start Time: 2996 seconds\n",
    "# Seizure End Time: 3036 seconds\n",
    "raw = mne.io.read_raw_edf(input_fname=os.path.join(root, os.listdir(root)[3]), preload=False, verbose='Error')\n",
    "ch_names = raw.info['ch_names'] # array of channel names\n",
    "EEG, times = raw.copy().get_data(picks=['eeg'], units='uV', return_times=True)\n",
    "seizure_start_time = 2996\n",
    "seizure_start_index = raw.time_as_index(seizure_start_time)\n",
    "print(EEG.shape)"
   ]
  },
  {
   "cell_type": "markdown",
   "id": "55d7f45b",
   "metadata": {},
   "source": [
    "Initially, we model only a single channel EEG signal with AR(5)."
   ]
  },
  {
   "cell_type": "code",
   "execution_count": 4,
   "id": "b090ca9d",
   "metadata": {},
   "outputs": [
    {
     "name": "stdout",
     "output_type": "stream",
     "text": [
      "AR(5)\n",
      "Window size: 512\n",
      "Sampling frequency: 256.0 Hz\n",
      "Prediction frequency: 0.5 Hz\n"
     ]
    }
   ],
   "source": [
    "fs = raw.info['sfreq']   # sampling frequency (Hz)\n",
    "N = 512                  # fs = N*fp (N must be a natural number)\n",
    "fp = fs/N                # prediction frequency\n",
    "n_i = 5                  # AR model order\n",
    "t_s = 1/fs               # Input signal time period\n",
    "\n",
    "print(f'AR({n_i})')\n",
    "print(f'Window size: {N}')\n",
    "print(f'Sampling frequency: {fs} Hz')\n",
    "print(f'Prediction frequency: {fp} Hz')"
   ]
  },
  {
   "cell_type": "code",
   "execution_count": 5,
   "id": "fc19c89f",
   "metadata": {},
   "outputs": [
    {
     "name": "stdout",
     "output_type": "stream",
     "text": [
      "Input dim: (921600,)\n",
      "Output dim: (1798,)\n",
      "CPU times: user 937 ms, sys: 24.2 ms, total: 961 ms\n",
      "Wall time: 1.21 s\n"
     ]
    }
   ],
   "source": [
    "%%time\n",
    "np.random.seed(42)\n",
    "n_samples = EEG[0,:].shape[0]                  # Length of input signal\n",
    "e = EEG[0,:]                                   # Feed input signal\n",
    "print('Input dim:', e.shape)\n",
    "a = 1.8 * np.random.randn(n_i) - 0.9           # Initialise AR coefficients\n",
    "a = a.reshape(-1,1)\n",
    "Ik = N                                         # Window size\n",
    "ar_index_list = []\n",
    "ar_hats_list = []\n",
    "for t in range(Ik + n_i, n_samples):           # Moving window starting from index 1 to (n_samples-1)\n",
    "    window_start = t - Ik - n_i + 1\n",
    "    window_end = t                             # Assume window_end is present time\n",
    "    x_t = e[window_start:window_end]           # Select input sequence in window\n",
    "    N_window = len(x_t)                        # Window size\n",
    "    \n",
    "    if t % N == 0:                             # Compute AR coefficients once every N samples\n",
    "        ar_index_list.append(t)\n",
    "        phi = x_t[N_window-n_i:N_window]\n",
    "        phi = phi.reshape(-1,1)\n",
    "        x_t = phi.T @ a\n",
    "        ar_hat_window = np.linalg.pinv(phi@phi.T) @ (phi@x_t) # Least-squares\n",
    "        ar_hats_list.append(ar_hat_window)\n",
    "ar_index = np.array(ar_index_list)\n",
    "ar_hats = np.array(ar_hats_list).squeeze()\n",
    "print('Output dim:', ar_index.shape)"
   ]
  },
  {
   "cell_type": "code",
   "execution_count": 6,
   "id": "5e05922b",
   "metadata": {},
   "outputs": [],
   "source": [
    "y_hat = np.zeros(len(ar_index))\n",
    "for i in range(n_i, len(ar_index)):\n",
    "    y_hat[i] = e[i]\n",
    "    for j in range(n_i):\n",
    "        y_hat[i] = y_hat[i] + ar_hats[i,j].reshape(-1,1) * y_hat[i-1]"
   ]
  },
  {
   "cell_type": "code",
   "execution_count": null,
   "id": "9d7e7cd4",
   "metadata": {},
   "outputs": [],
   "source": [
    "fig, axes = plt.subplots(figsize=(12,6), nrows=3)\n",
    "axes[0].plot(np.arange(0, n_samples), e, label=r'$y$')\n",
    "axes[0].axvline(x=seizure_start_index, color='tab:red', ls='--') # mark seizure onset\n",
    "axes[0].set_ylim([e.min()*1.5, e.max()*1.5])\n",
    "axes[0].legend(loc=1)\n",
    "axes[0].set_title('Input Signal', fontsize=16) # input signal\n",
    "\n",
    "axes[1].plot(ar_index, y_hat, label=r'$\\hat{y}$')\n",
    "axes[1].axvline(x=seizure_start_index, color='tab:red', ls='--')\n",
    "# axes[1].set_ylim([e.min()*1.5, e.max()*1.5])\n",
    "axes[1].legend(loc=1)\n",
    "axes[1].set_title('Reconstructed Signal', fontsize=16)\n",
    "\n",
    "for i in range(n_i):\n",
    "    axes[2].plot(ar_index, ar_hats[:,i], label=f'$a_{i+1}$') # AR parameters varying\n",
    "# axes[2].set_ylim([ar_hats.min(axis=0).min()*1.5, ar_hats.max(axis=0).max()*5.5])\n",
    "axes[2].axvline(x=seizure_start_index, color='tab:red', ls='--')\n",
    "axes[2].legend(loc=1)\n",
    "axes[2].set_title('AR Parameter Response', fontsize=16)\n",
    "\n",
    "\n",
    "plt.tight_layout()\n",
    "plt.show()"
   ]
  },
  {
   "cell_type": "code",
   "execution_count": null,
   "id": "16e7a281",
   "metadata": {},
   "outputs": [],
   "source": []
  }
 ],
 "metadata": {
  "kernelspec": {
   "display_name": "Python 3",
   "language": "python",
   "name": "python3"
  },
  "language_info": {
   "codemirror_mode": {
    "name": "ipython",
    "version": 3
   },
   "file_extension": ".py",
   "mimetype": "text/x-python",
   "name": "python",
   "nbconvert_exporter": "python",
   "pygments_lexer": "ipython3",
   "version": "3.8.5"
  }
 },
 "nbformat": 4,
 "nbformat_minor": 5
}
