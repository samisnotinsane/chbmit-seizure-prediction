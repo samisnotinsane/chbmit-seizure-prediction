{
 "cells": [
  {
   "cell_type": "code",
   "execution_count": 3,
   "id": "b2aa2105",
   "metadata": {},
   "outputs": [],
   "source": [
    "import numpy as np"
   ]
  },
  {
   "cell_type": "code",
   "execution_count": 2,
   "id": "e07fd78c",
   "metadata": {},
   "outputs": [
    {
     "data": {
      "text/html": [
       "<div>\n",
       "<style scoped>\n",
       "    .dataframe tbody tr th:only-of-type {\n",
       "        vertical-align: middle;\n",
       "    }\n",
       "\n",
       "    .dataframe tbody tr th {\n",
       "        vertical-align: top;\n",
       "    }\n",
       "\n",
       "    .dataframe thead th {\n",
       "        text-align: right;\n",
       "    }\n",
       "</style>\n",
       "<table border=\"1\" class=\"dataframe\">\n",
       "  <thead>\n",
       "    <tr style=\"text-align: right;\">\n",
       "      <th></th>\n",
       "      <th>Case</th>\n",
       "      <th>Filename</th>\n",
       "      <th>Set</th>\n",
       "      <th>Class</th>\n",
       "    </tr>\n",
       "  </thead>\n",
       "  <tbody>\n",
       "    <tr>\n",
       "      <th>0</th>\n",
       "      <td>chb01</td>\n",
       "      <td>chb01_03.edf</td>\n",
       "      <td>Train</td>\n",
       "      <td>Preictal</td>\n",
       "    </tr>\n",
       "    <tr>\n",
       "      <th>1</th>\n",
       "      <td>chb01</td>\n",
       "      <td>chb01_04.edf</td>\n",
       "      <td>Train</td>\n",
       "      <td>Preictal</td>\n",
       "    </tr>\n",
       "    <tr>\n",
       "      <th>2</th>\n",
       "      <td>chb01</td>\n",
       "      <td>chb01_15.edf</td>\n",
       "      <td>Train</td>\n",
       "      <td>Preictal</td>\n",
       "    </tr>\n",
       "    <tr>\n",
       "      <th>3</th>\n",
       "      <td>chb01</td>\n",
       "      <td>chb01_16.edf</td>\n",
       "      <td>Test</td>\n",
       "      <td>Preictal</td>\n",
       "    </tr>\n",
       "    <tr>\n",
       "      <th>4</th>\n",
       "      <td>chb01</td>\n",
       "      <td>chb01_18.edf</td>\n",
       "      <td>Test</td>\n",
       "      <td>Preictal</td>\n",
       "    </tr>\n",
       "  </tbody>\n",
       "</table>\n",
       "</div>"
      ],
      "text/plain": [
       "    Case      Filename    Set     Class\n",
       "0  chb01  chb01_03.edf  Train  Preictal\n",
       "1  chb01  chb01_04.edf  Train  Preictal\n",
       "2  chb01  chb01_15.edf  Train  Preictal\n",
       "3  chb01  chb01_16.edf   Test  Preictal\n",
       "4  chb01  chb01_18.edf   Test  Preictal"
      ]
     },
     "execution_count": 2,
     "metadata": {},
     "output_type": "execute_result"
    }
   ],
   "source": [
    "df = pd.read_excel('train_test_data.xlsx')\n",
    "df.head()"
   ]
  },
  {
   "cell_type": "code",
   "execution_count": null,
   "id": "e2e52f04",
   "metadata": {},
   "outputs": [],
   "source": []
  }
 ],
 "metadata": {
  "kernelspec": {
   "display_name": "Python 3",
   "language": "python",
   "name": "python3"
  },
  "language_info": {
   "codemirror_mode": {
    "name": "ipython",
    "version": 3
   },
   "file_extension": ".py",
   "mimetype": "text/x-python",
   "name": "python",
   "nbconvert_exporter": "python",
   "pygments_lexer": "ipython3",
   "version": "3.8.5"
  }
 },
 "nbformat": 4,
 "nbformat_minor": 5
}
