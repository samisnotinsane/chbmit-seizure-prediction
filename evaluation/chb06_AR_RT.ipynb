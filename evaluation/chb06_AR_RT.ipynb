{
 "cells": [
  {
   "cell_type": "code",
   "execution_count": 1,
   "id": "dd69b1de",
   "metadata": {},
   "outputs": [],
   "source": [
    "import numpy as np\n",
    "from ARMA import ARMA\n",
    "from sklearn.model_selection import train_test_split\n",
    "import pandas as pd\n",
    "import seaborn as sns\n",
    "from sklearn.svm import SVC, OneClassSVM\n",
    "from sklearn.metrics import confusion_matrix, classification_report, f1_score\n",
    "import matplotlib.pyplot as plt\n",
    "import seaborn as sns\n",
    "from joblib import load\n",
    "from tqdm import tqdm\n",
    "import os"
   ]
  },
  {
   "cell_type": "code",
   "execution_count": 2,
   "id": "9b85e68c",
   "metadata": {},
   "outputs": [
    {
     "name": "stdout",
     "output_type": "stream",
     "text": [
      "['chb06_06_interictal.npy', 'chb06_14_interictal.npy', 'chb06_08_interictal.npy', 'chb06_15_interictal.npy', 'chb06_07_interictal.npy', 'chb06_12_interictal.npy', 'chb06_17_interictal.npy', 'chb06_16_interictal.npy']\n",
      "['chb06_10_preictal.npy', 'chb06_09_preictal.npy', 'chb06_18_preictal.npy']\n"
     ]
    }
   ],
   "source": [
    "case = 'chb06'\n",
    "sset = 'Test'\n",
    "fe = 'AR'\n",
    "modelroot = './models' + '/' + case + '/' + fe\n",
    "\n",
    "\n",
    "root = './data' + '/' + sset + '/' + case\n",
    "cclass_a = 'Interictal'\n",
    "cclass_b = 'Preictal'\n",
    "\n",
    "interictal_dir = './data' + '/' + sset + '/' + case + '/' + cclass_a\n",
    "preictal_dir = './data' + '/' + sset + '/' + case + '/' + cclass_b\n",
    "interictal_files = os.listdir(interictal_dir)\n",
    "preictal_files = os.listdir(preictal_dir)\n",
    "print(interictal_files)\n",
    "print(preictal_files)"
   ]
  },
  {
   "cell_type": "code",
   "execution_count": 3,
   "id": "68be1e06",
   "metadata": {},
   "outputs": [
    {
     "name": "stderr",
     "output_type": "stream",
     "text": [
      "100%|██████████| 8/8 [00:01<00:00,  7.45it/s]\n"
     ]
    }
   ],
   "source": [
    "interictal_data = []\n",
    "for i, _ in enumerate(tqdm(interictal_files)):\n",
    "    # interictal\n",
    "    filepath = root + '/' + cclass_a + '/' + interictal_files[i]\n",
    "    data = np.load(filepath)\n",
    "    interictal_data.append(data)\n",
    "del data, filepath"
   ]
  },
  {
   "cell_type": "code",
   "execution_count": 4,
   "id": "80845153",
   "metadata": {},
   "outputs": [
    {
     "name": "stderr",
     "output_type": "stream",
     "text": [
      "100%|██████████| 3/3 [00:00<00:00,  5.49it/s]\n"
     ]
    }
   ],
   "source": [
    "preictal_data = []\n",
    "for i, _ in enumerate(tqdm(preictal_files)):\n",
    "    # preictal\n",
    "    filepath = root + '/' + cclass_b + '/' + preictal_files[i]\n",
    "    data = np.load(filepath)\n",
    "    preictal_data.append(data)\n",
    "del data, filepath"
   ]
  },
  {
   "cell_type": "code",
   "execution_count": 5,
   "id": "d3aed2f2",
   "metadata": {},
   "outputs": [
    {
     "name": "stdout",
     "output_type": "stream",
     "text": [
      "Interictal: (23, 2764808) Preictal: (23, 691203)\n",
      "All: (23, 3456011)\n"
     ]
    }
   ],
   "source": [
    "interictal_input = np.hstack(interictal_data)\n",
    "preictal_input = np.hstack(preictal_data)\n",
    "print('Interictal:', interictal_input.shape, 'Preictal:', preictal_input.shape)\n",
    "X = np.hstack((interictal_input, preictal_input))\n",
    "print('All:', X.shape)"
   ]
  },
  {
   "cell_type": "markdown",
   "id": "4f621b43",
   "metadata": {},
   "source": [
    "### Online Prediction: Linear SVM"
   ]
  },
  {
   "cell_type": "code",
   "execution_count": 6,
   "id": "c36f8d92",
   "metadata": {},
   "outputs": [
    {
     "name": "stdout",
     "output_type": "stream",
     "text": [
      "Model: chb06_AR_SVM_Linear\n",
      "Input length: 3456011\n",
      "Input channels: 23\n",
      "Model: AR(2)\n",
      "MA lookback: 30\n",
      "Window size: 512\n",
      "Sampling frequency: 256 Hz\n",
      "Prediction frequency: 0.5 Hz\n"
     ]
    }
   ],
   "source": [
    "# online prediction parameters\n",
    "sig = X                  # Feed input signal\n",
    "fs = 256                 # sampling frequency (Hz)\n",
    "N = 512                  # fs = N*fp (N must be a natural number)\n",
    "fp = fs/N                # prediction frequency\n",
    "n_i = 2                  # AR model order\n",
    "t_s = 1/fs               # Input signal time period\n",
    "n_c = X.shape[0]       # Number of EEG electrodes (channels)\n",
    "m = 30                   # MA parameter\n",
    "\n",
    "modelname = f'{case}_AR_SVM_Linear'\n",
    "modelpath = modelroot + '/' + modelname + '.joblib'\n",
    "model = load(modelpath) # load model\n",
    "\n",
    "print(f'Model: {modelname}')\n",
    "print(f'Input length: {sig.shape[1]}')\n",
    "print(f'Input channels: {n_c}')\n",
    "print(f'Model: AR({n_i})')\n",
    "print(f'MA lookback: {m}')\n",
    "print(f'Window size: {N}')\n",
    "print(f'Sampling frequency: {fs} Hz')\n",
    "print(f'Prediction frequency: {fp} Hz')"
   ]
  },
  {
   "cell_type": "code",
   "execution_count": 7,
   "id": "a9bc2a96",
   "metadata": {},
   "outputs": [
    {
     "name": "stderr",
     "output_type": "stream",
     "text": [
      "Classifying... : 100%|██████████| 3455497/3455497 [00:41<00:00, 83567.45it/s] \n"
     ]
    }
   ],
   "source": [
    "# online prediction\n",
    "fp = fs/N                                                # Prediction frequency\n",
    "t_s = 1/fs                                               # Input signal time period\n",
    "\n",
    "a_k_list = []                                              # Sequential buffer for  MA samples\n",
    "a_h_k_list = []                                            # Sequential buffer for AR signal samples\n",
    "k_list = []                                                # Sequential buffer for time index in prediction point _k\n",
    "preds = []\n",
    "\n",
    "n_c = sig.shape[0]                                         # Number of input channels\n",
    "n = sig.shape[1]                                           # Total number of input samples\n",
    "a = 1.8 * np.random.randn(n_c, n_i)                   # Initialise AR coefficients\n",
    "c = m * np.ones(m)                               # Initialise MA coefficients\n",
    "c = c / c.sum()\n",
    "\n",
    "Ik = N                                                # Window width\n",
    "for _k in tqdm(range(Ik + n_i, n), desc='Classifying... '): # Sliding window\n",
    "    if (_k % N == 0):                                 # Decimation policy: _k occurs once every N samples\n",
    "        w_start = _k - Ik - n_i + 1                   # Starting index of sliding window (end index is maintained by _k)\n",
    "        a_h = np.zeros((n_c, n_i))                    # AR parameter estimates from samples in window\n",
    "        for _i in range(n_c):                              # Iterate channels\n",
    "            x_t = sig[_i, w_start:_k]                      # Multi-channel window over input signal\n",
    "            N_w = len(x_t)\n",
    "            ymat = np.zeros((N_w - n_i, n_i))\n",
    "            yb = np.zeros((N_w - n_i, n_i))\n",
    "            for _c in range(n_i, 0, -1):              # Past dependency of AR up to model order\n",
    "                ymat[ : , n_i - _c] = x_t[n_i - _c : -_c]\n",
    "            yb = x_t[n_i:]\n",
    "            a_h[_i] = np.linalg.pinv(ymat) @ yb            # Least squares solution to optimal parameters via Moore-Penrose Pseudo Inverse\n",
    "        a_k = np.zeros((n_c, n_i))\n",
    "        a_h_k_idx = len(a_h_k_list) - 1                    # Index to most recent block of AR parameters of shape: (n_c, n_i)\n",
    "        for _j in range(m):                           # MA smoothing of AR parameters going back m units of time, in timescale k\n",
    "            if len(a_h_k_list) > m:                   # Only begin smoothing once unit of time elapsed is greater than m\n",
    "                a_k = c[_j] * a_h_k_list[a_h_k_idx - _j]\n",
    "        a_k = np.mean(a_k, axis=0)                         # Mean over channels\n",
    "        \n",
    "        # classify a_k (feature)\n",
    "        p = model.predict(a_k.reshape(1, -1))\n",
    "        preds.append(p)        \n",
    "        \n",
    "        k_list.append(_k)\n",
    "        a_h_k_list.append(a_h)\n",
    "        a_k_list.append(a_k)\n",
    "k = np.array(k_list)\n",
    "a_h_k = np.array(a_h_k_list)\n",
    "a_k = np.array(a_k_list)"
   ]
  },
  {
   "cell_type": "code",
   "execution_count": 8,
   "id": "6adfc712",
   "metadata": {},
   "outputs": [
    {
     "name": "stdout",
     "output_type": "stream",
     "text": [
      "(6749,)\n",
      "(3456011,)\n",
      "Preictal start time: 3.0\n",
      "(6749, 2)\n"
     ]
    }
   ],
   "source": [
    "prediction_sig = np.hstack(preds)\n",
    "print(prediction_sig.shape)\n",
    "\n",
    "t = np.arange(0, X.shape[1]) / fs\n",
    "X_mean = np.mean(X, axis=0)\n",
    "print(X_mean.shape)\n",
    "\n",
    "t_preictal = np.rint(np.max(np.arange(0, interictal_input.shape[1]) / fs / 3600))\n",
    "print('Preictal start time:', t_preictal)\n",
    "\n",
    "k = np.hstack(k_list)\n",
    "pt = np.arange(0, k.shape[0]) / (fs/N) / 3600\n",
    "\n",
    "ar_mean = np.mean(a_h_k, axis=1)\n",
    "print(ar_mean.shape)"
   ]
  },
  {
   "cell_type": "code",
   "execution_count": 9,
   "id": "431116bd",
   "metadata": {},
   "outputs": [
    {
     "data": {
      "image/png": "[encoded data removed]",
      "text/plain": [
       "<Figure size 864x432 with 1 Axes>"
      ]
     },
     "metadata": {
      "needs_background": "light"
     },
     "output_type": "display_data"
    }
   ],
   "source": [
    "# AR coefficient response\n",
    "sns.set_palette(sns.color_palette('Set2'))\n",
    "plt.figure(figsize=(12,6))\n",
    "sns.lineplot(x=pt, y=ar_mean[:,0], label='$a_1$')\n",
    "ax = sns.lineplot(x=pt, y=ar_mean[:,1], label='$a_2$')\n",
    "ax.fill_between(pt, -1, 1, where=pt > t_preictal, color='#fc8257', alpha=0.3, transform=ax.get_xaxis_transform(), label='Preictal')\n",
    "\n",
    "plt.xlim([0,4])\n",
    "plt.ylim([-1.2,2])\n",
    "plt.xlabel('Time, $s$')\n",
    "plt.ylabel('A.U.')\n",
    "plt.legend(loc=3)\n",
    "plt.tight_layout()\n",
    "plt.savefig(f'./figures/{case}_AR_RT.pdf')\n",
    "plt.show()"
   ]
  },
  {
   "cell_type": "code",
   "execution_count": 10,
   "id": "2567fba1",
   "metadata": {},
   "outputs": [
    {
     "data": {
      "image/png": "[encoded data removed]",
      "text/plain": [
       "<Figure size 864x432 with 1 Axes>"
      ]
     },
     "metadata": {
      "needs_background": "light"
     },
     "output_type": "display_data"
    }
   ],
   "source": [
    "# online predictor response\n",
    "sns.set_palette(sns.color_palette('icefire'))\n",
    "plt.figure(figsize=(12,6))\n",
    "ax = sns.lineplot(x=pt, y=prediction_sig, label='Prediction')\n",
    "ax.fill_between(pt, 0, 1, where=pt > t_preictal, color='#fc8257', alpha=0.3, transform=ax.get_xaxis_transform(), label='Preictal')\n",
    "\n",
    "tickpos = [-1,1] # show only classes: -1 and 1\n",
    "plt.yticks(tickpos,tickpos)\n",
    "\n",
    "plt.xlim([0,4])\n",
    "plt.ylim([-2,2])\n",
    "plt.xlabel('Time, $s$')\n",
    "plt.ylabel('Class')\n",
    "plt.legend(loc=3)\n",
    "plt.tight_layout()\n",
    "plt.savefig(f'./figures/{modelname}_RT.pdf')\n",
    "plt.show()"
   ]
  },
  {
   "cell_type": "markdown",
   "id": "ded86aab",
   "metadata": {},
   "source": [
    "### Online Prediction: RBF SVM"
   ]
  },
  {
   "cell_type": "code",
   "execution_count": 11,
   "id": "0a98d5f4",
   "metadata": {},
   "outputs": [
    {
     "name": "stdout",
     "output_type": "stream",
     "text": [
      "Model: chb06_AR_SVM_RBF\n",
      "Input length: 3456011\n",
      "Input channels: 23\n",
      "Model: AR(2)\n",
      "MA lookback: 30\n",
      "Window size: 512\n",
      "Sampling frequency: 256 Hz\n",
      "Prediction frequency: 0.5 Hz\n"
     ]
    }
   ],
   "source": [
    "# online prediction parameters\n",
    "sig = X                  # Feed input signal\n",
    "fs = 256                 # sampling frequency (Hz)\n",
    "N = 512                  # fs = N*fp (N must be a natural number)\n",
    "fp = fs/N                # prediction frequency\n",
    "n_i = 2                  # AR model order\n",
    "t_s = 1/fs               # Input signal time period\n",
    "n_c = X.shape[0]       # Number of EEG electrodes (channels)\n",
    "m = 30                   # MA parameter\n",
    "\n",
    "modelname = f'{case}_AR_SVM_RBF'\n",
    "modelpath = modelroot + '/' + modelname + '.joblib'\n",
    "model = load(modelpath) # load model\n",
    "\n",
    "print(f'Model: {modelname}')\n",
    "print(f'Input length: {sig.shape[1]}')\n",
    "print(f'Input channels: {n_c}')\n",
    "print(f'Model: AR({n_i})')\n",
    "print(f'MA lookback: {m}')\n",
    "print(f'Window size: {N}')\n",
    "print(f'Sampling frequency: {fs} Hz')\n",
    "print(f'Prediction frequency: {fp} Hz')"
   ]
  },
  {
   "cell_type": "code",
   "execution_count": 12,
   "id": "27ffdfcc",
   "metadata": {},
   "outputs": [
    {
     "name": "stderr",
     "output_type": "stream",
     "text": [
      "Classifying... : 100%|██████████| 3455497/3455497 [00:33<00:00, 103952.51it/s]\n"
     ]
    }
   ],
   "source": [
    "# online prediction\n",
    "fp = fs/N                                                # Prediction frequency\n",
    "t_s = 1/fs                                               # Input signal time period\n",
    "\n",
    "a_k_list = []                                              # Sequential buffer for  MA samples\n",
    "a_h_k_list = []                                            # Sequential buffer for AR signal samples\n",
    "k_list = []                                                # Sequential buffer for time index in prediction point _k\n",
    "preds = []\n",
    "\n",
    "n_c = sig.shape[0]                                         # Number of input channels\n",
    "n = sig.shape[1]                                           # Total number of input samples\n",
    "a = 1.8 * np.random.randn(n_c, n_i)                   # Initialise AR coefficients\n",
    "c = m * np.ones(m)                               # Initialise MA coefficients\n",
    "c = c / c.sum()\n",
    "\n",
    "Ik = N                                                # Window width\n",
    "for _k in tqdm(range(Ik + n_i, n), desc='Classifying... '): # Sliding window\n",
    "    if (_k % N == 0):                                 # Decimation policy: _k occurs once every N samples\n",
    "        w_start = _k - Ik - n_i + 1                   # Starting index of sliding window (end index is maintained by _k)\n",
    "        a_h = np.zeros((n_c, n_i))                    # AR parameter estimates from samples in window\n",
    "        for _i in range(n_c):                              # Iterate channels\n",
    "            x_t = sig[_i, w_start:_k]                      # Multi-channel window over input signal\n",
    "            N_w = len(x_t)\n",
    "            ymat = np.zeros((N_w - n_i, n_i))\n",
    "            yb = np.zeros((N_w - n_i, n_i))\n",
    "            for _c in range(n_i, 0, -1):              # Past dependency of AR up to model order\n",
    "                ymat[ : , n_i - _c] = x_t[n_i - _c : -_c]\n",
    "            yb = x_t[n_i:]\n",
    "            a_h[_i] = np.linalg.pinv(ymat) @ yb            # Least squares solution to optimal parameters via Moore-Penrose Pseudo Inverse\n",
    "        a_k = np.zeros((n_c, n_i))\n",
    "        a_h_k_idx = len(a_h_k_list) - 1                    # Index to most recent block of AR parameters of shape: (n_c, n_i)\n",
    "        for _j in range(m):                           # MA smoothing of AR parameters going back m units of time, in timescale k\n",
    "            if len(a_h_k_list) > m:                   # Only begin smoothing once unit of time elapsed is greater than m\n",
    "                a_k = c[_j] * a_h_k_list[a_h_k_idx - _j]\n",
    "        a_k = np.mean(a_k, axis=0)                         # Mean over channels\n",
    "        \n",
    "        # classify a_k (feature)\n",
    "        p = model.predict(a_k.reshape(1, -1))\n",
    "        preds.append(p)        \n",
    "        \n",
    "        k_list.append(_k)\n",
    "        a_h_k_list.append(a_h)\n",
    "        a_k_list.append(a_k)\n",
    "k = np.array(k_list)\n",
    "a_h_k = np.array(a_h_k_list)\n",
    "a_k = np.array(a_k_list)"
   ]
  },
  {
   "cell_type": "code",
   "execution_count": 13,
   "id": "e0d1d414",
   "metadata": {},
   "outputs": [
    {
     "name": "stdout",
     "output_type": "stream",
     "text": [
      "Preictal start time: 3.0\n"
     ]
    }
   ],
   "source": [
    "prediction_sig = np.hstack(preds) # online prediction sig\n",
    "t = np.arange(0, X.shape[1]) / fs # times for input sig\n",
    "X_mean = np.mean(X, axis=0) # input sig, mean over channels\n",
    "t_preictal = np.rint(np.max(np.arange(0, interictal_input.shape[1]) / fs / 3600))\n",
    "print('Preictal start time:', t_preictal)\n",
    "k = np.hstack(k_list)\n",
    "pt = np.arange(0, k.shape[0]) / (fs/N) / 3600\n",
    "ar_mean = np.mean(a_h_k, axis=1)"
   ]
  },
  {
   "cell_type": "code",
   "execution_count": 14,
   "id": "f2e0fbe2",
   "metadata": {},
   "outputs": [
    {
     "data": {
      "image/png": "[encoded data removed]",
      "text/plain": [
       "<Figure size 864x432 with 1 Axes>"
      ]
     },
     "metadata": {
      "needs_background": "light"
     },
     "output_type": "display_data"
    }
   ],
   "source": [
    "# online predictor response\n",
    "plt.figure(figsize=(12,6))\n",
    "\n",
    "sns.set_palette(sns.color_palette('icefire'))\n",
    "ax = sns.lineplot(x=pt, y=prediction_sig, label='Prediction', palette=['red'])\n",
    "ax.fill_between(pt, 0, 1, where=pt > t_preictal, color='#fc8257', alpha=0.3, transform=ax.get_xaxis_transform(), label='Preictal')\n",
    "\n",
    "tickpos = [-1,1] # show only classes: -1 and 1\n",
    "plt.yticks(tickpos,tickpos)\n",
    "\n",
    "plt.xlim([0,4])\n",
    "plt.ylim([-2,2])\n",
    "plt.xlabel('Time, $s$')\n",
    "plt.ylabel('Class')\n",
    "plt.legend(loc=3)\n",
    "plt.tight_layout()\n",
    "plt.savefig(f'./figures/{modelname}_RT.pdf')\n",
    "plt.show()"
   ]
  },
  {
   "cell_type": "markdown",
   "id": "22ece9e7",
   "metadata": {},
   "source": [
    "### Online Prediction: Logistic Regression"
   ]
  },
  {
   "cell_type": "code",
   "execution_count": 15,
   "id": "3066cf99",
   "metadata": {},
   "outputs": [
    {
     "name": "stdout",
     "output_type": "stream",
     "text": [
      "Model: chb06_AR_Logistic_Regression\n",
      "Input length: 3456011\n",
      "Input channels: 23\n",
      "Model: AR(2)\n",
      "MA lookback: 30\n",
      "Window size: 512\n",
      "Sampling frequency: 256 Hz\n",
      "Prediction frequency: 0.5 Hz\n"
     ]
    }
   ],
   "source": [
    "# online prediction parameters\n",
    "sig = X                  # Feed input signal\n",
    "fs = 256                 # sampling frequency (Hz)\n",
    "N = 512                  # fs = N*fp (N must be a natural number)\n",
    "fp = fs/N                # prediction frequency\n",
    "n_i = 2                  # AR model order\n",
    "t_s = 1/fs               # Input signal time period\n",
    "n_c = X.shape[0]       # Number of EEG electrodes (channels)\n",
    "m = 30                   # MA parameter\n",
    "\n",
    "modelname = f'{case}_AR_Logistic_Regression'\n",
    "modelpath = modelroot + '/' + modelname + '.joblib'\n",
    "model = load(modelpath) # load model\n",
    "\n",
    "print(f'Model: {modelname}')\n",
    "print(f'Input length: {sig.shape[1]}')\n",
    "print(f'Input channels: {n_c}')\n",
    "print(f'Model: AR({n_i})')\n",
    "print(f'MA lookback: {m}')\n",
    "print(f'Window size: {N}')\n",
    "print(f'Sampling frequency: {fs} Hz')\n",
    "print(f'Prediction frequency: {fp} Hz')"
   ]
  },
  {
   "cell_type": "code",
   "execution_count": 16,
   "id": "73bea2dc",
   "metadata": {},
   "outputs": [
    {
     "name": "stderr",
     "output_type": "stream",
     "text": [
      "Classifying... : 100%|██████████| 3455497/3455497 [00:32<00:00, 105356.60it/s]\n"
     ]
    }
   ],
   "source": [
    "# online prediction\n",
    "fp = fs/N                                                # Prediction frequency\n",
    "t_s = 1/fs                                               # Input signal time period\n",
    "\n",
    "a_k_list = []                                              # Sequential buffer for  MA samples\n",
    "a_h_k_list = []                                            # Sequential buffer for AR signal samples\n",
    "k_list = []                                                # Sequential buffer for time index in prediction point _k\n",
    "preds = []\n",
    "\n",
    "n_c = sig.shape[0]                                         # Number of input channels\n",
    "n = sig.shape[1]                                           # Total number of input samples\n",
    "a = 1.8 * np.random.randn(n_c, n_i)                   # Initialise AR coefficients\n",
    "c = m * np.ones(m)                               # Initialise MA coefficients\n",
    "c = c / c.sum()\n",
    "\n",
    "Ik = N                                                # Window width\n",
    "for _k in tqdm(range(Ik + n_i, n), desc='Classifying... '): # Sliding window\n",
    "    if (_k % N == 0):                                 # Decimation policy: _k occurs once every N samples\n",
    "        w_start = _k - Ik - n_i + 1                   # Starting index of sliding window (end index is maintained by _k)\n",
    "        a_h = np.zeros((n_c, n_i))                    # AR parameter estimates from samples in window\n",
    "        for _i in range(n_c):                              # Iterate channels\n",
    "            x_t = sig[_i, w_start:_k]                      # Multi-channel window over input signal\n",
    "            N_w = len(x_t)\n",
    "            ymat = np.zeros((N_w - n_i, n_i))\n",
    "            yb = np.zeros((N_w - n_i, n_i))\n",
    "            for _c in range(n_i, 0, -1):              # Past dependency of AR up to model order\n",
    "                ymat[ : , n_i - _c] = x_t[n_i - _c : -_c]\n",
    "            yb = x_t[n_i:]\n",
    "            a_h[_i] = np.linalg.pinv(ymat) @ yb            # Least squares solution to optimal parameters via Moore-Penrose Pseudo Inverse\n",
    "        a_k = np.zeros((n_c, n_i))\n",
    "        a_h_k_idx = len(a_h_k_list) - 1                    # Index to most recent block of AR parameters of shape: (n_c, n_i)\n",
    "        for _j in range(m):                           # MA smoothing of AR parameters going back m units of time, in timescale k\n",
    "            if len(a_h_k_list) > m:                   # Only begin smoothing once unit of time elapsed is greater than m\n",
    "                a_k = c[_j] * a_h_k_list[a_h_k_idx - _j]\n",
    "        a_k = np.mean(a_k, axis=0)                         # Mean over channels\n",
    "        \n",
    "        # classify a_k (feature)\n",
    "        p = model.predict(a_k.reshape(1, -1))\n",
    "        preds.append(p)        \n",
    "        \n",
    "        k_list.append(_k)\n",
    "        a_h_k_list.append(a_h)\n",
    "        a_k_list.append(a_k)\n",
    "k = np.array(k_list)\n",
    "a_h_k = np.array(a_h_k_list)\n",
    "a_k = np.array(a_k_list)"
   ]
  },
  {
   "cell_type": "code",
   "execution_count": 17,
   "id": "5a37de77",
   "metadata": {},
   "outputs": [
    {
     "name": "stdout",
     "output_type": "stream",
     "text": [
      "Preictal start time: 3.0\n"
     ]
    }
   ],
   "source": [
    "prediction_sig = np.hstack(preds) # online prediction sig\n",
    "t = np.arange(0, X.shape[1]) / fs # times for input sig\n",
    "X_mean = np.mean(X, axis=0) # input sig, mean over channels\n",
    "t_preictal = np.rint(np.max(np.arange(0, interictal_input.shape[1]) / fs / 3600))\n",
    "print('Preictal start time:', t_preictal)\n",
    "k = np.hstack(k_list)\n",
    "pt = np.arange(0, k.shape[0]) / (fs/N) / 3600\n",
    "ar_mean = np.mean(a_h_k, axis=1)"
   ]
  },
  {
   "cell_type": "code",
   "execution_count": 18,
   "id": "a1d2b191",
   "metadata": {},
   "outputs": [
    {
     "data": {
      "image/png": "[encoded data removed]",
      "text/plain": [
       "<Figure size 864x432 with 1 Axes>"
      ]
     },
     "metadata": {
      "needs_background": "light"
     },
     "output_type": "display_data"
    }
   ],
   "source": [
    "# online predictor response\n",
    "plt.figure(figsize=(12,6))\n",
    "\n",
    "sns.set_palette(sns.color_palette('icefire'))\n",
    "ax = sns.lineplot(x=pt, y=prediction_sig, label='Prediction')\n",
    "ax.fill_between(pt, 0, 1, where=pt > t_preictal, color='#fc8257', alpha=0.3, transform=ax.get_xaxis_transform(), label='Preictal')\n",
    "\n",
    "tickpos = [-1,1] # show only classes: -1 and 1\n",
    "plt.yticks(tickpos,tickpos)\n",
    "\n",
    "plt.xlim([0,4])\n",
    "plt.ylim([-2,2])\n",
    "plt.xlabel('Time, $s$')\n",
    "plt.ylabel('Class')\n",
    "plt.legend(loc=3)\n",
    "plt.tight_layout()\n",
    "plt.savefig(f'./figures/{modelname}_RT.pdf')\n",
    "plt.show()"
   ]
  },
  {
   "cell_type": "code",
   "execution_count": 19,
   "id": "d268be97",
   "metadata": {},
   "outputs": [
    {
     "data": {
      "text/plain": [
       "3.7488888888888887"
      ]
     },
     "execution_count": 19,
     "metadata": {},
     "output_type": "execute_result"
    }
   ],
   "source": [
    "max(pt)"
   ]
  },
  {
   "cell_type": "code",
   "execution_count": null,
   "id": "2b921efc",
   "metadata": {},
   "outputs": [],
   "source": []
  }
 ],
 "metadata": {
  "kernelspec": {
   "display_name": "Python 3",
   "language": "python",
   "name": "python3"
  },
  "language_info": {
   "codemirror_mode": {
    "name": "ipython",
    "version": 3
   },
   "file_extension": ".py",
   "mimetype": "text/x-python",
   "name": "python",
   "nbconvert_exporter": "python",
   "pygments_lexer": "ipython3",
   "version": "3.8.5"
  }
 },
 "nbformat": 4,
 "nbformat_minor": 5
}
