{
 "cells": [
  {
   "cell_type": "code",
   "execution_count": 1,
   "id": "dcb4267d",
   "metadata": {},
   "outputs": [],
   "source": [
    "import numpy as np\n",
    "from ARMA import ARMA\n",
    "from sklearn.model_selection import train_test_split\n",
    "import pandas as pd\n",
    "import seaborn as sns\n",
    "from sklearn.svm import SVC, OneClassSVM\n",
    "from sklearn.metrics import confusion_matrix, classification_report, f1_score\n",
    "import matplotlib.pyplot as plt\n",
    "import seaborn as sns\n",
    "from joblib import load\n",
    "from tqdm import tqdm\n",
    "import os"
   ]
  },
  {
   "cell_type": "code",
   "execution_count": 2,
   "id": "bc18b167",
   "metadata": {},
   "outputs": [],
   "source": [
    "case = 'chb10'\n",
    "sset = 'Test'\n",
    "fe = 'AR'\n",
    "modelroot = './models' + '/' + case + '/' + fe\n",
    "\n",
    "\n",
    "root = './data' + '/' + sset + '/' + case\n",
    "cclass_a = 'Interictal'\n",
    "cclass_b = 'Preictal'\n",
    "\n",
    "interictal_dir = './data' + '/' + sset + '/' + case + '/' + cclass_a\n",
    "preictal_dir = './data' + '/' + sset + '/' + case + '/' + cclass_b\n",
    "interictal_files = os.listdir(interictal_dir)\n",
    "preictal_files = os.listdir(preictal_dir)"
   ]
  },
  {
   "cell_type": "code",
   "execution_count": 3,
   "id": "55136bc4",
   "metadata": {},
   "outputs": [
    {
     "name": "stderr",
     "output_type": "stream",
     "text": [
      "100%|██████████| 12/12 [00:02<00:00,  4.12it/s]\n"
     ]
    }
   ],
   "source": [
    "interictal_data = []\n",
    "for i, _ in enumerate(tqdm(interictal_files)):\n",
    "    # interictal\n",
    "    filepath = root + '/' + cclass_a + '/' + interictal_files[i]\n",
    "    data = np.load(filepath)\n",
    "    interictal_data.append(data)\n",
    "del data, filepath"
   ]
  },
  {
   "cell_type": "code",
   "execution_count": 4,
   "id": "3d14ec73",
   "metadata": {},
   "outputs": [
    {
     "name": "stderr",
     "output_type": "stream",
     "text": [
      "100%|██████████| 3/3 [00:00<00:00,  4.52it/s]\n"
     ]
    }
   ],
   "source": [
    "preictal_data = []\n",
    "for i, _ in enumerate(tqdm(preictal_files)):\n",
    "    # preictal\n",
    "    filepath = root + '/' + cclass_b + '/' + preictal_files[i]\n",
    "    data = np.load(filepath)\n",
    "    preictal_data.append(data)\n",
    "del data, filepath"
   ]
  },
  {
   "cell_type": "code",
   "execution_count": 5,
   "id": "2b66f4e2",
   "metadata": {},
   "outputs": [
    {
     "name": "stdout",
     "output_type": "stream",
     "text": [
      "Interictal: (23, 2764812) Preictal: (23, 691203)\n",
      "All: (23, 3456015)\n"
     ]
    }
   ],
   "source": [
    "interictal_input = np.hstack(interictal_data)\n",
    "preictal_input = np.hstack(preictal_data)\n",
    "print('Interictal:', interictal_input.shape, 'Preictal:', preictal_input.shape)\n",
    "X = np.hstack((interictal_input, preictal_input))\n",
    "print('All:', X.shape)"
   ]
  },
  {
   "cell_type": "markdown",
   "id": "a92c1608",
   "metadata": {},
   "source": [
    "### Online Prediction: Linear SVM"
   ]
  },
  {
   "cell_type": "code",
   "execution_count": 6,
   "id": "00658bc8",
   "metadata": {},
   "outputs": [
    {
     "name": "stdout",
     "output_type": "stream",
     "text": [
      "Model: chb10_AR_SVM_Linear\n",
      "Input length: 3456015\n",
      "Input channels: 23\n",
      "Model: AR(2)\n",
      "MA lookback: 30\n",
      "Window size: 512\n",
      "Sampling frequency: 256 Hz\n",
      "Prediction frequency: 0.5 Hz\n"
     ]
    }
   ],
   "source": [
    "# online prediction parameters\n",
    "sig = X                  # Feed input signal\n",
    "fs = 256                 # sampling frequency (Hz)\n",
    "N = 512                  # fs = N*fp (N must be a natural number)\n",
    "fp = fs/N                # prediction frequency\n",
    "n_i = 2                  # AR model order\n",
    "t_s = 1/fs               # Input signal time period\n",
    "n_c = X.shape[0]       # Number of EEG electrodes (channels)\n",
    "m = 30                   # MA parameter\n",
    "\n",
    "modelname = f'{case}_AR_SVM_Linear'\n",
    "modelpath = modelroot + '/' + modelname + '.joblib'\n",
    "model = load(modelpath) # load model\n",
    "\n",
    "print(f'Model: {modelname}')\n",
    "print(f'Input length: {sig.shape[1]}')\n",
    "print(f'Input channels: {n_c}')\n",
    "print(f'Model: AR({n_i})')\n",
    "print(f'MA lookback: {m}')\n",
    "print(f'Window size: {N}')\n",
    "print(f'Sampling frequency: {fs} Hz')\n",
    "print(f'Prediction frequency: {fp} Hz')"
   ]
  },
  {
   "cell_type": "code",
   "execution_count": 7,
   "id": "53d39fef",
   "metadata": {},
   "outputs": [
    {
     "name": "stderr",
     "output_type": "stream",
     "text": [
      "Classifying... : 100%|██████████| 3455501/3455501 [00:34<00:00, 98960.35it/s] \n"
     ]
    }
   ],
   "source": [
    "# online prediction\n",
    "fp = fs/N                                                # Prediction frequency\n",
    "t_s = 1/fs                                               # Input signal time period\n",
    "\n",
    "a_k_list = []                                              # Sequential buffer for  MA samples\n",
    "a_h_k_list = []                                            # Sequential buffer for AR signal samples\n",
    "k_list = []                                                # Sequential buffer for time index in prediction point _k\n",
    "preds = []\n",
    "\n",
    "n_c = sig.shape[0]                                         # Number of input channels\n",
    "n = sig.shape[1]                                           # Total number of input samples\n",
    "a = 1.8 * np.random.randn(n_c, n_i)                   # Initialise AR coefficients\n",
    "c = m * np.ones(m)                               # Initialise MA coefficients\n",
    "c = c / c.sum()\n",
    "\n",
    "Ik = N                                                # Window width\n",
    "for _k in tqdm(range(Ik + n_i, n), desc='Classifying... '): # Sliding window\n",
    "    if (_k % N == 0):                                 # Decimation policy: _k occurs once every N samples\n",
    "        w_start = _k - Ik - n_i + 1                   # Starting index of sliding window (end index is maintained by _k)\n",
    "        a_h = np.zeros((n_c, n_i))                    # AR parameter estimates from samples in window\n",
    "        for _i in range(n_c):                              # Iterate channels\n",
    "            x_t = sig[_i, w_start:_k]                      # Multi-channel window over input signal\n",
    "            N_w = len(x_t)\n",
    "            ymat = np.zeros((N_w - n_i, n_i))\n",
    "            yb = np.zeros((N_w - n_i, n_i))\n",
    "            for _c in range(n_i, 0, -1):              # Past dependency of AR up to model order\n",
    "                ymat[ : , n_i - _c] = x_t[n_i - _c : -_c]\n",
    "            yb = x_t[n_i:]\n",
    "            a_h[_i] = np.linalg.pinv(ymat) @ yb            # Least squares solution to optimal parameters via Moore-Penrose Pseudo Inverse\n",
    "        a_k = np.zeros((n_c, n_i))\n",
    "        a_h_k_idx = len(a_h_k_list) - 1                    # Index to most recent block of AR parameters of shape: (n_c, n_i)\n",
    "        for _j in range(m):                           # MA smoothing of AR parameters going back m units of time, in timescale k\n",
    "            if len(a_h_k_list) > m:                   # Only begin smoothing once unit of time elapsed is greater than m\n",
    "                a_k = c[_j] * a_h_k_list[a_h_k_idx - _j]\n",
    "        a_k = np.mean(a_k, axis=0)                         # Mean over channels\n",
    "        \n",
    "        # classify a_k (feature)\n",
    "        p = model.predict(a_k.reshape(1, -1))\n",
    "        preds.append(p)        \n",
    "        \n",
    "        k_list.append(_k)\n",
    "        a_h_k_list.append(a_h)\n",
    "        a_k_list.append(a_k)\n",
    "k = np.array(k_list)\n",
    "a_h_k = np.array(a_h_k_list)\n",
    "a_k = np.array(a_k_list)"
   ]
  },
  {
   "cell_type": "code",
   "execution_count": 8,
   "id": "493dad72",
   "metadata": {},
   "outputs": [
    {
     "name": "stdout",
     "output_type": "stream",
     "text": [
      "(6749,)\n",
      "(3456015,)\n",
      "Preictal start time: 3.0\n",
      "(6749, 2)\n"
     ]
    }
   ],
   "source": [
    "prediction_sig = np.hstack(preds)\n",
    "print(prediction_sig.shape)\n",
    "\n",
    "t = np.arange(0, X.shape[1]) / fs\n",
    "X_mean = np.mean(X, axis=0)\n",
    "print(X_mean.shape)\n",
    "\n",
    "t_preictal = np.rint(np.max(np.arange(0, interictal_input.shape[1]) / fs / 3600))\n",
    "print('Preictal start time:', t_preictal)\n",
    "\n",
    "k = np.hstack(k_list)\n",
    "pt = np.arange(0, k.shape[0]) / (fs/N) / 3600\n",
    "\n",
    "ar_mean = np.mean(a_h_k, axis=1)\n",
    "print(ar_mean.shape)"
   ]
  },
  {
   "cell_type": "code",
   "execution_count": 9,
   "id": "1855650d",
   "metadata": {},
   "outputs": [
    {
     "data": {
      "image/png": "[encoded data removed]",
      "text/plain": [
       "<Figure size 864x432 with 1 Axes>"
      ]
     },
     "metadata": {
      "needs_background": "light"
     },
     "output_type": "display_data"
    }
   ],
   "source": [
    "# AR coefficient response\n",
    "sns.set_palette(sns.color_palette('Set2'))\n",
    "plt.figure(figsize=(12,6))\n",
    "sns.lineplot(x=pt, y=ar_mean[:,0], label='$a_1$')\n",
    "ax = sns.lineplot(x=pt, y=ar_mean[:,1], label='$a_2$')\n",
    "ax.fill_between(pt, 0, 1, where=pt < t_preictal, color='#9cd34a', alpha=0.3, transform=ax.get_xaxis_transform(), label='Interictal')\n",
    "ax.fill_between(pt, 0, 1, where=pt > t_preictal, color='#ffd429', alpha=0.3, transform=ax.get_xaxis_transform(), label='Preictal')\n",
    "\n",
    "plt.xlim([0,t.max()])\n",
    "plt.ylim([-1.2,2])\n",
    "plt.xlabel('Time, $h$')\n",
    "plt.ylabel('A.U.')\n",
    "plt.legend(loc=3)\n",
    "plt.tight_layout()\n",
    "plt.savefig(f'./figures/{case}_AR_RT.pdf')\n",
    "plt.show()"
   ]
  },
  {
   "cell_type": "code",
   "execution_count": 10,
   "id": "9b50cf20",
   "metadata": {},
   "outputs": [
    {
     "data": {
      "image/png": "[encoded data removed]",
      "text/plain": [
       "<Figure size 864x432 with 1 Axes>"
      ]
     },
     "metadata": {
      "needs_background": "light"
     },
     "output_type": "display_data"
    }
   ],
   "source": [
    "# online predictor response\n",
    "sns.set_palette(sns.color_palette('Set2'))\n",
    "plt.figure(figsize=(12,6))\n",
    "\n",
    "m = 150\n",
    "ma_predict_sig = np.convolve(prediction_sig, np.ones(m)/m, mode='same')\n",
    "ax = sns.lineplot(x=pt, y=prediction_sig, label='ARMA(2) Linear SVM')\n",
    "ax = sns.lineplot(x=pt, y=ma_predict_sig, label='MA')\n",
    "ax.axhline(y=0, ls='--', color='k', label='Alarm Threshold')\n",
    "ax.fill_between(pt, 0, 1, where=pt < t_preictal, color='#9cd34a', alpha=0.3, transform=ax.get_xaxis_transform(), label='Interictal')\n",
    "ax.fill_between(pt, 0, 1, where=pt > t_preictal, color='#ffd429', alpha=0.3, transform=ax.get_xaxis_transform(), label='Preictal')\n",
    "\n",
    "tickpos = [-1,1] # show only classes: -1 and 1\n",
    "plt.yticks(tickpos,tickpos)\n",
    "\n",
    "plt.xlim([0,t.max()])\n",
    "plt.ylim([-2,2])\n",
    "plt.xlabel('Time, $h$')\n",
    "plt.ylabel('Class')\n",
    "plt.legend(loc=3)\n",
    "plt.tight_layout()\n",
    "plt.savefig(f'./figures/{modelname}_RT.pdf')\n",
    "plt.show()"
   ]
  },
  {
   "cell_type": "markdown",
   "id": "44c5c510",
   "metadata": {},
   "source": [
    "### Online Prediction: RBF SVM"
   ]
  },
  {
   "cell_type": "code",
   "execution_count": 11,
   "id": "8eb61f45",
   "metadata": {},
   "outputs": [
    {
     "name": "stdout",
     "output_type": "stream",
     "text": [
      "Model: chb10_AR_SVM_RBF\n",
      "Input length: 3456015\n",
      "Input channels: 23\n",
      "Model: AR(2)\n",
      "MA lookback: 30\n",
      "Window size: 512\n",
      "Sampling frequency: 256 Hz\n",
      "Prediction frequency: 0.5 Hz\n"
     ]
    }
   ],
   "source": [
    "# online prediction parameters\n",
    "sig = X                  # Feed input signal\n",
    "fs = 256                 # sampling frequency (Hz)\n",
    "N = 512                  # fs = N*fp (N must be a natural number)\n",
    "fp = fs/N                # prediction frequency\n",
    "n_i = 2                  # AR model order\n",
    "t_s = 1/fs               # Input signal time period\n",
    "n_c = X.shape[0]       # Number of EEG electrodes (channels)\n",
    "m = 30                   # MA parameter\n",
    "\n",
    "modelname = f'{case}_AR_SVM_RBF'\n",
    "modelpath = modelroot + '/' + modelname + '.joblib'\n",
    "model = load(modelpath) # load model\n",
    "\n",
    "print(f'Model: {modelname}')\n",
    "print(f'Input length: {sig.shape[1]}')\n",
    "print(f'Input channels: {n_c}')\n",
    "print(f'Model: AR({n_i})')\n",
    "print(f'MA lookback: {m}')\n",
    "print(f'Window size: {N}')\n",
    "print(f'Sampling frequency: {fs} Hz')\n",
    "print(f'Prediction frequency: {fp} Hz')"
   ]
  },
  {
   "cell_type": "code",
   "execution_count": 12,
   "id": "1d852e47",
   "metadata": {},
   "outputs": [
    {
     "name": "stderr",
     "output_type": "stream",
     "text": [
      "Classifying... : 100%|██████████| 3455501/3455501 [00:28<00:00, 121190.74it/s]\n"
     ]
    }
   ],
   "source": [
    "# online prediction\n",
    "fp = fs/N                                                # Prediction frequency\n",
    "t_s = 1/fs                                               # Input signal time period\n",
    "\n",
    "a_k_list = []                                              # Sequential buffer for  MA samples\n",
    "a_h_k_list = []                                            # Sequential buffer for AR signal samples\n",
    "k_list = []                                                # Sequential buffer for time index in prediction point _k\n",
    "preds = []\n",
    "\n",
    "n_c = sig.shape[0]                                         # Number of input channels\n",
    "n = sig.shape[1]                                           # Total number of input samples\n",
    "a = 1.8 * np.random.randn(n_c, n_i)                   # Initialise AR coefficients\n",
    "c = m * np.ones(m)                               # Initialise MA coefficients\n",
    "c = c / c.sum()\n",
    "\n",
    "Ik = N                                                # Window width\n",
    "for _k in tqdm(range(Ik + n_i, n), desc='Classifying... '): # Sliding window\n",
    "    if (_k % N == 0):                                 # Decimation policy: _k occurs once every N samples\n",
    "        w_start = _k - Ik - n_i + 1                   # Starting index of sliding window (end index is maintained by _k)\n",
    "        a_h = np.zeros((n_c, n_i))                    # AR parameter estimates from samples in window\n",
    "        for _i in range(n_c):                              # Iterate channels\n",
    "            x_t = sig[_i, w_start:_k]                      # Multi-channel window over input signal\n",
    "            N_w = len(x_t)\n",
    "            ymat = np.zeros((N_w - n_i, n_i))\n",
    "            yb = np.zeros((N_w - n_i, n_i))\n",
    "            for _c in range(n_i, 0, -1):              # Past dependency of AR up to model order\n",
    "                ymat[ : , n_i - _c] = x_t[n_i - _c : -_c]\n",
    "            yb = x_t[n_i:]\n",
    "            a_h[_i] = np.linalg.pinv(ymat) @ yb            # Least squares solution to optimal parameters via Moore-Penrose Pseudo Inverse\n",
    "        a_k = np.zeros((n_c, n_i))\n",
    "        a_h_k_idx = len(a_h_k_list) - 1                    # Index to most recent block of AR parameters of shape: (n_c, n_i)\n",
    "        for _j in range(m):                           # MA smoothing of AR parameters going back m units of time, in timescale k\n",
    "            if len(a_h_k_list) > m:                   # Only begin smoothing once unit of time elapsed is greater than m\n",
    "                a_k = c[_j] * a_h_k_list[a_h_k_idx - _j]\n",
    "        a_k = np.mean(a_k, axis=0)                         # Mean over channels\n",
    "        \n",
    "        # classify a_k (feature)\n",
    "        p = model.predict(a_k.reshape(1, -1))\n",
    "        preds.append(p)        \n",
    "        \n",
    "        k_list.append(_k)\n",
    "        a_h_k_list.append(a_h)\n",
    "        a_k_list.append(a_k)\n",
    "k = np.array(k_list)\n",
    "a_h_k = np.array(a_h_k_list)\n",
    "a_k = np.array(a_k_list)"
   ]
  },
  {
   "cell_type": "code",
   "execution_count": 13,
   "id": "ede5366a",
   "metadata": {},
   "outputs": [
    {
     "name": "stdout",
     "output_type": "stream",
     "text": [
      "Preictal start time: 3.0\n"
     ]
    }
   ],
   "source": [
    "prediction_sig = np.hstack(preds) # online prediction sig\n",
    "t = np.arange(0, X.shape[1]) / fs # times for input sig\n",
    "X_mean = np.mean(X, axis=0) # input sig, mean over channels\n",
    "t_preictal = np.rint(np.max(np.arange(0, interictal_input.shape[1]) / fs / 3600))\n",
    "print('Preictal start time:', t_preictal)\n",
    "k = np.hstack(k_list)\n",
    "pt = np.arange(0, k.shape[0]) / (fs/N) / 3600\n",
    "ar_mean = np.mean(a_h_k, axis=1)"
   ]
  },
  {
   "cell_type": "code",
   "execution_count": 14,
   "id": "4d23bbf2",
   "metadata": {},
   "outputs": [
    {
     "data": {
      "image/png": "[encoded data removed]",
      "text/plain": [
       "<Figure size 864x432 with 1 Axes>"
      ]
     },
     "metadata": {
      "needs_background": "light"
     },
     "output_type": "display_data"
    }
   ],
   "source": [
    "# online predictor response\n",
    "plt.figure(figsize=(12,6))\n",
    "\n",
    "sns.set_palette(sns.color_palette('Set2'))\n",
    "m = 150\n",
    "ma_predict_sig = np.convolve(prediction_sig, np.ones(m)/m, mode='same')\n",
    "ax = sns.lineplot(x=pt, y=prediction_sig, label='ARMA(2) Radial Basis SVM')\n",
    "ax = sns.lineplot(x=pt, y=ma_predict_sig, label='MA')\n",
    "ax.axhline(y=0, ls='--', color='k', label='Alarm Threshold')\n",
    "ax.fill_between(pt, 0, 1, where=pt < t_preictal, color='#9cd34a', alpha=0.3, transform=ax.get_xaxis_transform(), label='Interictal')\n",
    "ax.fill_between(pt, 0, 1, where=pt > t_preictal, color='#ffd429', alpha=0.3, transform=ax.get_xaxis_transform(), label='Preictal')\n",
    "\n",
    "tickpos = [-1,1] # show only classes: -1 and 1\n",
    "plt.yticks(tickpos,tickpos)\n",
    "\n",
    "plt.xlim([0,t.max()])\n",
    "plt.ylim([-2,2])\n",
    "plt.xlabel('Time, $h$')\n",
    "plt.ylabel('Class')\n",
    "plt.legend(loc=3)\n",
    "plt.tight_layout()\n",
    "plt.savefig(f'./figures/{modelname}_RT.pdf')\n",
    "plt.show()"
   ]
  },
  {
   "cell_type": "markdown",
   "id": "bd41cba9",
   "metadata": {},
   "source": [
    "### Online Prediction: Logistic Regression"
   ]
  },
  {
   "cell_type": "code",
   "execution_count": 15,
   "id": "0ab4ed2a",
   "metadata": {},
   "outputs": [
    {
     "name": "stdout",
     "output_type": "stream",
     "text": [
      "Model: chb10_AR_Logistic_Regression\n",
      "Input length: 3456015\n",
      "Input channels: 23\n",
      "Model: AR(2)\n",
      "MA lookback: 30\n",
      "Window size: 512\n",
      "Sampling frequency: 256 Hz\n",
      "Prediction frequency: 0.5 Hz\n"
     ]
    }
   ],
   "source": [
    "# online prediction parameters\n",
    "sig = X                  # Feed input signal\n",
    "fs = 256                 # sampling frequency (Hz)\n",
    "N = 512                  # fs = N*fp (N must be a natural number)\n",
    "fp = fs/N                # prediction frequency\n",
    "n_i = 2                  # AR model order\n",
    "t_s = 1/fs               # Input signal time period\n",
    "n_c = X.shape[0]       # Number of EEG electrodes (channels)\n",
    "m = 30                   # MA parameter\n",
    "\n",
    "modelname = f'{case}_AR_Logistic_Regression'\n",
    "modelpath = modelroot + '/' + modelname + '.joblib'\n",
    "model = load(modelpath) # load model\n",
    "\n",
    "print(f'Model: {modelname}')\n",
    "print(f'Input length: {sig.shape[1]}')\n",
    "print(f'Input channels: {n_c}')\n",
    "print(f'Model: AR({n_i})')\n",
    "print(f'MA lookback: {m}')\n",
    "print(f'Window size: {N}')\n",
    "print(f'Sampling frequency: {fs} Hz')\n",
    "print(f'Prediction frequency: {fp} Hz')"
   ]
  },
  {
   "cell_type": "code",
   "execution_count": 16,
   "id": "11b877be",
   "metadata": {},
   "outputs": [
    {
     "name": "stderr",
     "output_type": "stream",
     "text": [
      "Classifying... : 100%|██████████| 3455501/3455501 [00:31<00:00, 108037.17it/s]\n"
     ]
    }
   ],
   "source": [
    "# online prediction\n",
    "fp = fs/N                                                # Prediction frequency\n",
    "t_s = 1/fs                                               # Input signal time period\n",
    "\n",
    "a_k_list = []                                              # Sequential buffer for  MA samples\n",
    "a_h_k_list = []                                            # Sequential buffer for AR signal samples\n",
    "k_list = []                                                # Sequential buffer for time index in prediction point _k\n",
    "preds = []\n",
    "\n",
    "n_c = sig.shape[0]                                         # Number of input channels\n",
    "n = sig.shape[1]                                           # Total number of input samples\n",
    "a = 1.8 * np.random.randn(n_c, n_i)                   # Initialise AR coefficients\n",
    "c = m * np.ones(m)                               # Initialise MA coefficients\n",
    "c = c / c.sum()\n",
    "\n",
    "Ik = N                                                # Window width\n",
    "for _k in tqdm(range(Ik + n_i, n), desc='Classifying... '): # Sliding window\n",
    "    if (_k % N == 0):                                 # Decimation policy: _k occurs once every N samples\n",
    "        w_start = _k - Ik - n_i + 1                   # Starting index of sliding window (end index is maintained by _k)\n",
    "        a_h = np.zeros((n_c, n_i))                    # AR parameter estimates from samples in window\n",
    "        for _i in range(n_c):                              # Iterate channels\n",
    "            x_t = sig[_i, w_start:_k]                      # Multi-channel window over input signal\n",
    "            N_w = len(x_t)\n",
    "            ymat = np.zeros((N_w - n_i, n_i))\n",
    "            yb = np.zeros((N_w - n_i, n_i))\n",
    "            for _c in range(n_i, 0, -1):              # Past dependency of AR up to model order\n",
    "                ymat[ : , n_i - _c] = x_t[n_i - _c : -_c]\n",
    "            yb = x_t[n_i:]\n",
    "            a_h[_i] = np.linalg.pinv(ymat) @ yb            # Least squares solution to optimal parameters via Moore-Penrose Pseudo Inverse\n",
    "        a_k = np.zeros((n_c, n_i))\n",
    "        a_h_k_idx = len(a_h_k_list) - 1                    # Index to most recent block of AR parameters of shape: (n_c, n_i)\n",
    "        for _j in range(m):                           # MA smoothing of AR parameters going back m units of time, in timescale k\n",
    "            if len(a_h_k_list) > m:                   # Only begin smoothing once unit of time elapsed is greater than m\n",
    "                a_k = c[_j] * a_h_k_list[a_h_k_idx - _j]\n",
    "        a_k = np.mean(a_k, axis=0)                         # Mean over channels\n",
    "        \n",
    "        # classify a_k (feature)\n",
    "        p = model.predict(a_k.reshape(1, -1))\n",
    "        preds.append(p)        \n",
    "        \n",
    "        k_list.append(_k)\n",
    "        a_h_k_list.append(a_h)\n",
    "        a_k_list.append(a_k)\n",
    "k = np.array(k_list)\n",
    "a_h_k = np.array(a_h_k_list)\n",
    "a_k = np.array(a_k_list)"
   ]
  },
  {
   "cell_type": "code",
   "execution_count": 17,
   "id": "e487912b",
   "metadata": {},
   "outputs": [
    {
     "name": "stdout",
     "output_type": "stream",
     "text": [
      "Preictal start time (h): 3.0\n"
     ]
    }
   ],
   "source": [
    "prediction_sig = np.hstack(preds) # online prediction sig\n",
    "t = np.arange(0, X.shape[1]) / fs # times for input sig\n",
    "X_mean = np.mean(X, axis=0) # input sig, mean over channels\n",
    "t_preictal = np.rint(np.max(np.arange(0, interictal_input.shape[1]) / fs / 3600))\n",
    "print('Preictal start time (h):', t_preictal)\n",
    "k = np.hstack(k_list)\n",
    "pt = np.arange(0, k.shape[0]) / (fs/N) / 3600\n",
    "ar_mean = np.mean(a_h_k, axis=1)"
   ]
  },
  {
   "cell_type": "code",
   "execution_count": 24,
   "id": "c62cb495",
   "metadata": {},
   "outputs": [
    {
     "data": {
      "image/png": "[encoded data removed]",
      "text/plain": [
       "<Figure size 864x432 with 1 Axes>"
      ]
     },
     "metadata": {
      "needs_background": "light"
     },
     "output_type": "display_data"
    }
   ],
   "source": [
    "# online predictor response\n",
    "plt.figure(figsize=(12,6))\n",
    "\n",
    "sns.set_palette(sns.color_palette('Set2'))\n",
    "\n",
    "m = 150\n",
    "ma_predict_sig = np.convolve(prediction_sig, np.ones(m)/m, mode='same')\n",
    "sns.lineplot(x=pt, y=prediction_sig, label='ARMA(2) Logistic Regression')\n",
    "ax = sns.lineplot(x=pt, y=ma_predict_sig, label='MA')\n",
    "ax.axhline(y=0, ls='--', color='k', label='Alarm Threshold')\n",
    "ax.fill_between(pt, 0, 1, where=pt < t_preictal, color='#9cd34a', alpha=0.3, transform=ax.get_xaxis_transform(), label='Interictal')\n",
    "ax.fill_between(pt, 0, 1, where=pt > t_preictal, color='#ffd429', alpha=0.3, transform=ax.get_xaxis_transform(), label='Preictal')\n",
    "# plt.axvline(x=t_preictal, ls='--', label='Preictal')\n",
    "\n",
    "tickpos = [-1,1] # show only classes: -1 and 1\n",
    "plt.yticks(tickpos,tickpos)\n",
    "\n",
    "plt.xlim([0,t.max()])\n",
    "plt.ylim([-2,2])\n",
    "plt.xlabel('Time, $h$')\n",
    "plt.ylabel('Class')\n",
    "plt.legend(loc=3)\n",
    "plt.tight_layout()\n",
    "plt.savefig(f'./figures/{modelname}_RT.pdf')\n",
    "plt.show()"
   ]
  },
  {
   "cell_type": "code",
   "execution_count": 22,
   "id": "76f04646",
   "metadata": {},
   "outputs": [
    {
     "data": {
      "text/plain": [
       "3.7488888888888887"
      ]
     },
     "execution_count": 22,
     "metadata": {},
     "output_type": "execute_result"
    }
   ],
   "source": [
    "max(pt)"
   ]
  },
  {
   "cell_type": "code",
   "execution_count": null,
   "id": "d6d4703f",
   "metadata": {},
   "outputs": [],
   "source": []
  }
 ],
 "metadata": {
  "kernelspec": {
   "display_name": "Python 3",
   "language": "python",
   "name": "python3"
  },
  "language_info": {
   "codemirror_mode": {
    "name": "ipython",
    "version": 3
   },
   "file_extension": ".py",
   "mimetype": "text/x-python",
   "name": "python",
   "nbconvert_exporter": "python",
   "pygments_lexer": "ipython3",
   "version": "3.8.5"
  }
 },
 "nbformat": 4,
 "nbformat_minor": 5
}
