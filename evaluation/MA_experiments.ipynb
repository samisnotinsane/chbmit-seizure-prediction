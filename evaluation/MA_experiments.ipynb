{
 "cells": [
  {
   "cell_type": "code",
   "execution_count": 1,
   "id": "fb851c0b",
   "metadata": {},
   "outputs": [],
   "source": [
    "import numpy as np\n",
    "from ARMA import ARMA\n",
    "import pandas as pd\n",
    "import seaborn as sns\n",
    "from sklearn.svm import SVC, OneClassSVM\n",
    "import matplotlib.pyplot as plt\n",
    "import seaborn as sns\n",
    "from joblib import load\n",
    "from tqdm import tqdm\n",
    "import os"
   ]
  },
  {
   "cell_type": "code",
   "execution_count": 2,
   "id": "66e5828a",
   "metadata": {},
   "outputs": [
    {
     "name": "stderr",
     "output_type": "stream",
     "text": [
      "100%|██████████| 1/1 [00:00<00:00,  4.44it/s]\n",
      "100%|██████████| 1/1 [00:00<00:00,  6.35it/s]\n"
     ]
    },
    {
     "name": "stdout",
     "output_type": "stream",
     "text": [
      "['chb01_02_interictal.npy']\n",
      "['chb01_04_preictal.npy']\n",
      "Interictal: (23, 230401) Preictal: (23, 230401)\n",
      "All: (23, 460802)\n"
     ]
    }
   ],
   "source": [
    "case = 'chb01'\n",
    "sset = 'Train'\n",
    "fe = 'AR'\n",
    "modelroot = './models' + '/' + case + '/' + fe\n",
    "\n",
    "\n",
    "root = './data' + '/' + sset + '/' + case\n",
    "cclass_a = 'Interictal'\n",
    "cclass_b = 'Preictal'\n",
    "\n",
    "interictal_dir = './data' + '/' + sset + '/' + case + '/' + cclass_a\n",
    "preictal_dir = './data' + '/' + sset + '/' + case + '/' + cclass_b\n",
    "interictal_files = os.listdir(interictal_dir)[:1]\n",
    "preictal_files = os.listdir(preictal_dir)[:1]\n",
    "\n",
    "# load data\n",
    "interictal_data = []\n",
    "for i, _ in enumerate(tqdm(interictal_files)):\n",
    "    # interictal\n",
    "    filepath = root + '/' + cclass_a + '/' + interictal_files[i]\n",
    "    data = np.load(filepath)\n",
    "    interictal_data.append(data)\n",
    "del data, filepath\n",
    "\n",
    "preictal_data = []\n",
    "for i, _ in enumerate(tqdm(preictal_files)):\n",
    "    # preictal\n",
    "    filepath = root + '/' + cclass_b + '/' + preictal_files[i]\n",
    "    data = np.load(filepath)\n",
    "    preictal_data.append(data)\n",
    "del data, filepath\n",
    "\n",
    "interictal_input = np.hstack(interictal_data)\n",
    "preictal_input = np.hstack(preictal_data)\n",
    "\n",
    "print(interictal_files)\n",
    "print(preictal_files)\n",
    "print('Interictal:', interictal_input.shape, 'Preictal:', preictal_input.shape)\n",
    "X = np.hstack((interictal_input, preictal_input))\n",
    "print('All:', X.shape)"
   ]
  },
  {
   "cell_type": "code",
   "execution_count": 3,
   "id": "f9f32cd0",
   "metadata": {},
   "outputs": [
    {
     "name": "stdout",
     "output_type": "stream",
     "text": [
      "Model: chb01_AR_SVM_Linear\n",
      "Input length: 460802\n",
      "Input channels: 23\n",
      "Model: AR(2)\n",
      "MA lookback: 30\n",
      "Window size: 512\n",
      "Sampling frequency: 256 Hz\n",
      "Prediction frequency: 0.5 Hz\n"
     ]
    }
   ],
   "source": [
    "# online prediction parameters\n",
    "sig = X                  # Feed input signal\n",
    "fs = 256                 # sampling frequency (Hz)\n",
    "N = 512                  # fs = N*fp (N must be a natural number)\n",
    "fp = fs/N                # prediction frequency\n",
    "n_i = 2                  # AR model order\n",
    "t_s = 1/fs               # Input signal time period\n",
    "n_c = X.shape[0]       # Number of EEG electrodes (channels)\n",
    "m = 30                   # MA parameter\n",
    "mp = 5         # MA prediction signal parameter (higher value means smoother prediction signal)\n",
    "\n",
    "modelname = 'chb01_AR_SVM_Linear'\n",
    "modelpath = modelroot + '/' + modelname + '.joblib'\n",
    "model = load(modelpath) # load model\n",
    "\n",
    "print(f'Model: {modelname}')\n",
    "print(f'Input length: {sig.shape[1]}')\n",
    "print(f'Input channels: {n_c}')\n",
    "print(f'Model: AR({n_i})')\n",
    "print(f'MA lookback: {m}')\n",
    "print(f'Window size: {N}')\n",
    "print(f'Sampling frequency: {fs} Hz')\n",
    "print(f'Prediction frequency: {fp} Hz')"
   ]
  },
  {
   "cell_type": "code",
   "execution_count": 4,
   "id": "9df6f7de",
   "metadata": {},
   "outputs": [
    {
     "name": "stderr",
     "output_type": "stream",
     "text": [
      "Analysing... : 100%|██████████| 460288/460288 [00:04<00:00, 100206.14it/s]\n"
     ]
    }
   ],
   "source": [
    "# online prediction\n",
    "fp = fs/N                                                # Prediction frequency\n",
    "t_s = 1/fs                                               # Input signal time period\n",
    "\n",
    "a_k_list = []                                              # Sequential buffer for  MA samples\n",
    "a_h_k_list = []                                            # Sequential buffer for AR signal samples\n",
    "k_list = []                                                # Sequential buffer for time index in prediction point _k\n",
    "preds = []\n",
    "buf_MA = -1*np.ones((0))                                   # prediction signal MA buffer\n",
    "p_MAs = []                                                 # prediction signal MA history\n",
    "\n",
    "n_c = sig.shape[0]                                         # Number of input channels\n",
    "n = sig.shape[1]                                           # Total number of input samples\n",
    "a = 1.8 * np.random.randn(n_c, n_i)                        # Initialise AR coefficients\n",
    "c = m * np.ones(m)                                         # Initialise MA coefficients\n",
    "c = c / c.sum()\n",
    "\n",
    "Ik = N                                                     # Window width\n",
    "for _k in tqdm(range(Ik + n_i, n), desc='Analysing... '):  # Sliding window\n",
    "    if (_k % N == 0):                                      # Decimation policy: _k occurs once every N samples\n",
    "        w_start = _k - Ik - n_i + 1                        # Starting index of sliding window (end index is maintained by _k)\n",
    "        a_h = np.zeros((n_c, n_i))                         # AR parameter estimates from samples in window\n",
    "        for _i in range(n_c):                              # Iterate channels\n",
    "            x_t = sig[_i, w_start:_k]                      # Multi-channel window over input signal\n",
    "            N_w = len(x_t)\n",
    "            ymat = np.zeros((N_w - n_i, n_i))\n",
    "            yb = np.zeros((N_w - n_i, n_i))\n",
    "            for _c in range(n_i, 0, -1):                   # Past dependency of AR up to model order\n",
    "                ymat[ : , n_i - _c] = x_t[n_i - _c : -_c]\n",
    "            yb = x_t[n_i:]\n",
    "            a_h[_i] = np.linalg.pinv(ymat) @ yb            # Least squares solution to optimal parameters via Moore-Penrose Pseudo Inverse\n",
    "        a_k = np.zeros((n_c, n_i))\n",
    "        a_h_k_idx = len(a_h_k_list) - 1                    # Index to most recent block of AR parameters of shape: (n_c, n_i)\n",
    "        for _j in range(m):                                # MA smoothing of AR parameters going back m units of time, in timescale k\n",
    "            if len(a_h_k_list) > m:                        # Only begin smoothing once unit of time elapsed is greater than m\n",
    "                a_k = c[_j] * a_h_k_list[a_h_k_idx - _j]\n",
    "        a_k = np.mean(a_k, axis=0)                         # Mean over channels\n",
    "        \n",
    "        # classify a_k (feature)\n",
    "        p = model.predict(a_k.reshape(1, -1))\n",
    "        preds.append(p)      \n",
    "        \n",
    "        # MA of prediction signal\n",
    "        buf_MA = np.append(buf_MA, p)\n",
    "        p_MA = np.mean(buf_MA)\n",
    "        if len(buf_MA) == mp:\n",
    "            buf_MA = np.delete(buf_MA, 0)\n",
    "        \n",
    "        p_MAs.append(p_MA)\n",
    "        k_list.append(_k)\n",
    "        a_h_k_list.append(a_h)\n",
    "        a_k_list.append(a_k)\n",
    "k = np.array(k_list)\n",
    "a_h_k = np.array(a_h_k_list)\n",
    "a_k = np.array(a_k_list)\n",
    "pt = np.arange(0, k.shape[0]) / (fs/N) / 3600"
   ]
  },
  {
   "cell_type": "code",
   "execution_count": 5,
   "id": "bcdff8cb",
   "metadata": {},
   "outputs": [
    {
     "data": {
      "image/png": "[encoded data removed]",
      "text/plain": [
       "<Figure size 864x432 with 1 Axes>"
      ]
     },
     "metadata": {
      "needs_background": "light"
     },
     "output_type": "display_data"
    }
   ],
   "source": [
    "# online predictor response\n",
    "sns.set_palette(sns.color_palette('Set2'))\n",
    "plt.figure(figsize=(12,6))\n",
    "\n",
    "\n",
    "prediction_sig = np.hstack(preds)\n",
    "t_preictal = 0.25\n",
    "\n",
    "ax = sns.lineplot(x=pt, y=prediction_sig, label='ARMA(2) Linear SVM')\n",
    "sns.lineplot(x=pt, y=p_MAs, label='MA')\n",
    "ax.axhline(y=0, ls='--', color='k', label='Alarm Threshold')\n",
    "ax.fill_between(pt, 0, 1, where=pt < t_preictal, color='#4dd675', alpha=0.3, transform=ax.get_xaxis_transform(), label='Interictal')\n",
    "ax.fill_between(pt, 0, 1, where=pt > t_preictal, color='#ffd429', alpha=0.3, transform=ax.get_xaxis_transform(), label='Preictal')\n",
    "\n",
    "# plt.xticks(np.arange(0,3.76,0.25))\n",
    "tickpos = [-1,1] # show only classes: -1 and 1\n",
    "plt.yticks(tickpos,tickpos)\n",
    "\n",
    "# plt.xlim([0,3.75])\n",
    "plt.ylim([-2,2])\n",
    "plt.xlabel('Time, $h$')\n",
    "plt.ylabel('Class')\n",
    "plt.legend(loc=3)\n",
    "plt.tight_layout()\n",
    "# plt.savefig('./figures/chb01_AR_SVM_Linear.pdf')\n",
    "plt.show()"
   ]
  },
  {
   "cell_type": "code",
   "execution_count": null,
   "id": "10dfc3b5",
   "metadata": {},
   "outputs": [],
   "source": []
  }
 ],
 "metadata": {
  "kernelspec": {
   "display_name": "Python 3",
   "language": "python",
   "name": "python3"
  },
  "language_info": {
   "codemirror_mode": {
    "name": "ipython",
    "version": 3
   },
   "file_extension": ".py",
   "mimetype": "text/x-python",
   "name": "python",
   "nbconvert_exporter": "python",
   "pygments_lexer": "ipython3",
   "version": "3.8.5"
  }
 },
 "nbformat": 4,
 "nbformat_minor": 5
}
