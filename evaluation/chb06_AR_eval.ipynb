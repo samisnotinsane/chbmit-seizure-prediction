{
 "cells": [
  {
   "cell_type": "code",
   "execution_count": 26,
   "id": "106263de",
   "metadata": {},
   "outputs": [],
   "source": [
    "import numpy as np\n",
    "from ARMA import ARMA\n",
    "from sklearn.model_selection import train_test_split\n",
    "import pandas as pd\n",
    "import seaborn as sns\n",
    "from sklearn.linear_model import LogisticRegression\n",
    "from sklearn.svm import SVC, OneClassSVM\n",
    "from sklearn.metrics import confusion_matrix, classification_report, f1_score\n",
    "import matplotlib.pyplot as plt"
   ]
  },
  {
   "cell_type": "code",
   "execution_count": 2,
   "id": "e35f2e1a",
   "metadata": {},
   "outputs": [],
   "source": [
    "root = './data/Train/chb06'\n",
    "cclass_a = 'Interictal'\n",
    "cclass_b = 'Preictal'\n",
    "\n",
    "interictal_files_training = ['chb06_02_interictal.npy', 'chb06_03_interictal.npy']\n",
    "interictal_file_validation = 'chb06_05_interictal.npy'\n",
    "\n",
    "preictal_files_training = ['chb06_01_8C_preictal.npy', 'chb06_01_GC_preictal.npy']\n",
    "preictal_file_validation = 'chb06_01_QO_preictal.npy'"
   ]
  },
  {
   "cell_type": "code",
   "execution_count": 3,
   "id": "e6ff2c6d",
   "metadata": {},
   "outputs": [
    {
     "name": "stdout",
     "output_type": "stream",
     "text": [
      "Input channels: 23\n",
      "Model: AR(2)\n",
      "MA lookback: 30\n",
      "Window size: 512\n",
      "Sampling frequency: 256 Hz\n",
      "Prediction frequency: 0.5 Hz\n"
     ]
    }
   ],
   "source": [
    "# ARMA parameters\n",
    "seed = 42\n",
    "fs = 256                 # sampling frequency (Hz)\n",
    "N = 512                  # fs = N*fp (N must be a natural number)\n",
    "fp = fs/N                # prediction frequency\n",
    "n_i = 2                  # AR model order\n",
    "t_s = 1/fs               # Input signal time period\n",
    "n_c = 23                 # Number of EEG electrodes (channels)\n",
    "m = 30                   # MA parameter\n",
    "print(f'Input channels: {n_c}')\n",
    "print(f'Model: AR({n_i})')\n",
    "print(f'MA lookback: {m}')\n",
    "print(f'Window size: {N}')\n",
    "print(f'Sampling frequency: {fs} Hz')\n",
    "print(f'Prediction frequency: {fp} Hz')\n",
    "ar = ARMA(window_width=N, order=n_i, memory=m, seed=seed)"
   ]
  },
  {
   "cell_type": "code",
   "execution_count": 4,
   "id": "df21e1c3",
   "metadata": {},
   "outputs": [
    {
     "name": "stderr",
     "output_type": "stream",
     "text": [
      "100%|██████████| 229887/229887 [00:02<00:00, 108554.47it/s]\n",
      "100%|██████████| 229887/229887 [00:02<00:00, 108660.02it/s]\n",
      "100%|██████████| 229887/229887 [00:01<00:00, 123673.89it/s]\n",
      "100%|██████████| 229887/229887 [00:01<00:00, 137323.79it/s]\n"
     ]
    }
   ],
   "source": [
    "# generate TRAIN AR features\n",
    "interictal_train_feature_list = []\n",
    "preictal_train_feature_list = []\n",
    "for i in range(2):\n",
    "    # interictal\n",
    "    filepath = root + '/' + cclass_a + '/' + interictal_files_training[i]\n",
    "    data = np.load(filepath)\n",
    "    _, _, features = ar.spin(sig=data, fs=256)\n",
    "    interictal_train_feature_list.append(features[31:])\n",
    "    # preictal\n",
    "    filepath = root + '/' + cclass_b + '/' + preictal_files_training[i]\n",
    "    data = np.load(filepath)\n",
    "    _, _, features = ar.spin(sig=data, fs=256)\n",
    "    preictal_train_feature_list.append(features[31:])\n",
    "del filepath, data, features"
   ]
  },
  {
   "cell_type": "code",
   "execution_count": 5,
   "id": "7cc80636",
   "metadata": {},
   "outputs": [
    {
     "name": "stderr",
     "output_type": "stream",
     "text": [
      "100%|██████████| 229887/229887 [00:01<00:00, 136603.10it/s]\n",
      "100%|██████████| 229887/229887 [00:02<00:00, 94868.91it/s] \n"
     ]
    }
   ],
   "source": [
    "# generate VALIDATION AR features\n",
    "# interictal\n",
    "filepath = root + '/' + cclass_a + '/' + interictal_file_validation\n",
    "data = np.load(filepath)\n",
    "_, _, interictal_val = ar.spin(sig=data, fs=256)\n",
    "interictal_val = interictal_val[31:]\n",
    "# preictal\n",
    "filepath = root + '/' + cclass_b + '/' + preictal_file_validation\n",
    "data = np.load(filepath)\n",
    "_, _, preictal_val = ar.spin(sig=data, fs=256)\n",
    "preictal_val = preictal_val[31:]\n",
    "del filepath, data"
   ]
  },
  {
   "cell_type": "code",
   "execution_count": 6,
   "id": "4a29dd0f",
   "metadata": {},
   "outputs": [
    {
     "name": "stdout",
     "output_type": "stream",
     "text": [
      "(418, 2) (418, 2)\n",
      "(418, 2) (418, 2)\n"
     ]
    }
   ],
   "source": [
    "print(interictal_train_feature_list[0].shape, preictal_train_feature_list[0].shape)\n",
    "print(interictal_val.shape, preictal_val.shape)"
   ]
  },
  {
   "cell_type": "code",
   "execution_count": 7,
   "id": "c6b266ca",
   "metadata": {},
   "outputs": [
    {
     "name": "stdout",
     "output_type": "stream",
     "text": [
      "(836, 2) (836, 2)\n"
     ]
    }
   ],
   "source": [
    "interictal_train = np.vstack(interictal_train_feature_list)\n",
    "preictal_train = np.vstack(preictal_train_feature_list)\n",
    "print(interictal_train.shape, preictal_train.shape)"
   ]
  },
  {
   "cell_type": "code",
   "execution_count": 8,
   "id": "a82c360a",
   "metadata": {},
   "outputs": [
    {
     "name": "stdout",
     "output_type": "stream",
     "text": [
      "(836,) (836,)\n"
     ]
    }
   ],
   "source": [
    "# generate TRAIN labels\n",
    "interictal_train_targets = -1 * np.ones(interictal_train.shape[0]) # interictal samples are labelled -1\n",
    "preictal_train_targets = np.ones(preictal_train.shape[0]) # preictal samples are labelled 1\n",
    "print(interictal_train_targets.shape, preictal_train_targets.shape)"
   ]
  },
  {
   "cell_type": "code",
   "execution_count": 9,
   "id": "75dcc85d",
   "metadata": {},
   "outputs": [
    {
     "name": "stdout",
     "output_type": "stream",
     "text": [
      "(418,) (418,)\n"
     ]
    }
   ],
   "source": [
    "# generate VALIDATION labels\n",
    "interictal_val_targets = -1 * np.ones(interictal_val.shape[0])\n",
    "preictal_val_targets = np.ones(preictal_val.shape[0])\n",
    "print(interictal_val_targets.shape, preictal_val_targets.shape)"
   ]
  },
  {
   "cell_type": "code",
   "execution_count": 10,
   "id": "badf31c4",
   "metadata": {},
   "outputs": [
    {
     "name": "stdout",
     "output_type": "stream",
     "text": [
      "(2508, 2) (2508,)\n"
     ]
    }
   ],
   "source": [
    "X = np.vstack((interictal_train, interictal_val, preictal_train, preictal_val))\n",
    "y = np.hstack((interictal_train_targets, interictal_val_targets, preictal_train_targets, preictal_val_targets))\n",
    "print(X.shape, y.shape)"
   ]
  },
  {
   "cell_type": "code",
   "execution_count": 11,
   "id": "eb27dbe1",
   "metadata": {},
   "outputs": [
    {
     "data": {
      "text/plain": [
       "<seaborn.axisgrid.JointGrid at 0x7fef4b9a3430>"
      ]
     },
     "execution_count": 11,
     "metadata": {},
     "output_type": "execute_result"
    },
    {
     "data": {
      "image/png": "[encoded data removed]",
      "text/plain": [
       "<Figure size 432x432 with 3 Axes>"
      ]
     },
     "metadata": {
      "needs_background": "light"
     },
     "output_type": "display_data"
    }
   ],
   "source": [
    "# visualise\n",
    "df = pd.DataFrame(X, columns=['Feature 1', 'Feature 2'])\n",
    "df['Period'] = y\n",
    "di = {-1: \"Interictal\", 1: \"Preictal\"} # map numeric target to string label\n",
    "df.replace({\"Period\": di}, inplace=True)\n",
    "palette = sns.color_palette('Set2', n_colors=2)\n",
    "sns.jointplot(data=df, x='Feature 1', y='Feature 2', hue='Period', kind='kde', palette=palette, alpha=0.6)"
   ]
  },
  {
   "cell_type": "code",
   "execution_count": 12,
   "id": "2121dc6e",
   "metadata": {},
   "outputs": [
    {
     "name": "stdout",
     "output_type": "stream",
     "text": [
      "(1680, 2) (828, 2)\n"
     ]
    }
   ],
   "source": [
    "# shuffle and split into TRAIN and VAL sets\n",
    "X_train, X_val, y_train, y_val = train_test_split(X, y, test_size=0.33, random_state=42)\n",
    "print(X_train.shape, X_val.shape)"
   ]
  },
  {
   "cell_type": "code",
   "execution_count": 23,
   "id": "aefd3d1c",
   "metadata": {},
   "outputs": [
    {
     "name": "stdout",
     "output_type": "stream",
     "text": [
      "[[  0 409]\n",
      " [  0 419]]\n",
      "              precision    recall  f1-score   support\n",
      "\n",
      "        -1.0       0.00      0.00      0.00       409\n",
      "         1.0       0.51      1.00      0.67       419\n",
      "\n",
      "    accuracy                           0.51       828\n",
      "   macro avg       0.25      0.50      0.34       828\n",
      "weighted avg       0.26      0.51      0.34       828\n",
      "\n"
     ]
    },
    {
     "name": "stderr",
     "output_type": "stream",
     "text": [
      "/Users/sameenislam/anaconda3/envs/ml/lib/python3.8/site-packages/sklearn/metrics/_classification.py:1221: UndefinedMetricWarning: Precision and F-score are ill-defined and being set to 0.0 in labels with no predicted samples. Use `zero_division` parameter to control this behavior.\n",
      "  _warn_prf(average, modifier, msg_start, len(result))\n"
     ]
    },
    {
     "data": {
      "image/png": "[encoded data removed]",
      "text/plain": [
       "<Figure size 432x288 with 2 Axes>"
      ]
     },
     "metadata": {
      "needs_background": "light"
     },
     "output_type": "display_data"
    }
   ],
   "source": [
    "# model training\n",
    "svc = SVC(kernel='linear', class_weight={-1:0.1, 1:0.9})\n",
    "svc.fit(X_train, y_train)\n",
    "\n",
    "y_pred = svc.predict(X_val)\n",
    "print(confusion_matrix(y_val, y_pred))\n",
    "print(classification_report(y_val, y_pred))\n",
    "confuse = confusion_matrix(y_val, y_pred)\n",
    "\n",
    "palette = sns.color_palette('crest', as_cmap=True)\n",
    "ax = sns.heatmap(confuse, annot=True, cmap=palette)\n",
    "ax.set_xticklabels([\"Interictal\", \"Preictal\"])\n",
    "ax.set_yticklabels([\"Interictal\", \"Preictal\"])\n",
    "ax.set_xlabel('Predicted')\n",
    "ax.set_ylabel('Ground Truth')\n",
    "plt.tight_layout()"
   ]
  },
  {
   "cell_type": "markdown",
   "id": "3c7e21df",
   "metadata": {},
   "source": [
    "The linear SVM performed worse than a random predictor as its F1 score was below 0.5"
   ]
  },
  {
   "cell_type": "code",
   "execution_count": 24,
   "id": "888a379e",
   "metadata": {},
   "outputs": [
    {
     "name": "stdout",
     "output_type": "stream",
     "text": [
      "[[  6 403]\n",
      " [  0 419]]\n",
      "              precision    recall  f1-score   support\n",
      "\n",
      "        -1.0       1.00      0.01      0.03       409\n",
      "         1.0       0.51      1.00      0.68       419\n",
      "\n",
      "    accuracy                           0.51       828\n",
      "   macro avg       0.75      0.51      0.35       828\n",
      "weighted avg       0.75      0.51      0.36       828\n",
      "\n"
     ]
    },
    {
     "data": {
      "image/png": "[encoded data removed]",
      "text/plain": [
       "<Figure size 432x288 with 2 Axes>"
      ]
     },
     "metadata": {
      "needs_background": "light"
     },
     "output_type": "display_data"
    }
   ],
   "source": [
    "# OneClassSVM is an outlier detection model\n",
    "model = OneClassSVM(gamma='auto', nu=0.01)\n",
    "model.fit(X_train)\n",
    "\n",
    "y_pred = model.predict(X_val)\n",
    "print(confusion_matrix(y_val, y_pred))\n",
    "print(classification_report(y_val, y_pred))\n",
    "confuse = confusion_matrix(y_val, y_pred)\n",
    "\n",
    "palette = sns.color_palette('crest', as_cmap=True)\n",
    "ax = sns.heatmap(confuse, annot=True, cmap=palette)\n",
    "ax.set_xticklabels([\"Interictal\", \"Preictal\"])\n",
    "ax.set_yticklabels([\"Interictal\", \"Preictal\"])\n",
    "ax.set_xlabel('Predicted')\n",
    "ax.set_ylabel('Ground Truth')\n",
    "plt.tight_layout()"
   ]
  },
  {
   "cell_type": "code",
   "execution_count": 25,
   "id": "9c307225",
   "metadata": {},
   "outputs": [
    {
     "name": "stdout",
     "output_type": "stream",
     "text": [
      "[[270 139]\n",
      " [  4 415]]\n",
      "              precision    recall  f1-score   support\n",
      "\n",
      "        -1.0       0.99      0.66      0.79       409\n",
      "         1.0       0.75      0.99      0.85       419\n",
      "\n",
      "    accuracy                           0.83       828\n",
      "   macro avg       0.87      0.83      0.82       828\n",
      "weighted avg       0.87      0.83      0.82       828\n",
      "\n"
     ]
    },
    {
     "data": {
      "image/png": "[encoded data removed]",
      "text/plain": [
       "<Figure size 432x288 with 2 Axes>"
      ]
     },
     "metadata": {
      "needs_background": "light"
     },
     "output_type": "display_data"
    }
   ],
   "source": [
    "# model training\n",
    "svc = SVC(kernel='rbf', class_weight='balanced')\n",
    "svc.fit(X_train, y_train)\n",
    "\n",
    "y_pred = svc.predict(X_val)\n",
    "print(confusion_matrix(y_val, y_pred))\n",
    "print(classification_report(y_val, y_pred))\n",
    "confuse = confusion_matrix(y_val, y_pred)\n",
    "\n",
    "palette = sns.color_palette('crest', as_cmap=True)\n",
    "ax = sns.heatmap(confuse, annot=True, cmap=palette)\n",
    "ax.set_xticklabels([\"Interictal\", \"Preictal\"])\n",
    "ax.set_yticklabels([\"Interictal\", \"Preictal\"])\n",
    "ax.set_xlabel('Predicted')\n",
    "ax.set_ylabel('Ground Truth')\n",
    "plt.tight_layout()"
   ]
  },
  {
   "cell_type": "code",
   "execution_count": 27,
   "id": "d3bb7917",
   "metadata": {},
   "outputs": [
    {
     "name": "stdout",
     "output_type": "stream",
     "text": [
      "[[160 249]\n",
      " [162 257]]\n",
      "              precision    recall  f1-score   support\n",
      "\n",
      "        -1.0       0.50      0.39      0.44       409\n",
      "         1.0       0.51      0.61      0.56       419\n",
      "\n",
      "    accuracy                           0.50       828\n",
      "   macro avg       0.50      0.50      0.50       828\n",
      "weighted avg       0.50      0.50      0.50       828\n",
      "\n"
     ]
    },
    {
     "data": {
      "image/png": "[encoded data removed]",
      "text/plain": [
       "<Figure size 432x288 with 2 Axes>"
      ]
     },
     "metadata": {
      "needs_background": "light"
     },
     "output_type": "display_data"
    }
   ],
   "source": [
    "clf = LogisticRegression(random_state=42)\n",
    "clf.fit(X_train, y_train)\n",
    "y_pred = clf.predict(X_val)\n",
    "\n",
    "print(confusion_matrix(y_val, y_pred))\n",
    "print(classification_report(y_val, y_pred))\n",
    "confuse = confusion_matrix(y_val, y_pred)\n",
    "\n",
    "palette = sns.color_palette('crest', as_cmap=True)\n",
    "ax = sns.heatmap(confuse, annot=True, cmap=palette)\n",
    "ax.set_xticklabels([\"Interictal\", \"Preictal\"])\n",
    "ax.set_yticklabels([\"Interictal\", \"Preictal\"])\n",
    "ax.set_xlabel('Predicted')\n",
    "ax.set_ylabel('Ground Truth')\n",
    "plt.tight_layout()"
   ]
  },
  {
   "cell_type": "code",
   "execution_count": null,
   "id": "0af04802",
   "metadata": {},
   "outputs": [],
   "source": []
  }
 ],
 "metadata": {
  "kernelspec": {
   "display_name": "Python 3",
   "language": "python",
   "name": "python3"
  },
  "language_info": {
   "codemirror_mode": {
    "name": "ipython",
    "version": 3
   },
   "file_extension": ".py",
   "mimetype": "text/x-python",
   "name": "python",
   "nbconvert_exporter": "python",
   "pygments_lexer": "ipython3",
   "version": "3.8.5"
  }
 },
 "nbformat": 4,
 "nbformat_minor": 5
}
