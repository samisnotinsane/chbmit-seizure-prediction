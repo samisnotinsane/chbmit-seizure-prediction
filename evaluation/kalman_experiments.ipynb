{
 "cells": [
  {
   "cell_type": "code",
   "execution_count": 1,
   "id": "5518ca69",
   "metadata": {},
   "outputs": [],
   "source": [
    "import numpy as np\n",
    "from ARMA import ARMA\n",
    "import pandas as pd\n",
    "import seaborn as sns\n",
    "from sklearn.svm import SVC, OneClassSVM\n",
    "import matplotlib.pyplot as plt\n",
    "import seaborn as sns\n",
    "from joblib import load\n",
    "from tqdm import tqdm\n",
    "import os"
   ]
  },
  {
   "cell_type": "code",
   "execution_count": 82,
   "id": "593f239b",
   "metadata": {},
   "outputs": [
    {
     "name": "stdout",
     "output_type": "stream",
     "text": [
      "['chb01_02_interictal.npy']\n",
      "['chb01_04_preictal.npy']\n"
     ]
    }
   ],
   "source": [
    "case = 'chb01'\n",
    "sset = 'Train'\n",
    "fe = 'AR'\n",
    "modelroot = './models' + '/' + case + '/' + fe\n",
    "\n",
    "\n",
    "root = './data' + '/' + sset + '/' + case\n",
    "cclass_a = 'Interictal'\n",
    "cclass_b = 'Preictal'\n",
    "\n",
    "interictal_dir = './data' + '/' + sset + '/' + case + '/' + cclass_a\n",
    "preictal_dir = './data' + '/' + sset + '/' + case + '/' + cclass_b\n",
    "interictal_files = os.listdir(interictal_dir)[:1]\n",
    "preictal_files = os.listdir(preictal_dir)[:1]\n",
    "print(interictal_files)\n",
    "print(preictal_files)"
   ]
  },
  {
   "cell_type": "code",
   "execution_count": 83,
   "id": "2f7db5ab",
   "metadata": {},
   "outputs": [
    {
     "name": "stderr",
     "output_type": "stream",
     "text": [
      "100%|██████████| 1/1 [00:00<00:00, 54.69it/s]\n",
      "100%|██████████| 1/1 [00:00<00:00, 16.66it/s]"
     ]
    },
    {
     "name": "stdout",
     "output_type": "stream",
     "text": [
      "Interictal: (23, 230401) Preictal: (23, 230401)\n",
      "All: (23, 460802)\n"
     ]
    },
    {
     "name": "stderr",
     "output_type": "stream",
     "text": [
      "\n"
     ]
    }
   ],
   "source": [
    "# load data\n",
    "interictal_data = []\n",
    "for i, _ in enumerate(tqdm(interictal_files)):\n",
    "    # interictal\n",
    "    filepath = root + '/' + cclass_a + '/' + interictal_files[i]\n",
    "    data = np.load(filepath)\n",
    "    interictal_data.append(data)\n",
    "del data, filepath\n",
    "\n",
    "preictal_data = []\n",
    "for i, _ in enumerate(tqdm(preictal_files)):\n",
    "    # preictal\n",
    "    filepath = root + '/' + cclass_b + '/' + preictal_files[i]\n",
    "    data = np.load(filepath)\n",
    "    preictal_data.append(data)\n",
    "del data, filepath\n",
    "\n",
    "interictal_input = np.hstack(interictal_data)\n",
    "preictal_input = np.hstack(preictal_data)\n",
    "print('Interictal:', interictal_input.shape, 'Preictal:', preictal_input.shape)\n",
    "X = np.hstack((interictal_input, preictal_input))\n",
    "print('All:', X.shape)"
   ]
  },
  {
   "cell_type": "code",
   "execution_count": 176,
   "id": "5d647db1",
   "metadata": {},
   "outputs": [
    {
     "name": "stdout",
     "output_type": "stream",
     "text": [
      "Model: chb01_AR_SVM_Linear\n",
      "Input length: 460802\n",
      "Input channels: 23\n",
      "Model: AR(2)\n",
      "MA lookback: 30\n",
      "Window size: 512\n",
      "Sampling frequency: 256 Hz\n",
      "Prediction frequency: 0.5 Hz\n",
      "Prediction interval: 2.0 s\n",
      "Kalman R: 2\n",
      "Kalman Q:\n",
      " [[0.0009 0.    ]\n",
      " [0.     0.0009]]\n"
     ]
    }
   ],
   "source": [
    "# online prediction parameters\n",
    "sig = X                  # Feed input signal\n",
    "fs = 256                 # sampling frequency (Hz)\n",
    "N = 512                  # fs = N*fp (N must be a natural number)\n",
    "fp = fs/N                # prediction frequency\n",
    "n_i = 2                  # AR model order\n",
    "t_s = 1/fs               # Input signal time period\n",
    "n_c = X.shape[0]       # Number of EEG electrodes (channels)\n",
    "m = 30                   # MA parameter\n",
    "tp = 1/fp                # Prediction interval\n",
    "\n",
    "\n",
    "rng = np.random.default_rng()\n",
    "th_n1_n1 = rng.standard_normal((2,1)) # estimate at time n-1 is noise to begin with\n",
    "P_n1_n1 = 0.001 * np.eye(2) # covariance of estimate at time n-1\n",
    "\n",
    "# Noise variances -- hyperparameters (to be tuned)\n",
    "# Set measurement noise as fraction of data variance (of first few samples)\n",
    "R = 2\n",
    "\n",
    "# Set process noise as covariance of some beta which is the size of variance 0.0001\n",
    "beta = 0.0009\n",
    "Q = beta * np.eye(2)\n",
    "# Q = np.array(\n",
    "# [[tp**3/3, tp**2/2    ],\n",
    "#  [tp**2/2,     tp]]\n",
    "# )*50\n",
    "\n",
    "modelname = f'{case}_AR_SVM_Linear'\n",
    "modelpath = modelroot + '/' + modelname + '.joblib'\n",
    "model = load(modelpath) # load model\n",
    "\n",
    "print(f'Model: {modelname}')\n",
    "print(f'Input length: {sig.shape[1]}')\n",
    "print(f'Input channels: {n_c}')\n",
    "print(f'Model: AR({n_i})')\n",
    "print(f'MA lookback: {m}')\n",
    "print(f'Window size: {N}')\n",
    "print(f'Sampling frequency: {fs} Hz')\n",
    "print(f'Prediction frequency: {fp} Hz')\n",
    "print(f'Prediction interval: {tp} s')\n",
    "print(f'Kalman R:', R)\n",
    "print(f'Kalman Q:\\n', Q)"
   ]
  },
  {
   "cell_type": "code",
   "execution_count": 177,
   "id": "a6d051c8",
   "metadata": {},
   "outputs": [
    {
     "name": "stderr",
     "output_type": "stream",
     "text": [
      "Analysing... : 100%|██████████| 460288/460288 [00:24<00:00, 18538.38it/s]\n"
     ]
    }
   ],
   "source": [
    "# online prediction\n",
    "fp = fs/N                                                 # Prediction frequency\n",
    "t_s = 1/fs                                                # Input signal time period\n",
    "\n",
    "a_k_list = []                                             # Sequential buffer for  MA samples\n",
    "a_h_k_list = []                                           # Sequential buffer for AR signal samples\n",
    "k_list = []                                               # Sequential buffer for time index in prediction point _k\n",
    "preds = []\n",
    "kalman_preds = []\n",
    "y = [1, 1]                                                 # Kalman history (for tracking)\n",
    "\n",
    "n_c = sig.shape[0]                                         # Number of input channels\n",
    "n = sig.shape[1]                                           # Total number of input samples\n",
    "a = 1.8 * np.random.randn(n_c, n_i)                        # Initialise AR coefficients\n",
    "c = m * np.ones(m)                                         # Initialise MA coefficients\n",
    "c = c / c.sum()\n",
    "\n",
    "Ik = N                                                # Window width\n",
    "for _k in tqdm(range(Ik + n_i, n), desc='Analysing... '): # Sliding window\n",
    "    if (_k % N == 0):                                 # Decimation policy: _k occurs once every N samples\n",
    "        w_start = _k - Ik - n_i + 1                   # Starting index of sliding window (end index is maintained by _k)\n",
    "        a_h = np.zeros((n_c, n_i))                    # AR parameter estimates from samples in window\n",
    "        for _i in range(n_c):                              # Iterate channels\n",
    "            x_t = sig[_i, w_start:_k]                      # Multi-channel window over input signal\n",
    "            N_w = len(x_t)\n",
    "            ymat = np.zeros((N_w - n_i, n_i))\n",
    "            yb = np.zeros((N_w - n_i, n_i))\n",
    "            for _c in range(n_i, 0, -1):              # Past dependency of AR up to model order\n",
    "                ymat[ : , n_i - _c] = x_t[n_i - _c : -_c]\n",
    "            yb = x_t[n_i:]\n",
    "            a_h[_i] = np.linalg.pinv(ymat) @ yb            # Least squares solution to optimal parameters via Moore-Penrose Pseudo Inverse\n",
    "        a_k = np.zeros((n_c, n_i))\n",
    "        a_h_k_idx = len(a_h_k_list) - 1                    # Index to most recent block of AR parameters of shape: (n_c, n_i)\n",
    "        for _j in range(m):                           # MA smoothing of AR parameters going back m units of time, in timescale k\n",
    "            if len(a_h_k_list) > m:                   # Only begin smoothing once unit of time elapsed is greater than m\n",
    "                a_k = c[_j] * a_h_k_list[a_h_k_idx - _j]\n",
    "        a_k = np.mean(a_k, axis=0)                         # Mean over channels\n",
    "\n",
    "        # model prediction: classify a_k (feature)\n",
    "        p = model.predict(a_k.reshape(1, -1))\n",
    "        preds.append(p)\n",
    "        \n",
    "        # track prediction with Kalman filter\n",
    "        \n",
    "        # Time series data y\n",
    "        # set to be the measurements taken from AR process\n",
    "\n",
    "        y.append(p.item())\n",
    "\n",
    "        # th_n_n: estimate at time n using all data upto time n\n",
    "        # th_n_n1: estimate at time n using all data upto time n-1\n",
    "\n",
    "        # Initialise\n",
    "        x = np.zeros((2,1))\n",
    "        \n",
    "        # Space to store and plot estimated parameters (length)\n",
    "        th_conv = []\n",
    "\n",
    "        # First two estimates are initial guesses\n",
    "        th_conv.append(th_n1_n1[0])\n",
    "\n",
    "        # Kalman Iteration Loop (univariate observation, start from time step 1)\n",
    "        for n in range(2, len(y)):\n",
    "            # Input vector contains past value\n",
    "            x[0] = y[n-1]\n",
    "            x[1] = y[n-2]\n",
    "\n",
    "            # Prediction of state and covariance\n",
    "            th_n_n1 = th_n1_n1.copy()\n",
    "            P_n_n1 = P_n1_n1 + Q\n",
    "\n",
    "            # Innovation: difference between prediction (yh) and error (y_n)\n",
    "            yh = th_n_n1.T @ x\n",
    "            en = y[n] - yh # innovation\n",
    "\n",
    "            # Kalman gain (kn) and innovation variance (den)\n",
    "            den = x.T @ P_n_n1 @ x + R\n",
    "            kn = P_n1_n1 @ x / den\n",
    "\n",
    "            # Posterior update\n",
    "            th_n_n = th_n_n1 + kn * en\n",
    "            P_n_n = (np.eye(2) - kn @ x.T) @ P_n_n1\n",
    "\n",
    "            # Save\n",
    "            th_conv.append(th_n_n)\n",
    "\n",
    "            # Remember for next step\n",
    "            th_n1_n1 = th_n_n.copy()\n",
    "            P_n1_n1 = P_n_n.copy()\n",
    "\n",
    "        \n",
    "        # save tracking data\n",
    "        kalman_preds.append(yh)    \n",
    "        \n",
    "        k_list.append(_k)\n",
    "        a_h_k_list.append(a_h)\n",
    "        a_k_list.append(a_k)\n",
    "# k = np.array(k_list)\n",
    "k = np.hstack(k_list)\n",
    "a_h_k = np.array(a_h_k_list)\n",
    "a_k = np.array(a_k_list)\n",
    "prediction_sig = np.hstack(preds)"
   ]
  },
  {
   "cell_type": "code",
   "execution_count": 178,
   "id": "503e88c8",
   "metadata": {},
   "outputs": [
    {
     "name": "stdout",
     "output_type": "stream",
     "text": [
      "R = 2.000, Q = 0.00090\n"
     ]
    },
    {
     "data": {
      "image/png": "[encoded data removed]",
      "text/plain": [
       "<Figure size 864x432 with 1 Axes>"
      ]
     },
     "metadata": {
      "needs_background": "light"
     },
     "output_type": "display_data"
    }
   ],
   "source": [
    "kalman_sig = [k[0] for k in kalman_preds]\n",
    "# len(kalman_sig)\n",
    "pt = np.arange(0, k.shape[0]) / (fs/N) / 3600\n",
    "\n",
    "fig, ax = plt.subplots(figsize=(12,6))\n",
    "ax.plot(pt, prediction_sig, label=\"Raw\")\n",
    "ax.plot(pt, kalman_sig, ls='-.', c='r', label='Kalman')\n",
    "# ax.set_xlim(0, 400)\n",
    "ax.set_ylim(-2, 2)\n",
    "\n",
    "ax.set_title(\"Estimation of $a_1, a_2$\")\n",
    "\n",
    "\n",
    "ax.set_title(\"R = %4.3f, Q = %6.5f\"%(R, beta))\n",
    "print(\"R = %4.3f, Q = %6.5f\"%(R, beta))\n",
    "\n",
    "plt.legend()\n",
    "# plt.savefig('../images/ar_params_dyn_estimation.png')\n",
    "plt.show()"
   ]
  },
  {
   "cell_type": "markdown",
   "id": "10927837",
   "metadata": {},
   "source": [
    "---"
   ]
  },
  {
   "cell_type": "markdown",
   "id": "b4ea7566",
   "metadata": {},
   "source": [
    "---"
   ]
  }
 ],
 "metadata": {
  "kernelspec": {
   "display_name": "Python 3",
   "language": "python",
   "name": "python3"
  },
  "language_info": {
   "codemirror_mode": {
    "name": "ipython",
    "version": 3
   },
   "file_extension": ".py",
   "mimetype": "text/x-python",
   "name": "python",
   "nbconvert_exporter": "python",
   "pygments_lexer": "ipython3",
   "version": "3.8.5"
  }
 },
 "nbformat": 4,
 "nbformat_minor": 5
}
