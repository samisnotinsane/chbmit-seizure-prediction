{
 "cells": [
  {
   "cell_type": "code",
   "execution_count": 22,
   "id": "0abe5052",
   "metadata": {},
   "outputs": [],
   "source": [
    "import os\n",
    "import re\n",
    "import mne\n",
    "import numpy as np\n",
    "import matplotlib.pyplot as plt\n",
    "from tqdm import tqdm"
   ]
  },
  {
   "cell_type": "code",
   "execution_count": 7,
   "id": "39493064",
   "metadata": {},
   "outputs": [],
   "source": [
    "root = '/Volumes/My Passport/AI_Research/data/physionet.org/files/chbmit/1.0.0/chb01/'"
   ]
  },
  {
   "cell_type": "markdown",
   "id": "a0b1186d",
   "metadata": {},
   "source": [
    "## Preictal Class"
   ]
  },
  {
   "cell_type": "markdown",
   "id": "086823b1",
   "metadata": {},
   "source": [
    "Training set for this patient will consist of 3 preictal files of length 900 s (15 mins). Test set will contain another 3 preictal files of the same length."
   ]
  },
  {
   "cell_type": "code",
   "execution_count": 15,
   "id": "aae8e5b2",
   "metadata": {},
   "outputs": [
    {
     "data": {
      "text/plain": [
       "['/Volumes/My Passport/AI_Research/data/physionet.org/files/chbmit/1.0.0/chb01/chb01_03.edf',\n",
       " '/Volumes/My Passport/AI_Research/data/physionet.org/files/chbmit/1.0.0/chb01/chb01_04.edf',\n",
       " '/Volumes/My Passport/AI_Research/data/physionet.org/files/chbmit/1.0.0/chb01/chb01_15.edf']"
      ]
     },
     "execution_count": 15,
     "metadata": {},
     "output_type": "execute_result"
    }
   ],
   "source": [
    "training_set_names = ['chb01_03.edf' 'chb01_04.edf' 'chb01_15.edf']\n",
    "test_set_names = ['chb01_16.edf' 'chb01_18.edf' 'chb01_26.edf']\n",
    "\n",
    "regex = re.compile(r'^(chb01_03.edf|chb01_04.edf|chb01_15.edf)$')\n",
    "training_set_files = [root+x for x in os.listdir(root) if regex.search(x)]\n",
    "\n",
    "regex = re.compile(r'^(chb01_16.edf|chb01_18.edf|chb01_26.edf)$')\n",
    "test_set_files = [root+x for x in os.listdir(root) if regex.search(x)]\n",
    "training_set_files"
   ]
  },
  {
   "cell_type": "code",
   "execution_count": 16,
   "id": "2555acaa",
   "metadata": {},
   "outputs": [
    {
     "data": {
      "text/plain": [
       "['/Volumes/My Passport/AI_Research/data/physionet.org/files/chbmit/1.0.0/chb01/chb01_16.edf',\n",
       " '/Volumes/My Passport/AI_Research/data/physionet.org/files/chbmit/1.0.0/chb01/chb01_18.edf',\n",
       " '/Volumes/My Passport/AI_Research/data/physionet.org/files/chbmit/1.0.0/chb01/chb01_26.edf']"
      ]
     },
     "execution_count": 16,
     "metadata": {},
     "output_type": "execute_result"
    }
   ],
   "source": [
    "test_set_files"
   ]
  },
  {
   "cell_type": "code",
   "execution_count": 23,
   "id": "2f9962e2",
   "metadata": {},
   "outputs": [
    {
     "name": "stderr",
     "output_type": "stream",
     "text": [
      "100%|██████████| 3/3 [00:00<00:00,  3.29it/s]\n"
     ]
    }
   ],
   "source": [
    "# init dict with train filenames and 15 mins preictal interval\n",
    "train_dict = {}\n",
    "train_preictal_starts = [2096, 567, 832]\n",
    "train_preictal_ends = [2996, 1467, 1732]\n",
    "for i, fpath in enumerate(tqdm(training_set_files)):\n",
    "#     print('File:', fpath.split('/')[-1])\n",
    "#     print('Crop start (s):', train_preictal_starts[i])\n",
    "#     print('Crop end (s):', train_preictal_ends[i])\n",
    "    \n",
    "    raw = mne.io.read_raw_edf(input_fname=fpath, preload=False, verbose='Error')\n",
    "    raw_crop = raw.crop(tmin=train_preictal_starts[i], tmax=train_preictal_ends[i], include_tmax=True)\n",
    "    data = raw_crop.get_data(picks='all', return_times=False, units='uV')\n",
    "    train_dict[fpath.split('/')[-1]] = data"
   ]
  },
  {
   "cell_type": "code",
   "execution_count": 27,
   "id": "c5b2a323",
   "metadata": {},
   "outputs": [
    {
     "name": "stderr",
     "output_type": "stream",
     "text": [
      "100%|██████████| 3/3 [00:01<00:00,  1.77it/s]\n"
     ]
    }
   ],
   "source": [
    "test_dict = {}\n",
    "test_preictal_starts = [115, 820, 962]\n",
    "test_preictal_ends = [1015, 1720, 1862]\n",
    "for i, fpath in enumerate(tqdm(test_set_files)):\n",
    "    raw = mne.io.read_raw_edf(input_fname=fpath, preload=False, verbose='Error')\n",
    "    raw_crop = raw.crop(tmin=test_preictal_starts[i], tmax=test_preictal_ends[i], include_tmax=True)\n",
    "    data = raw_crop.get_data(picks='all', return_times=False, units='uV')\n",
    "    test_dict[fpath.split('/')[-1]] = data"
   ]
  },
  {
   "cell_type": "markdown",
   "id": "041d8410",
   "metadata": {},
   "source": [
    "## Interictal class"
   ]
  },
  {
   "cell_type": "markdown",
   "id": "1ca99f7f",
   "metadata": {},
   "source": [
    "Training set for this patient will consist of 45 mins of interictal data randomly selected from all available data for this patient. Test set will consist of the remaining ~39 hours of interictal data, excluding the 45 mins inverval used for training."
   ]
  },
  {
   "cell_type": "code",
   "execution_count": null,
   "id": "1b763d6e",
   "metadata": {},
   "outputs": [],
   "source": []
  }
 ],
 "metadata": {
  "kernelspec": {
   "display_name": "Python 3",
   "language": "python",
   "name": "python3"
  },
  "language_info": {
   "codemirror_mode": {
    "name": "ipython",
    "version": 3
   },
   "file_extension": ".py",
   "mimetype": "text/x-python",
   "name": "python",
   "nbconvert_exporter": "python",
   "pygments_lexer": "ipython3",
   "version": "3.8.5"
  }
 },
 "nbformat": 4,
 "nbformat_minor": 5
}
