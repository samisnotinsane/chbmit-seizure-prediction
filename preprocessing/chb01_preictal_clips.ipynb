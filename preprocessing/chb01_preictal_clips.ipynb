{
 "cells": [
  {
   "cell_type": "code",
   "execution_count": 1,
   "id": "83b5062b",
   "metadata": {},
   "outputs": [],
   "source": [
    "import os\n",
    "import re\n",
    "import mne\n",
    "import numpy as np\n",
    "import matplotlib.pyplot as plt\n",
    "from tqdm import tqdm"
   ]
  },
  {
   "cell_type": "code",
   "execution_count": 2,
   "id": "687fd266",
   "metadata": {},
   "outputs": [],
   "source": [
    "root = '/Volumes/My Passport/AI_Research/data/physionet.org/files/chbmit/1.0.0/chb01/'"
   ]
  },
  {
   "cell_type": "markdown",
   "id": "e4321333",
   "metadata": {},
   "source": [
    "## Preictal Class"
   ]
  },
  {
   "cell_type": "markdown",
   "id": "d65f41e6",
   "metadata": {},
   "source": [
    "Training set for this patient will consist of 3 preictal files of length 900 s (15 mins). Test set will contain another 3 preictal files of the same length."
   ]
  },
  {
   "cell_type": "code",
   "execution_count": 3,
   "id": "4be40ab3",
   "metadata": {},
   "outputs": [],
   "source": [
    "# training_set_names = ['chb01_03.edf' 'chb01_04.edf' 'chb01_15.edf']\n",
    "# test_set_names = ['chb01_16.edf' 'chb01_18.edf' 'chb01_26.edf']\n",
    "\n",
    "regex = re.compile(r'^(chb01_03\\.edf|chb01_04\\.edf|chb01_15\\.edf)$')\n",
    "training_set_files = [root+x for x in os.listdir(root) if regex.search(x)]\n",
    "\n",
    "regex = re.compile(r'^(chb01_16\\.edf|chb01_18\\.edf|chb01_26\\.edf)$')\n",
    "test_set_files = [root+x for x in os.listdir(root) if regex.search(x)]"
   ]
  },
  {
   "cell_type": "code",
   "execution_count": 4,
   "id": "a15ac49b",
   "metadata": {},
   "outputs": [
    {
     "data": {
      "text/plain": [
       "['/Volumes/My Passport/AI_Research/data/physionet.org/files/chbmit/1.0.0/chb01/chb01_03.edf',\n",
       " '/Volumes/My Passport/AI_Research/data/physionet.org/files/chbmit/1.0.0/chb01/chb01_04.edf',\n",
       " '/Volumes/My Passport/AI_Research/data/physionet.org/files/chbmit/1.0.0/chb01/chb01_15.edf']"
      ]
     },
     "execution_count": 4,
     "metadata": {},
     "output_type": "execute_result"
    }
   ],
   "source": [
    "training_set_files"
   ]
  },
  {
   "cell_type": "code",
   "execution_count": 5,
   "id": "2c74c771",
   "metadata": {},
   "outputs": [
    {
     "data": {
      "text/plain": [
       "['/Volumes/My Passport/AI_Research/data/physionet.org/files/chbmit/1.0.0/chb01/chb01_16.edf',\n",
       " '/Volumes/My Passport/AI_Research/data/physionet.org/files/chbmit/1.0.0/chb01/chb01_18.edf',\n",
       " '/Volumes/My Passport/AI_Research/data/physionet.org/files/chbmit/1.0.0/chb01/chb01_26.edf']"
      ]
     },
     "execution_count": 5,
     "metadata": {},
     "output_type": "execute_result"
    }
   ],
   "source": [
    "test_set_files"
   ]
  },
  {
   "cell_type": "code",
   "execution_count": 6,
   "id": "5683102b",
   "metadata": {},
   "outputs": [
    {
     "name": "stderr",
     "output_type": "stream",
     "text": [
      "100%|██████████| 3/3 [00:01<00:00,  1.87it/s]\n"
     ]
    }
   ],
   "source": [
    "# init dict with train filenames and 15 mins preictal interval\n",
    "preictal_train_dict = {}\n",
    "train_preictal_starts = [2096, 567, 832]\n",
    "train_preictal_ends = [2996, 1467, 1732]\n",
    "for i, fpath in enumerate(tqdm(training_set_files)):\n",
    "#     print('File:', fpath.split('/')[-1])\n",
    "#     print('Crop start (s):', train_preictal_starts[i])\n",
    "#     print('Crop end (s):', train_preictal_ends[i])\n",
    "    \n",
    "    raw = mne.io.read_raw_edf(input_fname=fpath, preload=False, verbose='Error')\n",
    "    raw_crop = raw.crop(tmin=train_preictal_starts[i], tmax=train_preictal_ends[i], include_tmax=True)\n",
    "    data = raw_crop.get_data(picks='all', return_times=False, units='uV')\n",
    "    preictal_train_dict[fpath.split('/')[-1]] = data"
   ]
  },
  {
   "cell_type": "code",
   "execution_count": 7,
   "id": "3dfe9dec",
   "metadata": {},
   "outputs": [
    {
     "name": "stderr",
     "output_type": "stream",
     "text": [
      "100%|██████████| 3/3 [00:00<00:00,  4.11it/s]\n"
     ]
    }
   ],
   "source": [
    "preictal_test_dict = {}\n",
    "test_preictal_starts = [115, 820, 962]\n",
    "test_preictal_ends = [1015, 1720, 1862]\n",
    "for i, fpath in enumerate(tqdm(test_set_files)):\n",
    "    raw = mne.io.read_raw_edf(input_fname=fpath, preload=False, verbose='Error')\n",
    "    raw_crop = raw.crop(tmin=test_preictal_starts[i], tmax=test_preictal_ends[i], include_tmax=True)\n",
    "    data = raw_crop.get_data(picks='all', return_times=False, units='uV')\n",
    "    preictal_test_dict[fpath.split('/')[-1]] = data"
   ]
  },
  {
   "cell_type": "markdown",
   "id": "def14bef",
   "metadata": {},
   "source": [
    "## Interictal class"
   ]
  },
  {
   "cell_type": "markdown",
   "id": "6ff303c2",
   "metadata": {},
   "source": [
    "Training set for this patient will consist of 45 mins of interictal data randomly selected from all available data for this patient. Test set will consist of the remaining ~39 hours of interictal data, excluding the 45 mins inverval used for training."
   ]
  },
  {
   "cell_type": "code",
   "execution_count": 8,
   "id": "83067450",
   "metadata": {},
   "outputs": [],
   "source": [
    "# initially, use 1 file with only interictal data as train...\n",
    "# ...and remaining interictal files as test"
   ]
  },
  {
   "cell_type": "code",
   "execution_count": 9,
   "id": "a1698404",
   "metadata": {},
   "outputs": [],
   "source": [
    "# filter out files from preictal class\n",
    "regex = re.compile(r'^(chb01_03\\.edf|chb01_04\\.edf|chb01_15\\.edf|chb01_16\\.edf|chb01_18\\.edf|chb01_26\\.edf)|\\.(seizures)|\\.(txt)|\\.(html)$')\n",
    "interictal_files = [root+x for x in os.listdir(root) if not regex.search(x)]"
   ]
  },
  {
   "cell_type": "code",
   "execution_count": 10,
   "id": "1a63f4cb",
   "metadata": {},
   "outputs": [
    {
     "name": "stdout",
     "output_type": "stream",
     "text": [
      "36\n",
      "/Volumes/My Passport/AI_Research/data/physionet.org/files/chbmit/1.0.0/chb01/chb01_42.edf\n",
      "35\n"
     ]
    }
   ],
   "source": [
    "interictal_files_len = len(interictal_files)\n",
    "print(interictal_files_len)\n",
    "index = np.random.randint(interictal_files_len)\n",
    "print(interictal_files.pop(index))\n",
    "print(len(interictal_files))"
   ]
  },
  {
   "cell_type": "code",
   "execution_count": null,
   "id": "10c0d620",
   "metadata": {},
   "outputs": [],
   "source": []
  }
 ],
 "metadata": {
  "kernelspec": {
   "display_name": "Python 3",
   "language": "python",
   "name": "python3"
  },
  "language_info": {
   "codemirror_mode": {
    "name": "ipython",
    "version": 3
   },
   "file_extension": ".py",
   "mimetype": "text/x-python",
   "name": "python",
   "nbconvert_exporter": "python",
   "pygments_lexer": "ipython3",
   "version": "3.8.5"
  }
 },
 "nbformat": 4,
 "nbformat_minor": 5
}
