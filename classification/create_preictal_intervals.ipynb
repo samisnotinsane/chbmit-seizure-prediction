{
 "cells": [
  {
   "cell_type": "code",
   "execution_count": 1,
   "id": "0ddf8ea0",
   "metadata": {},
   "outputs": [],
   "source": [
    "import mne\n",
    "import numpy as np"
   ]
  },
  {
   "cell_type": "markdown",
   "id": "91f6363b",
   "metadata": {},
   "source": [
    "Generate preictal interval of 15 mins for each of the seizures and save them to a data file."
   ]
  },
  {
   "cell_type": "code",
   "execution_count": 2,
   "id": "960f36ab",
   "metadata": {},
   "outputs": [],
   "source": [
    "root = '/Volumes/My Passport/AI_Research/data/physionet.org/files/chbmit/1.0.0/' \n",
    "case = 'chb01/' \n",
    "filenames = ['chb01_03.edf', 'chb01_04.edf', 'chb01_15.edf', 'chb01_16.edf',\n",
    "             'chb01_18.edf', 'chb01_26.edf']\n",
    "markers = [2996, 1467, 1732, 1015, 1720, 1862]"
   ]
  },
  {
   "cell_type": "code",
   "execution_count": 3,
   "id": "23073626",
   "metadata": {},
   "outputs": [],
   "source": [
    "for i in range(6):\n",
    "    filename = filenames[i]\n",
    "    filepath = root + case + filename\n",
    "    marker = markers[i]\n",
    "    data = mne.io \\\n",
    "            .read_raw_edf(input_fname=filepath, preload=False, verbose='Error') \\\n",
    "            .crop(tmin=marker-900, tmax=marker) \\\n",
    "            .get_data(picks='all', units='uV', return_times=False)\n",
    "    savename = filename.split('.')[0] + '_preictal' + '.npy'\n",
    "    savepath = root + case + savename\n",
    "    np.save(savepath, data)"
   ]
  }
 ],
 "metadata": {
  "kernelspec": {
   "display_name": "Python 3",
   "language": "python",
   "name": "python3"
  },
  "language_info": {
   "codemirror_mode": {
    "name": "ipython",
    "version": 3
   },
   "file_extension": ".py",
   "mimetype": "text/x-python",
   "name": "python",
   "nbconvert_exporter": "python",
   "pygments_lexer": "ipython3",
   "version": "3.8.5"
  }
 },
 "nbformat": 4,
 "nbformat_minor": 5
}
