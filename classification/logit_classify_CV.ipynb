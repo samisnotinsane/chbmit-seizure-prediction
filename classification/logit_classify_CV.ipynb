{
 "cells": [
  {
   "cell_type": "code",
   "execution_count": 1,
   "id": "6b3ad340",
   "metadata": {},
   "outputs": [],
   "source": [
    "import os\n",
    "import re\n",
    "import mne\n",
    "import numpy as np"
   ]
  },
  {
   "cell_type": "code",
   "execution_count": null,
   "id": "188b1835",
   "metadata": {},
   "outputs": [],
   "source": [
    "# filter out files from interictal class\n",
    "regex = re.compile(r'^(' \\\n",
    "                   'chb01_03\\.edf|chb01_04\\.edf|chb01_15\\.edf|' \\\n",
    "                   'chb01_16\\.edf|chb01_18\\.edf|chb01_26\\.edf|' \\\n",
    "                   '\\.(seizures)|\\.(txt)|\\.(html)' \\\n",
    "                  ')$')\n",
    "preictal_files = [root+x for x in os.listdir(root) if regex.search(x)]"
   ]
  }
 ],
 "metadata": {
  "kernelspec": {
   "display_name": "Python 3",
   "language": "python",
   "name": "python3"
  },
  "language_info": {
   "codemirror_mode": {
    "name": "ipython",
    "version": 3
   },
   "file_extension": ".py",
   "mimetype": "text/x-python",
   "name": "python",
   "nbconvert_exporter": "python",
   "pygments_lexer": "ipython3",
   "version": "3.8.5"
  }
 },
 "nbformat": 4,
 "nbformat_minor": 5
}
