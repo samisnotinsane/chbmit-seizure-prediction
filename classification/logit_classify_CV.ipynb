{
 "cells": [
  {
   "cell_type": "code",
   "execution_count": 1,
   "id": "6cc6f10e",
   "metadata": {},
   "outputs": [],
   "source": [
    "import random\n",
    "import dataparser\n",
    "from ARMA import ARMA\n",
    "import numpy as np\n",
    "from sklearn.model_selection import KFold, ShuffleSplit\n",
    "from tqdm import tqdm"
   ]
  },
  {
   "cell_type": "code",
   "execution_count": 2,
   "id": "5b07c2ff",
   "metadata": {},
   "outputs": [],
   "source": [
    "rootdir = '/Volumes/My Passport/AI_Research/data/physionet.org/files/chbmit/1.0.0/'\n",
    "patient_id = 'chb01'\n",
    "parser = dataparser.DataParser(rootdir, patient_id)"
   ]
  },
  {
   "cell_type": "code",
   "execution_count": 3,
   "id": "618f787d",
   "metadata": {},
   "outputs": [],
   "source": [
    "ictal_filenames = parser.seizure_filenames()\n",
    "preictal_filenames = [x for x in ictal_filenames if parser.check_preictal_interval_exists(x, parser.mins_in_secs(15))]\n",
    "interictal_filenames = parser.no_seizure_filenames()\n",
    "preictal_labels = np.ones((len(preictal_filenames)))\n",
    "interictal_labels = -1 * np.ones((len(interictal_filenames)))"
   ]
  },
  {
   "cell_type": "code",
   "execution_count": 21,
   "id": "d5f33329",
   "metadata": {},
   "outputs": [
    {
     "name": "stdout",
     "output_type": "stream",
     "text": [
      "KFold(n_splits=6, random_state=None, shuffle=False)\n",
      "ShuffleSplit(n_splits=35, random_state=0, test_size=0.01, train_size=None)\n",
      "-\n",
      "Interictal TRAIN: [20 16 28 22 15 10  2 11 27 25 34 32 26 30  8 13  5 17 14 31 24  1 12  6\n",
      " 23  4 18 21 19  9  7 33  3  0] Interictal TEST: [29]\n",
      "---\n"
     ]
    },
    {
     "name": "stderr",
     "output_type": "stream",
     "text": [
      "Load interictal train data:   0%|          | 0/34 [00:00<?, ?it/s]"
     ]
    },
    {
     "name": "stdout",
     "output_type": "stream",
     "text": [
      "interictal test data: (23, 921600)\n"
     ]
    },
    {
     "name": "stderr",
     "output_type": "stream",
     "text": [
      "Load interictal train data: 100%|██████████| 34/34 [00:26<00:00,  1.30it/s]\n"
     ]
    },
    {
     "name": "stdout",
     "output_type": "stream",
     "text": [
      "Preictal TRAIN: [1 2 3 4 5] Preictal TEST: [0]\n",
      "---\n",
      "preictal test data: (23, 921600)\n",
      "Preictal TRAIN: [0 2 3 4 5] Preictal TEST: [1]\n",
      "---\n",
      "preictal test data: (23, 921600)\n",
      "Preictal TRAIN: [0 1 3 4 5] Preictal TEST: [2]\n",
      "---\n",
      "preictal test data: (23, 921600)\n",
      "Preictal TRAIN: [0 1 2 4 5] Preictal TEST: [3]\n",
      "---\n",
      "preictal test data: (23, 921600)\n",
      "Preictal TRAIN: [0 1 2 3 5] Preictal TEST: [4]\n",
      "---\n",
      "preictal test data: (23, 921600)\n",
      "Preictal TRAIN: [0 1 2 3 4] Preictal TEST: [5]\n",
      "---\n",
      "preictal test data: (23, 595200)\n",
      "Interictal TRAIN: [34 12 21 24 16  7 29 13 15 27 30 33 31 22  8  6  5  4 26 28  2 18 11  3\n",
      " 23 20 10  0 25  9  1 32 14 19] Interictal TEST: [17]\n",
      "---\n"
     ]
    },
    {
     "name": "stderr",
     "output_type": "stream",
     "text": [
      "Load interictal train data:   0%|          | 0/34 [00:00<?, ?it/s]"
     ]
    },
    {
     "name": "stdout",
     "output_type": "stream",
     "text": [
      "interictal test data: (23, 921600)\n"
     ]
    },
    {
     "name": "stderr",
     "output_type": "stream",
     "text": [
      "Load interictal train data: 100%|██████████| 34/34 [00:28<00:00,  1.18it/s]\n"
     ]
    },
    {
     "name": "stdout",
     "output_type": "stream",
     "text": [
      "Preictal TRAIN: [1 2 3 4 5] Preictal TEST: [0]\n",
      "---\n",
      "preictal test data: (23, 921600)\n",
      "Preictal TRAIN: [0 2 3 4 5] Preictal TEST: [1]\n",
      "---\n",
      "preictal test data: (23, 921600)\n",
      "Preictal TRAIN: [0 1 3 4 5] Preictal TEST: [2]\n",
      "---\n",
      "preictal test data: (23, 921600)\n",
      "Preictal TRAIN: [0 1 2 4 5] Preictal TEST: [3]\n",
      "---\n",
      "preictal test data: (23, 921600)\n",
      "Preictal TRAIN: [0 1 2 3 5] Preictal TEST: [4]\n",
      "---\n",
      "preictal test data: (23, 921600)\n",
      "Preictal TRAIN: [0 1 2 3 4] Preictal TEST: [5]\n",
      "---\n",
      "preictal test data: (23, 595200)\n",
      "Interictal TRAIN: [30 23 16 13 28  9  1 33 18  5  7 34 19 17 32  8 22 29 31 26 15 24  6  4\n",
      " 11 20 10 25 12 21  3 14  0 27] Interictal TEST: [2]\n",
      "---\n",
      "interictal test data: (23, 921600)\n"
     ]
    },
    {
     "name": "stderr",
     "output_type": "stream",
     "text": [
      "Load interictal train data: 100%|██████████| 34/34 [00:27<00:00,  1.26it/s]\n"
     ]
    },
    {
     "name": "stdout",
     "output_type": "stream",
     "text": [
      "Preictal TRAIN: [1 2 3 4 5] Preictal TEST: [0]\n",
      "---\n",
      "preictal test data: (23, 921600)\n",
      "Preictal TRAIN: [0 2 3 4 5] Preictal TEST: [1]\n",
      "---\n",
      "preictal test data: (23, 921600)\n",
      "Preictal TRAIN: [0 1 3 4 5] Preictal TEST: [2]\n",
      "---\n",
      "preictal test data: (23, 921600)\n",
      "Preictal TRAIN: [0 1 2 4 5] Preictal TEST: [3]\n",
      "---\n",
      "preictal test data: (23, 921600)\n",
      "Preictal TRAIN: [0 1 2 3 5] Preictal TEST: [4]\n",
      "---\n",
      "preictal test data: (23, 921600)\n",
      "Preictal TRAIN: [0 1 2 3 4] Preictal TEST: [5]\n",
      "---\n",
      "preictal test data: (23, 595200)\n",
      "Interictal TRAIN: [23 27  5 24 15  6 12 28 33 25 26 19  1  4 17 14 22 32 20 31 11 18 30 34\n",
      "  9 21  7 16 13 10  2  3 29  0] Interictal TEST: [8]\n",
      "---\n"
     ]
    },
    {
     "name": "stderr",
     "output_type": "stream",
     "text": [
      "Load interictal train data:   0%|          | 0/34 [00:00<?, ?it/s]"
     ]
    },
    {
     "name": "stdout",
     "output_type": "stream",
     "text": [
      "interictal test data: (23, 921600)\n"
     ]
    },
    {
     "name": "stderr",
     "output_type": "stream",
     "text": [
      "Load interictal train data: 100%|██████████| 34/34 [00:26<00:00,  1.30it/s]\n"
     ]
    },
    {
     "name": "stdout",
     "output_type": "stream",
     "text": [
      "Preictal TRAIN: [1 2 3 4 5] Preictal TEST: [0]\n",
      "---\n",
      "preictal test data: (23, 921600)\n",
      "Preictal TRAIN: [0 2 3 4 5] Preictal TEST: [1]\n",
      "---\n",
      "preictal test data: (23, 921600)\n",
      "Preictal TRAIN: [0 1 3 4 5] Preictal TEST: [2]\n",
      "---\n",
      "preictal test data: (23, 921600)\n",
      "Preictal TRAIN: [0 1 2 4 5] Preictal TEST: [3]\n",
      "---\n",
      "preictal test data: (23, 921600)\n",
      "Preictal TRAIN: [0 1 2 3 5] Preictal TEST: [4]\n",
      "---\n",
      "preictal test data: (23, 921600)\n",
      "Preictal TRAIN: [0 1 2 3 4] Preictal TEST: [5]\n",
      "---\n",
      "preictal test data: (23, 595200)\n",
      "Interictal TRAIN: [ 1 12 20 31  5  9 27 33 15  4 29 21 28 18 22 17 25 34 26 11 23  3  2 13\n",
      "  8 24 30 10 14 19  6  0 32 16] Interictal TEST: [7]\n",
      "---\n",
      "interictal test data: (23, 921600)\n"
     ]
    },
    {
     "name": "stderr",
     "output_type": "stream",
     "text": [
      "Load interictal train data: 100%|██████████| 34/34 [00:25<00:00,  1.33it/s]\n"
     ]
    },
    {
     "name": "stdout",
     "output_type": "stream",
     "text": [
      "Preictal TRAIN: [1 2 3 4 5] Preictal TEST: [0]\n",
      "---\n",
      "preictal test data: (23, 921600)\n",
      "Preictal TRAIN: [0 2 3 4 5] Preictal TEST: [1]\n",
      "---\n",
      "preictal test data: (23, 921600)\n",
      "Preictal TRAIN: [0 1 3 4 5] Preictal TEST: [2]\n",
      "---\n",
      "preictal test data: (23, 921600)\n",
      "Preictal TRAIN: [0 1 2 4 5] Preictal TEST: [3]\n",
      "---\n",
      "preictal test data: (23, 921600)\n",
      "Preictal TRAIN: [0 1 2 3 5] Preictal TEST: [4]\n",
      "---\n",
      "preictal test data: (23, 921600)\n",
      "Preictal TRAIN: [0 1 2 3 4] Preictal TEST: [5]\n",
      "---\n",
      "preictal test data: (23, 595200)\n",
      "Interictal TRAIN: [ 3  5 34 20 23 17 27 26 10 18 31  2  9 15 32  7 13  6  4  0  8  1 19 30\n",
      " 22 28 33 25 14 21 29 24 16 11] Interictal TEST: [12]\n",
      "---\n",
      "interictal test data: (23, 921600)\n"
     ]
    },
    {
     "name": "stderr",
     "output_type": "stream",
     "text": [
      "Load interictal train data: 100%|██████████| 34/34 [00:24<00:00,  1.40it/s]\n"
     ]
    },
    {
     "name": "stdout",
     "output_type": "stream",
     "text": [
      "Preictal TRAIN: [1 2 3 4 5] Preictal TEST: [0]\n",
      "---\n",
      "preictal test data: (23, 921600)\n",
      "Preictal TRAIN: [0 2 3 4 5] Preictal TEST: [1]\n",
      "---\n",
      "preictal test data: (23, 921600)\n",
      "Preictal TRAIN: [0 1 3 4 5] Preictal TEST: [2]\n",
      "---\n",
      "preictal test data: (23, 921600)\n",
      "Preictal TRAIN: [0 1 2 4 5] Preictal TEST: [3]\n",
      "---\n",
      "preictal test data: (23, 921600)\n",
      "Preictal TRAIN: [0 1 2 3 5] Preictal TEST: [4]\n",
      "---\n",
      "preictal test data: (23, 921600)\n",
      "Preictal TRAIN: [0 1 2 3 4] Preictal TEST: [5]\n",
      "---\n",
      "preictal test data: (23, 595200)\n",
      "Interictal TRAIN: [16 32 13  1 31 21 17 34  4 14 19  7  9 30 29  2 27 15 28 24 10 20  8 26\n",
      "  0 11 23  5 22 33  6 12  3 18] Interictal TEST: [25]\n",
      "---\n"
     ]
    },
    {
     "name": "stderr",
     "output_type": "stream",
     "text": [
      "Load interictal train data:   0%|          | 0/34 [00:00<?, ?it/s]"
     ]
    },
    {
     "name": "stdout",
     "output_type": "stream",
     "text": [
      "interictal test data: (23, 921600)\n"
     ]
    },
    {
     "name": "stderr",
     "output_type": "stream",
     "text": [
      "Load interictal train data: 100%|██████████| 34/34 [00:23<00:00,  1.47it/s]\n"
     ]
    },
    {
     "name": "stdout",
     "output_type": "stream",
     "text": [
      "Preictal TRAIN: [1 2 3 4 5] Preictal TEST: [0]\n",
      "---\n",
      "preictal test data: (23, 921600)\n",
      "Preictal TRAIN: [0 2 3 4 5] Preictal TEST: [1]\n",
      "---\n",
      "preictal test data: (23, 921600)\n",
      "Preictal TRAIN: [0 1 3 4 5] Preictal TEST: [2]\n",
      "---\n",
      "preictal test data: (23, 921600)\n",
      "Preictal TRAIN: [0 1 2 4 5] Preictal TEST: [3]\n",
      "---\n",
      "preictal test data: (23, 921600)\n",
      "Preictal TRAIN: [0 1 2 3 5] Preictal TEST: [4]\n",
      "---\n",
      "preictal test data: (23, 921600)\n",
      "Preictal TRAIN: [0 1 2 3 4] Preictal TEST: [5]\n",
      "---\n",
      "preictal test data: (23, 595200)\n",
      "Interictal TRAIN: [28 16 14  6 32 29 30 19 17 15 22 18 20 11  0  4  8  5 23 24  2 12  1 21\n",
      " 33  7 13 27 10  9 31 34 26  3] Interictal TEST: [25]\n",
      "---\n"
     ]
    },
    {
     "name": "stderr",
     "output_type": "stream",
     "text": [
      "Load interictal train data:   0%|          | 0/34 [00:00<?, ?it/s]"
     ]
    },
    {
     "name": "stdout",
     "output_type": "stream",
     "text": [
      "interictal test data: (23, 921600)\n"
     ]
    },
    {
     "name": "stderr",
     "output_type": "stream",
     "text": [
      "Load interictal train data: 100%|██████████| 34/34 [00:24<00:00,  1.39it/s]\n"
     ]
    },
    {
     "name": "stdout",
     "output_type": "stream",
     "text": [
      "Preictal TRAIN: [1 2 3 4 5] Preictal TEST: [0]\n",
      "---\n",
      "preictal test data: (23, 921600)\n",
      "Preictal TRAIN: [0 2 3 4 5] Preictal TEST: [1]\n",
      "---\n",
      "preictal test data: (23, 921600)\n",
      "Preictal TRAIN: [0 1 3 4 5] Preictal TEST: [2]\n",
      "---\n",
      "preictal test data: (23, 921600)\n",
      "Preictal TRAIN: [0 1 2 4 5] Preictal TEST: [3]\n",
      "---\n",
      "preictal test data: (23, 921600)\n",
      "Preictal TRAIN: [0 1 2 3 5] Preictal TEST: [4]\n",
      "---\n",
      "preictal test data: (23, 921600)\n",
      "Preictal TRAIN: [0 1 2 3 4] Preictal TEST: [5]\n",
      "---\n",
      "preictal test data: (23, 595200)\n",
      "Interictal TRAIN: [ 0 10  4 16 21 23  8 13 33 26 27 19 31 14  6 11 28  7 15 34 22 12 24  5\n",
      "  2 20 32 18  1 17 29 30  3 25] Interictal TEST: [9]\n",
      "---\n"
     ]
    },
    {
     "name": "stderr",
     "output_type": "stream",
     "text": [
      "Load interictal train data:   0%|          | 0/34 [00:00<?, ?it/s]"
     ]
    },
    {
     "name": "stdout",
     "output_type": "stream",
     "text": [
      "interictal test data: (23, 921600)\n"
     ]
    },
    {
     "name": "stderr",
     "output_type": "stream",
     "text": [
      "Load interictal train data: 100%|██████████| 34/34 [00:22<00:00,  1.51it/s]\n"
     ]
    },
    {
     "name": "stdout",
     "output_type": "stream",
     "text": [
      "Preictal TRAIN: [1 2 3 4 5] Preictal TEST: [0]\n",
      "---\n",
      "preictal test data: (23, 921600)\n",
      "Preictal TRAIN: [0 2 3 4 5] Preictal TEST: [1]\n",
      "---\n",
      "preictal test data: (23, 921600)\n",
      "Preictal TRAIN: [0 1 3 4 5] Preictal TEST: [2]\n",
      "---\n",
      "preictal test data: (23, 921600)\n",
      "Preictal TRAIN: [0 1 2 4 5] Preictal TEST: [3]\n",
      "---\n",
      "preictal test data: (23, 921600)\n",
      "Preictal TRAIN: [0 1 2 3 5] Preictal TEST: [4]\n",
      "---\n",
      "preictal test data: (23, 921600)\n",
      "Preictal TRAIN: [0 1 2 3 4] Preictal TEST: [5]\n",
      "---\n",
      "preictal test data: (23, 595200)\n",
      "Interictal TRAIN: [ 2 12 31  5 29 21 30 18 23 25  1 24 13 15  7 32 34 14  8 19  3 20  4 10\n",
      " 16 22  0 26 33 17 11 28  9 27] Interictal TEST: [6]\n",
      "---\n"
     ]
    },
    {
     "name": "stderr",
     "output_type": "stream",
     "text": [
      "Load interictal train data:   0%|          | 0/34 [00:00<?, ?it/s]"
     ]
    },
    {
     "name": "stdout",
     "output_type": "stream",
     "text": [
      "interictal test data: (23, 921600)\n"
     ]
    },
    {
     "name": "stderr",
     "output_type": "stream",
     "text": [
      "Load interictal train data: 100%|██████████| 34/34 [00:22<00:00,  1.49it/s]\n"
     ]
    },
    {
     "name": "stdout",
     "output_type": "stream",
     "text": [
      "Preictal TRAIN: [1 2 3 4 5] Preictal TEST: [0]\n",
      "---\n",
      "preictal test data: (23, 921600)\n",
      "Preictal TRAIN: [0 2 3 4 5] Preictal TEST: [1]\n",
      "---\n",
      "preictal test data: (23, 921600)\n",
      "Preictal TRAIN: [0 1 3 4 5] Preictal TEST: [2]\n",
      "---\n",
      "preictal test data: (23, 921600)\n",
      "Preictal TRAIN: [0 1 2 4 5] Preictal TEST: [3]\n",
      "---\n",
      "preictal test data: (23, 921600)\n",
      "Preictal TRAIN: [0 1 2 3 5] Preictal TEST: [4]\n",
      "---\n",
      "preictal test data: (23, 921600)\n",
      "Preictal TRAIN: [0 1 2 3 4] Preictal TEST: [5]\n",
      "---\n",
      "preictal test data: (23, 595200)\n",
      "Interictal TRAIN: [ 6 16 34 21  2  9 25 27  1 17 32 10 12 24 29 11 30 15 23  0  5 13  8  7\n",
      " 19 26  3 33  4 18 20 28 22 14] Interictal TEST: [31]\n",
      "---\n"
     ]
    },
    {
     "name": "stderr",
     "output_type": "stream",
     "text": [
      "Load interictal train data:   0%|          | 0/34 [00:00<?, ?it/s]"
     ]
    },
    {
     "name": "stdout",
     "output_type": "stream",
     "text": [
      "interictal test data: (23, 921600)\n"
     ]
    },
    {
     "name": "stderr",
     "output_type": "stream",
     "text": [
      "Load interictal train data: 100%|██████████| 34/34 [00:24<00:00,  1.41it/s]\n"
     ]
    },
    {
     "name": "stdout",
     "output_type": "stream",
     "text": [
      "Preictal TRAIN: [1 2 3 4 5] Preictal TEST: [0]\n",
      "---\n",
      "preictal test data: (23, 921600)\n",
      "Preictal TRAIN: [0 2 3 4 5] Preictal TEST: [1]\n",
      "---\n",
      "preictal test data: (23, 921600)\n",
      "Preictal TRAIN: [0 1 3 4 5] Preictal TEST: [2]\n",
      "---\n",
      "preictal test data: (23, 921600)\n",
      "Preictal TRAIN: [0 1 2 4 5] Preictal TEST: [3]\n",
      "---\n",
      "preictal test data: (23, 921600)\n",
      "Preictal TRAIN: [0 1 2 3 5] Preictal TEST: [4]\n",
      "---\n",
      "preictal test data: (23, 921600)\n",
      "Preictal TRAIN: [0 1 2 3 4] Preictal TEST: [5]\n",
      "---\n",
      "preictal test data: (23, 595200)\n",
      "Interictal TRAIN: [29  2  5  4 32 33 25 22 11 34 14  0 24 26 20  8  7 19 31 13 12  9 30 17\n",
      "  3 28 27 16 21 10  6  1 23 18] Interictal TEST: [15]\n",
      "---\n"
     ]
    },
    {
     "name": "stderr",
     "output_type": "stream",
     "text": [
      "Load interictal train data:   0%|          | 0/34 [00:00<?, ?it/s]"
     ]
    },
    {
     "name": "stdout",
     "output_type": "stream",
     "text": [
      "interictal test data: (23, 921600)\n"
     ]
    },
    {
     "name": "stderr",
     "output_type": "stream",
     "text": [
      "Load interictal train data: 100%|██████████| 34/34 [00:27<00:00,  1.22it/s]\n"
     ]
    },
    {
     "name": "stdout",
     "output_type": "stream",
     "text": [
      "Preictal TRAIN: [1 2 3 4 5] Preictal TEST: [0]\n",
      "---\n",
      "preictal test data: (23, 921600)\n",
      "Preictal TRAIN: [0 2 3 4 5] Preictal TEST: [1]\n",
      "---\n",
      "preictal test data: (23, 921600)\n",
      "Preictal TRAIN: [0 1 3 4 5] Preictal TEST: [2]\n",
      "---\n",
      "preictal test data: (23, 921600)\n",
      "Preictal TRAIN: [0 1 2 4 5] Preictal TEST: [3]\n",
      "---\n",
      "preictal test data: (23, 921600)\n",
      "Preictal TRAIN: [0 1 2 3 5] Preictal TEST: [4]\n",
      "---\n",
      "preictal test data: (23, 921600)\n",
      "Preictal TRAIN: [0 1 2 3 4] Preictal TEST: [5]\n",
      "---\n",
      "preictal test data: (23, 595200)\n",
      "Interictal TRAIN: [29 15 18 10  2 13 14 26 11 21 30  8  3  0  6 28  9  7 32 19 27  5  1 20\n",
      " 25 22 33 17 12 31  4 24 23 16] Interictal TEST: [34]\n",
      "---\n"
     ]
    },
    {
     "name": "stderr",
     "output_type": "stream",
     "text": [
      "Load interictal train data:   0%|          | 0/34 [00:00<?, ?it/s]"
     ]
    },
    {
     "name": "stdout",
     "output_type": "stream",
     "text": [
      "interictal test data: (23, 921600)\n"
     ]
    },
    {
     "name": "stderr",
     "output_type": "stream",
     "text": [
      "Load interictal train data: 100%|██████████| 34/34 [00:25<00:00,  1.35it/s]\n"
     ]
    },
    {
     "name": "stdout",
     "output_type": "stream",
     "text": [
      "Preictal TRAIN: [1 2 3 4 5] Preictal TEST: [0]\n",
      "---\n",
      "preictal test data: (23, 921600)\n",
      "Preictal TRAIN: [0 2 3 4 5] Preictal TEST: [1]\n",
      "---\n",
      "preictal test data: (23, 921600)\n",
      "Preictal TRAIN: [0 1 3 4 5] Preictal TEST: [2]\n",
      "---\n",
      "preictal test data: (23, 921600)\n",
      "Preictal TRAIN: [0 1 2 4 5] Preictal TEST: [3]\n",
      "---\n",
      "preictal test data: (23, 921600)\n",
      "Preictal TRAIN: [0 1 2 3 5] Preictal TEST: [4]\n",
      "---\n",
      "preictal test data: (23, 921600)\n",
      "Preictal TRAIN: [0 1 2 3 4] Preictal TEST: [5]\n",
      "---\n",
      "preictal test data: (23, 595200)\n",
      "Interictal TRAIN: [13 21 31  5 34 14 24  8  7  0 26 22 29  4 23 25 32  1  2 33 17 18 12 19\n",
      "  3 15  9  6 20 11 27 30 10 16] Interictal TEST: [28]\n",
      "---\n"
     ]
    },
    {
     "name": "stderr",
     "output_type": "stream",
     "text": [
      "Load interictal train data:   0%|          | 0/34 [00:00<?, ?it/s]"
     ]
    },
    {
     "name": "stdout",
     "output_type": "stream",
     "text": [
      "interictal test data: (23, 921600)\n"
     ]
    },
    {
     "name": "stderr",
     "output_type": "stream",
     "text": [
      "Load interictal train data: 100%|██████████| 34/34 [00:23<00:00,  1.43it/s]\n"
     ]
    },
    {
     "name": "stdout",
     "output_type": "stream",
     "text": [
      "Preictal TRAIN: [1 2 3 4 5] Preictal TEST: [0]\n",
      "---\n",
      "preictal test data: (23, 921600)\n",
      "Preictal TRAIN: [0 2 3 4 5] Preictal TEST: [1]\n",
      "---\n",
      "preictal test data: (23, 921600)\n",
      "Preictal TRAIN: [0 1 3 4 5] Preictal TEST: [2]\n",
      "---\n",
      "preictal test data: (23, 921600)\n",
      "Preictal TRAIN: [0 1 2 4 5] Preictal TEST: [3]\n",
      "---\n",
      "preictal test data: (23, 921600)\n",
      "Preictal TRAIN: [0 1 2 3 5] Preictal TEST: [4]\n",
      "---\n",
      "preictal test data: (23, 921600)\n",
      "Preictal TRAIN: [0 1 2 3 4] Preictal TEST: [5]\n",
      "---\n",
      "preictal test data: (23, 595200)\n",
      "Interictal TRAIN: [25  2 11 14 15 10 34 17 31 29 30 16 27 32  6 18 12  3 22 20  8  7  1  5\n",
      " 21  9 19 13 24  0 26  4 28 33] Interictal TEST: [23]\n",
      "---\n",
      "interictal test data: (23, 921600)\n"
     ]
    },
    {
     "name": "stderr",
     "output_type": "stream",
     "text": [
      "Load interictal train data: 100%|██████████| 34/34 [00:27<00:00,  1.25it/s]\n"
     ]
    },
    {
     "name": "stdout",
     "output_type": "stream",
     "text": [
      "Preictal TRAIN: [1 2 3 4 5] Preictal TEST: [0]\n",
      "---\n",
      "preictal test data: (23, 921600)\n",
      "Preictal TRAIN: [0 2 3 4 5] Preictal TEST: [1]\n",
      "---\n",
      "preictal test data: (23, 921600)\n",
      "Preictal TRAIN: [0 1 3 4 5] Preictal TEST: [2]\n",
      "---\n",
      "preictal test data: (23, 921600)\n",
      "Preictal TRAIN: [0 1 2 4 5] Preictal TEST: [3]\n",
      "---\n",
      "preictal test data: (23, 921600)\n",
      "Preictal TRAIN: [0 1 2 3 5] Preictal TEST: [4]\n",
      "---\n",
      "preictal test data: (23, 921600)\n",
      "Preictal TRAIN: [0 1 2 3 4] Preictal TEST: [5]\n",
      "---\n",
      "preictal test data: (23, 595200)\n",
      "Interictal TRAIN: [27  8 22 32 34  5 16 24 11 28 15  7 20 21 29  2  3 17  4  9 13 18 12  1\n",
      "  6 30 31 14 26 19  0 23 10 25] Interictal TEST: [33]\n",
      "---\n",
      "interictal test data: (23, 921600)\n"
     ]
    },
    {
     "name": "stderr",
     "output_type": "stream",
     "text": [
      "Load interictal train data: 100%|██████████| 34/34 [00:25<00:00,  1.31it/s]\n"
     ]
    },
    {
     "name": "stdout",
     "output_type": "stream",
     "text": [
      "Preictal TRAIN: [1 2 3 4 5] Preictal TEST: [0]\n",
      "---\n",
      "preictal test data: (23, 921600)\n",
      "Preictal TRAIN: [0 2 3 4 5] Preictal TEST: [1]\n",
      "---\n",
      "preictal test data: (23, 921600)\n",
      "Preictal TRAIN: [0 1 3 4 5] Preictal TEST: [2]\n",
      "---\n",
      "preictal test data: (23, 921600)\n",
      "Preictal TRAIN: [0 1 2 4 5] Preictal TEST: [3]\n",
      "---\n",
      "preictal test data: (23, 921600)\n",
      "Preictal TRAIN: [0 1 2 3 5] Preictal TEST: [4]\n",
      "---\n",
      "preictal test data: (23, 921600)\n",
      "Preictal TRAIN: [0 1 2 3 4] Preictal TEST: [5]\n",
      "---\n",
      "preictal test data: (23, 595200)\n",
      "Interictal TRAIN: [ 3 25 20  4 32 21 23  1 18 30 24 17  9 29  5 28 27  7 13 11 10  0  8 31\n",
      " 16 14  6 19 34  2 15 12 22 26] Interictal TEST: [33]\n",
      "---\n"
     ]
    },
    {
     "name": "stderr",
     "output_type": "stream",
     "text": [
      "Load interictal train data:   0%|          | 0/34 [00:00<?, ?it/s]"
     ]
    },
    {
     "name": "stdout",
     "output_type": "stream",
     "text": [
      "interictal test data: (23, 921600)\n"
     ]
    },
    {
     "name": "stderr",
     "output_type": "stream",
     "text": [
      "Load interictal train data: 100%|██████████| 34/34 [00:26<00:00,  1.30it/s]\n"
     ]
    },
    {
     "name": "stdout",
     "output_type": "stream",
     "text": [
      "Preictal TRAIN: [1 2 3 4 5] Preictal TEST: [0]\n",
      "---\n",
      "preictal test data: (23, 921600)\n",
      "Preictal TRAIN: [0 2 3 4 5] Preictal TEST: [1]\n",
      "---\n",
      "preictal test data: (23, 921600)\n",
      "Preictal TRAIN: [0 1 3 4 5] Preictal TEST: [2]\n",
      "---\n",
      "preictal test data: (23, 921600)\n",
      "Preictal TRAIN: [0 1 2 4 5] Preictal TEST: [3]\n",
      "---\n",
      "preictal test data: (23, 921600)\n",
      "Preictal TRAIN: [0 1 2 3 5] Preictal TEST: [4]\n",
      "---\n",
      "preictal test data: (23, 921600)\n",
      "Preictal TRAIN: [0 1 2 3 4] Preictal TEST: [5]\n",
      "---\n",
      "preictal test data: (23, 595200)\n",
      "Interictal TRAIN: [ 7 13 23 17 14 22 27  4  6 24 21 11 34 32  3 15 25  5 28 30 26 10 19  8\n",
      "  2 16  9  0 12  1 18 33 29 31] Interictal TEST: [20]\n",
      "---\n"
     ]
    },
    {
     "name": "stderr",
     "output_type": "stream",
     "text": [
      "Load interictal train data:   0%|          | 0/34 [00:00<?, ?it/s]"
     ]
    },
    {
     "name": "stdout",
     "output_type": "stream",
     "text": [
      "interictal test data: (23, 921600)\n"
     ]
    },
    {
     "name": "stderr",
     "output_type": "stream",
     "text": [
      "Load interictal train data: 100%|██████████| 34/34 [00:25<00:00,  1.32it/s]\n"
     ]
    },
    {
     "name": "stdout",
     "output_type": "stream",
     "text": [
      "Preictal TRAIN: [1 2 3 4 5] Preictal TEST: [0]\n",
      "---\n",
      "preictal test data: (23, 921600)\n",
      "Preictal TRAIN: [0 2 3 4 5] Preictal TEST: [1]\n",
      "---\n",
      "preictal test data: (23, 921600)\n",
      "Preictal TRAIN: [0 1 3 4 5] Preictal TEST: [2]\n",
      "---\n",
      "preictal test data: (23, 921600)\n",
      "Preictal TRAIN: [0 1 2 4 5] Preictal TEST: [3]\n",
      "---\n",
      "preictal test data: (23, 921600)\n",
      "Preictal TRAIN: [0 1 2 3 5] Preictal TEST: [4]\n",
      "---\n",
      "preictal test data: (23, 921600)\n",
      "Preictal TRAIN: [0 1 2 3 4] Preictal TEST: [5]\n",
      "---\n",
      "preictal test data: (23, 595200)\n",
      "Interictal TRAIN: [18  4 23 15  2 28 33 29  7 25 24 11 20 10 12  6 26  1 22 14 16 34 30 31\n",
      "  8 19 32  3 17 27 21 13  9  5] Interictal TEST: [0]\n",
      "---\n"
     ]
    },
    {
     "name": "stderr",
     "output_type": "stream",
     "text": [
      "Load interictal train data:   0%|          | 0/34 [00:00<?, ?it/s]"
     ]
    },
    {
     "name": "stdout",
     "output_type": "stream",
     "text": [
      "interictal test data: (23, 921600)\n"
     ]
    },
    {
     "name": "stderr",
     "output_type": "stream",
     "text": [
      "Load interictal train data: 100%|██████████| 34/34 [00:43<00:00,  1.27s/it]\n"
     ]
    },
    {
     "name": "stdout",
     "output_type": "stream",
     "text": [
      "Preictal TRAIN: [1 2 3 4 5] Preictal TEST: [0]\n",
      "---\n",
      "preictal test data: (23, 921600)\n",
      "Preictal TRAIN: [0 2 3 4 5] Preictal TEST: [1]\n",
      "---\n",
      "preictal test data: (23, 921600)\n",
      "Preictal TRAIN: [0 1 3 4 5] Preictal TEST: [2]\n",
      "---\n",
      "preictal test data: (23, 921600)\n",
      "Preictal TRAIN: [0 1 2 4 5] Preictal TEST: [3]\n",
      "---\n",
      "preictal test data: (23, 921600)\n",
      "Preictal TRAIN: [0 1 2 3 5] Preictal TEST: [4]\n",
      "---\n",
      "preictal test data: (23, 921600)\n",
      "Preictal TRAIN: [0 1 2 3 4] Preictal TEST: [5]\n",
      "---\n",
      "preictal test data: (23, 595200)\n",
      "Interictal TRAIN: [21 16 23  2 12 10 13  9 15 20  0 11 22  7 19 30 31  1 33 34  8 24 32 28\n",
      " 17  4 26  5 18 14 29  3 25 27] Interictal TEST: [6]\n",
      "---\n"
     ]
    },
    {
     "name": "stderr",
     "output_type": "stream",
     "text": [
      "Load interictal train data:   0%|          | 0/34 [00:00<?, ?it/s]"
     ]
    },
    {
     "name": "stdout",
     "output_type": "stream",
     "text": [
      "interictal test data: (23, 921600)\n"
     ]
    },
    {
     "name": "stderr",
     "output_type": "stream",
     "text": [
      "Load interictal train data: 100%|██████████| 34/34 [00:39<00:00,  1.17s/it]\n"
     ]
    },
    {
     "name": "stdout",
     "output_type": "stream",
     "text": [
      "Preictal TRAIN: [1 2 3 4 5] Preictal TEST: [0]\n",
      "---\n",
      "preictal test data: (23, 921600)\n",
      "Preictal TRAIN: [0 2 3 4 5] Preictal TEST: [1]\n",
      "---\n",
      "preictal test data: (23, 921600)\n",
      "Preictal TRAIN: [0 1 3 4 5] Preictal TEST: [2]\n",
      "---\n",
      "preictal test data: (23, 921600)\n",
      "Preictal TRAIN: [0 1 2 4 5] Preictal TEST: [3]\n",
      "---\n",
      "preictal test data: (23, 921600)\n",
      "Preictal TRAIN: [0 1 2 3 5] Preictal TEST: [4]\n",
      "---\n",
      "preictal test data: (23, 921600)\n",
      "Preictal TRAIN: [0 1 2 3 4] Preictal TEST: [5]\n",
      "---\n",
      "preictal test data: (23, 595200)\n",
      "Interictal TRAIN: [22 32 25  8  6  2 34 26 24  1 15 30 10 28 21 14 29 17 19 31 23 27 13 20\n",
      "  5 33 16  3  7  4 18  9 12  0] Interictal TEST: [11]\n",
      "---\n",
      "interictal test data: (23, 921600)\n"
     ]
    },
    {
     "name": "stderr",
     "output_type": "stream",
     "text": [
      "Load interictal train data: 100%|██████████| 34/34 [01:02<00:00,  1.85s/it]\n"
     ]
    },
    {
     "name": "stdout",
     "output_type": "stream",
     "text": [
      "Preictal TRAIN: [1 2 3 4 5] Preictal TEST: [0]\n",
      "---\n",
      "preictal test data: (23, 921600)\n",
      "Preictal TRAIN: [0 2 3 4 5] Preictal TEST: [1]\n",
      "---\n",
      "preictal test data: (23, 921600)\n",
      "Preictal TRAIN: [0 1 3 4 5] Preictal TEST: [2]\n",
      "---\n",
      "preictal test data: (23, 921600)\n",
      "Preictal TRAIN: [0 1 2 4 5] Preictal TEST: [3]\n",
      "---\n",
      "preictal test data: (23, 921600)\n",
      "Preictal TRAIN: [0 1 2 3 5] Preictal TEST: [4]\n",
      "---\n",
      "preictal test data: (23, 921600)\n",
      "Preictal TRAIN: [0 1 2 3 4] Preictal TEST: [5]\n",
      "---\n",
      "preictal test data: (23, 595200)\n",
      "Interictal TRAIN: [13 19 14 18 17 16 15 11 28 22 27 32 24  3 23 31  0  7  5  1  8 30 10 29\n",
      " 26  4 21 25 33 12 20 34  9  2] Interictal TEST: [6]\n",
      "---\n",
      "interictal test data: (23, 921600)\n"
     ]
    },
    {
     "name": "stderr",
     "output_type": "stream",
     "text": [
      "Load interictal train data: 100%|██████████| 34/34 [00:31<00:00,  1.09it/s]\n"
     ]
    },
    {
     "name": "stdout",
     "output_type": "stream",
     "text": [
      "Preictal TRAIN: [1 2 3 4 5] Preictal TEST: [0]\n",
      "---\n",
      "preictal test data: (23, 921600)\n",
      "Preictal TRAIN: [0 2 3 4 5] Preictal TEST: [1]\n",
      "---\n",
      "preictal test data: (23, 921600)\n",
      "Preictal TRAIN: [0 1 3 4 5] Preictal TEST: [2]\n",
      "---\n",
      "preictal test data: (23, 921600)\n",
      "Preictal TRAIN: [0 1 2 4 5] Preictal TEST: [3]\n",
      "---\n",
      "preictal test data: (23, 921600)\n",
      "Preictal TRAIN: [0 1 2 3 5] Preictal TEST: [4]\n",
      "---\n",
      "preictal test data: (23, 921600)\n",
      "Preictal TRAIN: [0 1 2 3 4] Preictal TEST: [5]\n",
      "---\n",
      "preictal test data: (23, 595200)\n",
      "Interictal TRAIN: [17 14  8 25 15 28 20  5  7 12 23  1 30  9 31  4 29 11 24 21 34  2 32 26\n",
      " 27  6 33 10  0 22 13 19  3 18] Interictal TEST: [16]\n",
      "---\n"
     ]
    },
    {
     "name": "stderr",
     "output_type": "stream",
     "text": [
      "Load interictal train data:   0%|          | 0/34 [00:00<?, ?it/s]"
     ]
    },
    {
     "name": "stdout",
     "output_type": "stream",
     "text": [
      "interictal test data: (23, 921600)\n"
     ]
    },
    {
     "name": "stderr",
     "output_type": "stream",
     "text": [
      "Load interictal train data: 100%|██████████| 34/34 [00:31<00:00,  1.07it/s]\n"
     ]
    },
    {
     "name": "stdout",
     "output_type": "stream",
     "text": [
      "Preictal TRAIN: [1 2 3 4 5] Preictal TEST: [0]\n",
      "---\n",
      "preictal test data: (23, 921600)\n",
      "Preictal TRAIN: [0 2 3 4 5] Preictal TEST: [1]\n",
      "---\n",
      "preictal test data: (23, 921600)\n",
      "Preictal TRAIN: [0 1 3 4 5] Preictal TEST: [2]\n",
      "---\n",
      "preictal test data: (23, 921600)\n",
      "Preictal TRAIN: [0 1 2 4 5] Preictal TEST: [3]\n",
      "---\n",
      "preictal test data: (23, 921600)\n",
      "Preictal TRAIN: [0 1 2 3 5] Preictal TEST: [4]\n",
      "---\n",
      "preictal test data: (23, 921600)\n",
      "Preictal TRAIN: [0 1 2 3 4] Preictal TEST: [5]\n",
      "---\n",
      "preictal test data: (23, 595200)\n",
      "Interictal TRAIN: [34 17 16 23 24  3 10 27 14 32  0  4  6 28 31 30 13 18 26 22 33 15 25  1\n",
      " 11 21 20  5  8 19  9 29 12  2] Interictal TEST: [7]\n",
      "---\n"
     ]
    },
    {
     "name": "stderr",
     "output_type": "stream",
     "text": [
      "Load interictal train data:   0%|          | 0/34 [00:00<?, ?it/s]"
     ]
    },
    {
     "name": "stdout",
     "output_type": "stream",
     "text": [
      "interictal test data: (23, 921600)\n"
     ]
    },
    {
     "name": "stderr",
     "output_type": "stream",
     "text": [
      "Load interictal train data: 100%|██████████| 34/34 [00:36<00:00,  1.08s/it]\n"
     ]
    },
    {
     "name": "stdout",
     "output_type": "stream",
     "text": [
      "Preictal TRAIN: [1 2 3 4 5] Preictal TEST: [0]\n",
      "---\n",
      "preictal test data: (23, 921600)\n",
      "Preictal TRAIN: [0 2 3 4 5] Preictal TEST: [1]\n",
      "---\n",
      "preictal test data: (23, 921600)\n",
      "Preictal TRAIN: [0 1 3 4 5] Preictal TEST: [2]\n",
      "---\n",
      "preictal test data: (23, 921600)\n",
      "Preictal TRAIN: [0 1 2 4 5] Preictal TEST: [3]\n",
      "---\n",
      "preictal test data: (23, 921600)\n",
      "Preictal TRAIN: [0 1 2 3 5] Preictal TEST: [4]\n",
      "---\n",
      "preictal test data: (23, 921600)\n",
      "Preictal TRAIN: [0 1 2 3 4] Preictal TEST: [5]\n",
      "---\n",
      "preictal test data: (23, 595200)\n",
      "Interictal TRAIN: [ 2 21 23 15  1 11 18  9  3 34 16 14 13 31 27 28  6 20 17 33 25 24 30  4\n",
      "  5 19 22  7 26 32  0 29 12 10] Interictal TEST: [8]\n",
      "---\n"
     ]
    },
    {
     "name": "stderr",
     "output_type": "stream",
     "text": [
      "Load interictal train data:   0%|          | 0/34 [00:00<?, ?it/s]"
     ]
    },
    {
     "name": "stdout",
     "output_type": "stream",
     "text": [
      "interictal test data: (23, 921600)\n"
     ]
    },
    {
     "name": "stderr",
     "output_type": "stream",
     "text": [
      "Load interictal train data: 100%|██████████| 34/34 [00:31<00:00,  1.06it/s]\n"
     ]
    },
    {
     "name": "stdout",
     "output_type": "stream",
     "text": [
      "Preictal TRAIN: [1 2 3 4 5] Preictal TEST: [0]\n",
      "---\n",
      "preictal test data: (23, 921600)\n",
      "Preictal TRAIN: [0 2 3 4 5] Preictal TEST: [1]\n",
      "---\n",
      "preictal test data: (23, 921600)\n",
      "Preictal TRAIN: [0 1 3 4 5] Preictal TEST: [2]\n",
      "---\n",
      "preictal test data: (23, 921600)\n",
      "Preictal TRAIN: [0 1 2 4 5] Preictal TEST: [3]\n",
      "---\n",
      "preictal test data: (23, 921600)\n",
      "Preictal TRAIN: [0 1 2 3 5] Preictal TEST: [4]\n",
      "---\n",
      "preictal test data: (23, 921600)\n",
      "Preictal TRAIN: [0 1 2 3 4] Preictal TEST: [5]\n",
      "---\n",
      "preictal test data: (23, 595200)\n",
      "Interictal TRAIN: [12 34 13 26  0 33  5 18  3 29 31 21 10 20 22 24 11 19 32 27  2 25 30 23\n",
      "  7 28 16  4  1 14  6 15  9 17] Interictal TEST: [8]\n",
      "---\n"
     ]
    },
    {
     "name": "stderr",
     "output_type": "stream",
     "text": [
      "Load interictal train data:   0%|          | 0/34 [00:00<?, ?it/s]"
     ]
    },
    {
     "name": "stdout",
     "output_type": "stream",
     "text": [
      "interictal test data: (23, 921600)\n"
     ]
    },
    {
     "name": "stderr",
     "output_type": "stream",
     "text": [
      "Load interictal train data: 100%|██████████| 34/34 [00:27<00:00,  1.23it/s]\n"
     ]
    },
    {
     "name": "stdout",
     "output_type": "stream",
     "text": [
      "Preictal TRAIN: [1 2 3 4 5] Preictal TEST: [0]\n",
      "---\n",
      "preictal test data: (23, 921600)\n",
      "Preictal TRAIN: [0 2 3 4 5] Preictal TEST: [1]\n",
      "---\n",
      "preictal test data: (23, 921600)\n",
      "Preictal TRAIN: [0 1 3 4 5] Preictal TEST: [2]\n",
      "---\n",
      "preictal test data: (23, 921600)\n",
      "Preictal TRAIN: [0 1 2 4 5] Preictal TEST: [3]\n",
      "---\n",
      "preictal test data: (23, 921600)\n",
      "Preictal TRAIN: [0 1 2 3 5] Preictal TEST: [4]\n",
      "---\n",
      "preictal test data: (23, 921600)\n",
      "Preictal TRAIN: [0 1 2 3 4] Preictal TEST: [5]\n",
      "---\n",
      "preictal test data: (23, 595200)\n",
      "Interictal TRAIN: [15 14 20  0 25  7 24 11 12 31 27 23  9 13 18 26  3 21 10 29 34 22 33  6\n",
      " 16 30  1  4 28  5 17 32  8 19] Interictal TEST: [2]\n",
      "---\n",
      "interictal test data: (23, 921600)\n"
     ]
    },
    {
     "name": "stderr",
     "output_type": "stream",
     "text": [
      "Load interictal train data: 100%|██████████| 34/34 [00:28<00:00,  1.19it/s]\n"
     ]
    },
    {
     "name": "stdout",
     "output_type": "stream",
     "text": [
      "Preictal TRAIN: [1 2 3 4 5] Preictal TEST: [0]\n",
      "---\n",
      "preictal test data: (23, 921600)\n",
      "Preictal TRAIN: [0 2 3 4 5] Preictal TEST: [1]\n",
      "---\n",
      "preictal test data: (23, 921600)\n",
      "Preictal TRAIN: [0 1 3 4 5] Preictal TEST: [2]\n",
      "---\n",
      "preictal test data: (23, 921600)\n",
      "Preictal TRAIN: [0 1 2 4 5] Preictal TEST: [3]\n",
      "---\n",
      "preictal test data: (23, 921600)\n",
      "Preictal TRAIN: [0 1 2 3 5] Preictal TEST: [4]\n",
      "---\n",
      "preictal test data: (23, 921600)\n",
      "Preictal TRAIN: [0 1 2 3 4] Preictal TEST: [5]\n",
      "---\n",
      "preictal test data: (23, 595200)\n",
      "Interictal TRAIN: [22 10 32  4 19 31  2 20  7 34 13  3 24 21 14 11 18 16 17  9 29 28 30  6\n",
      " 27 25 26 15  5 33  0  8 23  1] Interictal TEST: [12]\n",
      "---\n",
      "interictal test data: (23, 921600)\n"
     ]
    },
    {
     "name": "stderr",
     "output_type": "stream",
     "text": [
      "Load interictal train data: 100%|██████████| 34/34 [00:28<00:00,  1.19it/s]\n"
     ]
    },
    {
     "name": "stdout",
     "output_type": "stream",
     "text": [
      "Preictal TRAIN: [1 2 3 4 5] Preictal TEST: [0]\n",
      "---\n",
      "preictal test data: (23, 921600)\n",
      "Preictal TRAIN: [0 2 3 4 5] Preictal TEST: [1]\n",
      "---\n",
      "preictal test data: (23, 921600)\n",
      "Preictal TRAIN: [0 1 3 4 5] Preictal TEST: [2]\n",
      "---\n",
      "preictal test data: (23, 921600)\n",
      "Preictal TRAIN: [0 1 2 4 5] Preictal TEST: [3]\n",
      "---\n",
      "preictal test data: (23, 921600)\n",
      "Preictal TRAIN: [0 1 2 3 5] Preictal TEST: [4]\n",
      "---\n",
      "preictal test data: (23, 921600)\n",
      "Preictal TRAIN: [0 1 2 3 4] Preictal TEST: [5]\n",
      "---\n",
      "preictal test data: (23, 595200)\n",
      "Interictal TRAIN: [20 11 14 32 23 13  7 22 19 16 12 26 34 33 27 25  9 18 15 17  3 29 24 31\n",
      " 28 21  1  4 30  6  5 10  8  2] Interictal TEST: [0]\n",
      "---\n"
     ]
    },
    {
     "name": "stderr",
     "output_type": "stream",
     "text": [
      "Load interictal train data:   0%|          | 0/34 [00:00<?, ?it/s]"
     ]
    },
    {
     "name": "stdout",
     "output_type": "stream",
     "text": [
      "interictal test data: (23, 921600)\n"
     ]
    },
    {
     "name": "stderr",
     "output_type": "stream",
     "text": [
      "Load interictal train data: 100%|██████████| 34/34 [00:28<00:00,  1.18it/s]\n"
     ]
    },
    {
     "name": "stdout",
     "output_type": "stream",
     "text": [
      "Preictal TRAIN: [1 2 3 4 5] Preictal TEST: [0]\n",
      "---\n",
      "preictal test data: (23, 921600)\n",
      "Preictal TRAIN: [0 2 3 4 5] Preictal TEST: [1]\n",
      "---\n",
      "preictal test data: (23, 921600)\n",
      "Preictal TRAIN: [0 1 3 4 5] Preictal TEST: [2]\n",
      "---\n",
      "preictal test data: (23, 921600)\n",
      "Preictal TRAIN: [0 1 2 4 5] Preictal TEST: [3]\n",
      "---\n",
      "preictal test data: (23, 921600)\n",
      "Preictal TRAIN: [0 1 2 3 5] Preictal TEST: [4]\n",
      "---\n",
      "preictal test data: (23, 921600)\n",
      "Preictal TRAIN: [0 1 2 3 4] Preictal TEST: [5]\n",
      "---\n",
      "preictal test data: (23, 595200)\n",
      "Interictal TRAIN: [29 31 18  5 28 12 33 20  7  0  3 32 34  8  9  6 13 22 24 26 16 19 14  1\n",
      " 27 11  2 15 30  4 23 21 25 17] Interictal TEST: [10]\n",
      "---\n"
     ]
    },
    {
     "name": "stderr",
     "output_type": "stream",
     "text": [
      "Load interictal train data:   0%|          | 0/34 [00:00<?, ?it/s]"
     ]
    },
    {
     "name": "stdout",
     "output_type": "stream",
     "text": [
      "interictal test data: (23, 921600)\n"
     ]
    },
    {
     "name": "stderr",
     "output_type": "stream",
     "text": [
      "Load interictal train data: 100%|██████████| 34/34 [00:26<00:00,  1.29it/s]\n"
     ]
    },
    {
     "name": "stdout",
     "output_type": "stream",
     "text": [
      "Preictal TRAIN: [1 2 3 4 5] Preictal TEST: [0]\n",
      "---\n",
      "preictal test data: (23, 921600)\n",
      "Preictal TRAIN: [0 2 3 4 5] Preictal TEST: [1]\n",
      "---\n",
      "preictal test data: (23, 921600)\n",
      "Preictal TRAIN: [0 1 3 4 5] Preictal TEST: [2]\n",
      "---\n",
      "preictal test data: (23, 921600)\n",
      "Preictal TRAIN: [0 1 2 4 5] Preictal TEST: [3]\n",
      "---\n",
      "preictal test data: (23, 921600)\n",
      "Preictal TRAIN: [0 1 2 3 5] Preictal TEST: [4]\n",
      "---\n",
      "preictal test data: (23, 921600)\n",
      "Preictal TRAIN: [0 1 2 3 4] Preictal TEST: [5]\n",
      "---\n",
      "preictal test data: (23, 595200)\n",
      "Interictal TRAIN: [34 20  8 10 22 26  2  1 27  0  9 18 32  5 24 12 33 29 30 28 21  4 13  3\n",
      " 11 17 23 31 25  6 19  7 14 15] Interictal TEST: [16]\n",
      "---\n"
     ]
    },
    {
     "name": "stderr",
     "output_type": "stream",
     "text": [
      "Load interictal train data:   0%|          | 0/34 [00:00<?, ?it/s]"
     ]
    },
    {
     "name": "stdout",
     "output_type": "stream",
     "text": [
      "interictal test data: (23, 921600)\n"
     ]
    },
    {
     "name": "stderr",
     "output_type": "stream",
     "text": [
      "Load interictal train data: 100%|██████████| 34/34 [00:29<00:00,  1.16it/s]\n"
     ]
    },
    {
     "name": "stdout",
     "output_type": "stream",
     "text": [
      "Preictal TRAIN: [1 2 3 4 5] Preictal TEST: [0]\n",
      "---\n",
      "preictal test data: (23, 921600)\n",
      "Preictal TRAIN: [0 2 3 4 5] Preictal TEST: [1]\n",
      "---\n",
      "preictal test data: (23, 921600)\n",
      "Preictal TRAIN: [0 1 3 4 5] Preictal TEST: [2]\n",
      "---\n",
      "preictal test data: (23, 921600)\n",
      "Preictal TRAIN: [0 1 2 4 5] Preictal TEST: [3]\n",
      "---\n",
      "preictal test data: (23, 921600)\n",
      "Preictal TRAIN: [0 1 2 3 5] Preictal TEST: [4]\n",
      "---\n",
      "preictal test data: (23, 921600)\n",
      "Preictal TRAIN: [0 1 2 3 4] Preictal TEST: [5]\n",
      "---\n",
      "preictal test data: (23, 595200)\n",
      "Interictal TRAIN: [25  6  5 34  4 16  9 22 20  0 29  2 13 24 31  7 32 12  1 26 14 27 30 10\n",
      "  3 15 23 17 19 21 28 11 18  8] Interictal TEST: [33]\n",
      "---\n"
     ]
    },
    {
     "name": "stderr",
     "output_type": "stream",
     "text": [
      "Load interictal train data:   0%|          | 0/34 [00:00<?, ?it/s]"
     ]
    },
    {
     "name": "stdout",
     "output_type": "stream",
     "text": [
      "interictal test data: (23, 921600)\n"
     ]
    },
    {
     "name": "stderr",
     "output_type": "stream",
     "text": [
      "Load interictal train data: 100%|██████████| 34/34 [00:28<00:00,  1.19it/s]\n"
     ]
    },
    {
     "name": "stdout",
     "output_type": "stream",
     "text": [
      "Preictal TRAIN: [1 2 3 4 5] Preictal TEST: [0]\n",
      "---\n",
      "preictal test data: (23, 921600)\n",
      "Preictal TRAIN: [0 2 3 4 5] Preictal TEST: [1]\n",
      "---\n",
      "preictal test data: (23, 921600)\n",
      "Preictal TRAIN: [0 1 3 4 5] Preictal TEST: [2]\n",
      "---\n",
      "preictal test data: (23, 921600)\n",
      "Preictal TRAIN: [0 1 2 4 5] Preictal TEST: [3]\n",
      "---\n",
      "preictal test data: (23, 921600)\n",
      "Preictal TRAIN: [0 1 2 3 5] Preictal TEST: [4]\n",
      "---\n",
      "preictal test data: (23, 921600)\n",
      "Preictal TRAIN: [0 1 2 3 4] Preictal TEST: [5]\n",
      "---\n",
      "preictal test data: (23, 595200)\n",
      "Interictal TRAIN: [ 8 24 30 11 18 31  7 17 21 33 14  2  1 25 29  3  6 16  9 20 10 13 12 26\n",
      " 27 34 15  5  0 22  4 23 32 19] Interictal TEST: [28]\n",
      "---\n",
      "interictal test data: (23, 921600)\n"
     ]
    },
    {
     "name": "stderr",
     "output_type": "stream",
     "text": [
      "Load interictal train data: 100%|██████████| 34/34 [00:25<00:00,  1.35it/s]\n"
     ]
    },
    {
     "name": "stdout",
     "output_type": "stream",
     "text": [
      "Preictal TRAIN: [1 2 3 4 5] Preictal TEST: [0]\n",
      "---\n",
      "preictal test data: (23, 921600)\n",
      "Preictal TRAIN: [0 2 3 4 5] Preictal TEST: [1]\n",
      "---\n",
      "preictal test data: (23, 921600)\n",
      "Preictal TRAIN: [0 1 3 4 5] Preictal TEST: [2]\n",
      "---\n",
      "preictal test data: (23, 921600)\n",
      "Preictal TRAIN: [0 1 2 4 5] Preictal TEST: [3]\n",
      "---\n",
      "preictal test data: (23, 921600)\n",
      "Preictal TRAIN: [0 1 2 3 5] Preictal TEST: [4]\n",
      "---\n",
      "preictal test data: (23, 921600)\n",
      "Preictal TRAIN: [0 1 2 3 4] Preictal TEST: [5]\n",
      "---\n",
      "preictal test data: (23, 595200)\n",
      "Interictal TRAIN: [ 3  5  8 10 17 19 29  2 24 27  0  9 28 22 16  1  4 32 30 33 25 15 26 21\n",
      " 11 34 23  7 20 31 14 18 13 12] Interictal TEST: [6]\n",
      "---\n"
     ]
    },
    {
     "name": "stderr",
     "output_type": "stream",
     "text": [
      "Load interictal train data:   0%|          | 0/34 [00:00<?, ?it/s]"
     ]
    },
    {
     "name": "stdout",
     "output_type": "stream",
     "text": [
      "interictal test data: (23, 921600)\n"
     ]
    },
    {
     "name": "stderr",
     "output_type": "stream",
     "text": [
      "Load interictal train data: 100%|██████████| 34/34 [00:28<00:00,  1.20it/s]\n"
     ]
    },
    {
     "name": "stdout",
     "output_type": "stream",
     "text": [
      "Preictal TRAIN: [1 2 3 4 5] Preictal TEST: [0]\n",
      "---\n",
      "preictal test data: (23, 921600)\n",
      "Preictal TRAIN: [0 2 3 4 5] Preictal TEST: [1]\n",
      "---\n",
      "preictal test data: (23, 921600)\n",
      "Preictal TRAIN: [0 1 3 4 5] Preictal TEST: [2]\n",
      "---\n",
      "preictal test data: (23, 921600)\n",
      "Preictal TRAIN: [0 1 2 4 5] Preictal TEST: [3]\n",
      "---\n",
      "preictal test data: (23, 921600)\n",
      "Preictal TRAIN: [0 1 2 3 5] Preictal TEST: [4]\n",
      "---\n",
      "preictal test data: (23, 921600)\n",
      "Preictal TRAIN: [0 1 2 3 4] Preictal TEST: [5]\n",
      "---\n",
      "preictal test data: (23, 595200)\n",
      "Interictal TRAIN: [22 18 23 20  1  8 29 14 25 30 19 24 27 13 31 11  6  5 26 17  4 28 16  7\n",
      "  9  3 12 33  0 32  2 21 10 15] Interictal TEST: [34]\n",
      "---\n",
      "interictal test data: (23, 921600)\n"
     ]
    },
    {
     "name": "stderr",
     "output_type": "stream",
     "text": [
      "Load interictal train data: 100%|██████████| 34/34 [00:28<00:00,  1.17it/s]\n"
     ]
    },
    {
     "name": "stdout",
     "output_type": "stream",
     "text": [
      "Preictal TRAIN: [1 2 3 4 5] Preictal TEST: [0]\n",
      "---\n",
      "preictal test data: (23, 921600)\n",
      "Preictal TRAIN: [0 2 3 4 5] Preictal TEST: [1]\n",
      "---\n",
      "preictal test data: (23, 921600)\n",
      "Preictal TRAIN: [0 1 3 4 5] Preictal TEST: [2]\n",
      "---\n",
      "preictal test data: (23, 921600)\n",
      "Preictal TRAIN: [0 1 2 4 5] Preictal TEST: [3]\n",
      "---\n",
      "preictal test data: (23, 921600)\n",
      "Preictal TRAIN: [0 1 2 3 5] Preictal TEST: [4]\n",
      "---\n",
      "preictal test data: (23, 921600)\n",
      "Preictal TRAIN: [0 1 2 3 4] Preictal TEST: [5]\n",
      "---\n",
      "preictal test data: (23, 595200)\n"
     ]
    }
   ],
   "source": [
    "# Cross Validation and Shuffle Split\n",
    "X_preictal = np.array(preictal_filenames)\n",
    "y_preictal = np.array(preictal_labels)\n",
    "\n",
    "X_interictal = np.array(interictal_filenames)\n",
    "y_interictal = np.array(interictal_labels)\n",
    "\n",
    "kf = KFold(n_splits=6)\n",
    "kf.get_n_splits(X_preictal)\n",
    "print(kf)\n",
    "\n",
    "rs = ShuffleSplit(n_splits=len(interictal_filenames), test_size=.01, random_state=0)\n",
    "rs.get_n_splits(X_interictal)\n",
    "print(rs)\n",
    "\n",
    "print('-')\n",
    "\n",
    "for interictal_train_index, interictal_test_index in rs.split(X_interictal, y_interictal):\n",
    "    print(\"Interictal TRAIN:\", interictal_train_index, \"Interictal TEST:\", interictal_test_index)\n",
    "    print(\"---\")\n",
    "    # load interictal test data\n",
    "    interictal_test_filename = X_interictal[interictal_test_index].item()\n",
    "    interictal_test_filepath = rootdir + patient_id + '/' + interictal_test_filename\n",
    "    interictal_test_data = parser.data_all(interictal_test_filepath)\n",
    "    print('interictal test data:', interictal_test_data.shape)\n",
    "    # load interictal train data\n",
    "    interictal_train_filenames = [X_interictal[i] for i in interictal_train_index]\n",
    "    interictal_train_filepaths = [rootdir + patient_id + '/' + x for x in interictal_train_filenames]\n",
    "    interictal_train_data = []\n",
    "    for i in tqdm(range(len(interictal_train_filepaths)), desc='Load interictal train data'):\n",
    "        data = parser.data_all(interictal_train_filepaths[i])\n",
    "        interictal_train_data.append(data)\n",
    "    \n",
    "    for preictal_train_index, preictal_test_index in kf.split(X_preictal, y_preictal):\n",
    "        print(\"Preictal TRAIN:\", preictal_train_index, \"Preictal TEST:\", preictal_test_index)\n",
    "        print(\"---\")\n",
    "        # load preictal test data\n",
    "        preictal_test_filename = X_preictal[preictal_test_index].item()\n",
    "        preictal_test_filepath = rootdir + patient_id + '/' + preictal_test_filename\n",
    "        preictal_test_data = parser.data_all(preictal_test_filepath)\n",
    "        print('preictal test data:', preictal_test_data.shape)\n",
    "        # load preictal train data\n",
    "        preictal_train_filenames = [X_preictal[i] for i in preictal_train_index]\n",
    "        preictal_train_filepaths = [rootdir + patient_id + '/' + x for x in preictal_train_filenames]\n",
    "        preictal_train_data = []\n",
    "        for i in range(len(preictal_train_filepaths)):\n",
    "            is_picked = parser.check_preictal_interval_exists(preictal_train_filenames, parser.mins_in_secs(15))\n",
    "            if is_picked:\n",
    "                start, end = parser.preictal_interval_times(preictal_train_filepaths[i], parser.mins_in_secs(15))\n",
    "                data = parser.data_interval(preictal_train_filepaths[i], start, end)\n",
    "                preictal_train_data.append(data)"
   ]
  },
  {
   "cell_type": "code",
   "execution_count": 7,
   "id": "4c71baa4",
   "metadata": {},
   "outputs": [],
   "source": []
  },
  {
   "cell_type": "code",
   "execution_count": 15,
   "id": "91a74492",
   "metadata": {},
   "outputs": [
    {
     "ename": "NameError",
     "evalue": "name 'sig' is not defined",
     "output_type": "error",
     "traceback": [
      "\u001b[0;31m---------------------------------------------------------------------------\u001b[0m",
      "\u001b[0;31mNameError\u001b[0m                                 Traceback (most recent call last)",
      "\u001b[0;32m<ipython-input-15-5ec6fff194a7>\u001b[0m in \u001b[0;36m<module>\u001b[0;34m\u001b[0m\n\u001b[1;32m      8\u001b[0m \u001b[0mk_list\u001b[0m \u001b[0;34m=\u001b[0m \u001b[0;34m[\u001b[0m\u001b[0;34m]\u001b[0m                                                \u001b[0;31m# Sequential buffer for time index in prediction point _k\u001b[0m\u001b[0;34m\u001b[0m\u001b[0;34m\u001b[0m\u001b[0m\n\u001b[1;32m      9\u001b[0m \u001b[0;34m\u001b[0m\u001b[0m\n\u001b[0;32m---> 10\u001b[0;31m \u001b[0mn_c\u001b[0m \u001b[0;34m=\u001b[0m \u001b[0msig\u001b[0m\u001b[0;34m.\u001b[0m\u001b[0mshape\u001b[0m\u001b[0;34m[\u001b[0m\u001b[0;36m0\u001b[0m\u001b[0;34m]\u001b[0m                                         \u001b[0;31m# Number of input channels\u001b[0m\u001b[0;34m\u001b[0m\u001b[0;34m\u001b[0m\u001b[0m\n\u001b[0m\u001b[1;32m     11\u001b[0m \u001b[0mn\u001b[0m \u001b[0;34m=\u001b[0m \u001b[0msig\u001b[0m\u001b[0;34m.\u001b[0m\u001b[0mshape\u001b[0m\u001b[0;34m[\u001b[0m\u001b[0;36m1\u001b[0m\u001b[0;34m]\u001b[0m                                           \u001b[0;31m# Total number of input samples\u001b[0m\u001b[0;34m\u001b[0m\u001b[0;34m\u001b[0m\u001b[0m\n\u001b[1;32m     12\u001b[0m \u001b[0ma\u001b[0m \u001b[0;34m=\u001b[0m \u001b[0ma_scale\u001b[0m \u001b[0;34m*\u001b[0m \u001b[0mnp\u001b[0m\u001b[0;34m.\u001b[0m\u001b[0mrandom\u001b[0m\u001b[0;34m.\u001b[0m\u001b[0mrandn\u001b[0m\u001b[0;34m(\u001b[0m\u001b[0mn_c\u001b[0m\u001b[0;34m,\u001b[0m \u001b[0mn_i\u001b[0m\u001b[0;34m)\u001b[0m               \u001b[0;31m# Initialise AR coefficients\u001b[0m\u001b[0;34m\u001b[0m\u001b[0;34m\u001b[0m\u001b[0m\n",
      "\u001b[0;31mNameError\u001b[0m: name 'sig' is not defined"
     ]
    }
   ],
   "source": [
    "# ARMA\n",
    "seed = 42\n",
    "fs = 256 # sampling frequency in Hz\n",
    "N = 500\n",
    "p = 2\n",
    "m = 5\n",
    "sig = \n",
    "\n",
    "np.random.seed(seed)\n",
    "\n",
    "fp = fs / N                                           # Prediction frequency\n",
    "t_s = 1 / fs                                               # Input signal time period\n",
    "\n",
    "a_k_list = []                                              # Sequential buffer for  MA samples\n",
    "a_h_k_list = []                                            # Sequential buffer for AR signal samples\n",
    "k_list = []                                                # Sequential buffer for time index in prediction point _k\n",
    "\n",
    "n_c = sig.shape[0]                                         # Number of input channels\n",
    "n = sig.shape[1]                                           # Total number of input samples\n",
    "a = a_scale * np.random.randn(n_c, n_i)               # Initialise AR coefficients\n",
    "c = m * np.ones(m)                               # Initialise MA coefficients\n",
    "c = c / c.sum()\n",
    "\n",
    "Ik = N                                                # Window width\n",
    "for _k in tqdm(range(Ik + n_i, n)):                         # Sliding window\n",
    "    if (_k % N == 0):                                 # Decimation policy: _k occurs once every N samples\n",
    "        w_start = _k - Ik - n_i + 1                   # Starting index of sliding window (end index is maintained by _k)\n",
    "        a_h = np.zeros((n_c, n_i))                    # AR parameter estimates from samples in window\n",
    "        for _i in range(n_c):                              # Iterate channels\n",
    "            x_t = sig[_i, w_start:_k]                       # Multi-channel window over input signal\n",
    "            N_w = len(x_t)\n",
    "            ymat = np.zeros((N_w - n_i, n_i))\n",
    "            yb = np.zeros((N_w - n_i, n_i))\n",
    "            for _c in range(n_i, 0, -1):                   # Past dependency of AR up to model order\n",
    "                ymat[ : , n_i - _c] = x_t[n_i - _c : -_c]\n",
    "            yb = x_t[n_i:]\n",
    "            a_h[_i] = np.linalg.pinv(ymat) @ yb            # Least squares solution to optimal parameters via Moore-Penrose Pseudo Inverse\n",
    "        a_k = np.zeros((n_c, n_i))\n",
    "        a_h_k_idx = len(a_h_k_list) - 1                    # Index to most recent block of AR parameters of shape: (n_c, n_i)\n",
    "        for _j in range(m):                                # MA smoothing of AR parameters going back m units of time, in timescale k\n",
    "            if len(a_h_k_list) > m:                        # Only begin smoothing once unit of time elapsed is greater than m\n",
    "                a_k = c[_j] * a_h_k_list[a_h_k_idx - _j]\n",
    "        k_list.append(_k)\n",
    "        a_h_k_list.append(a_h)\n",
    "        a_k_list.append(a_k)\n",
    "k = np.array(k_list)\n",
    "a_h_k = np.array(a_h_k_list)\n",
    "a_k = np.array(a_k_list)"
   ]
  },
  {
   "cell_type": "code",
   "execution_count": null,
   "id": "c2febe91",
   "metadata": {},
   "outputs": [],
   "source": []
  }
 ],
 "metadata": {
  "kernelspec": {
   "display_name": "Python 3",
   "language": "python",
   "name": "python3"
  },
  "language_info": {
   "codemirror_mode": {
    "name": "ipython",
    "version": 3
   },
   "file_extension": ".py",
   "mimetype": "text/x-python",
   "name": "python",
   "nbconvert_exporter": "python",
   "pygments_lexer": "ipython3",
   "version": "3.8.5"
  }
 },
 "nbformat": 4,
 "nbformat_minor": 5
}
