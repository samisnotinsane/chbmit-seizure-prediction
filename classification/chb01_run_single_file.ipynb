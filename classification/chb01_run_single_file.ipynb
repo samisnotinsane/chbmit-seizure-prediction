{
 "cells": [
  {
   "cell_type": "code",
   "execution_count": 45,
   "id": "6635e604",
   "metadata": {},
   "outputs": [],
   "source": [
    "import numpy as np\n",
    "import mne\n",
    "from ARMA import ARMA\n",
    "from sklearn.linear_model import LogisticRegression\n",
    "from sklearn.metrics import roc_curve, roc_auc_score, f1_score, auc, precision_recall_curve\n",
    "import matplotlib.pyplot as plt"
   ]
  },
  {
   "cell_type": "markdown",
   "id": "e19ce078",
   "metadata": {},
   "source": [
    "## Data Loading"
   ]
  },
  {
   "cell_type": "code",
   "execution_count": 2,
   "id": "b3c3f30b",
   "metadata": {},
   "outputs": [],
   "source": [
    "root = '/Volumes/My Passport/AI_Research/data/physionet.org/files/chbmit/1.0.0/' \n",
    "case = 'chb01/' \n",
    "preictal_filenames = ['chb01_03_preictal.npy', 'chb01_04_preictal.npy', 'chb01_15_preictal.npy', 'chb01_16_preictal.npy',\n",
    "             'chb01_18_preictal.npy', 'chb01_26_preictal.npy']"
   ]
  },
  {
   "cell_type": "code",
   "execution_count": 92,
   "id": "f2902dbe",
   "metadata": {},
   "outputs": [],
   "source": [
    "def load_EEG(filepath, label) -> (np.ndarray, np.ndarray):\n",
    "    if label == 'preictal':\n",
    "        data = np.load(filepath)\n",
    "        target = 1\n",
    "    if label == 'interictal':\n",
    "        data = mne.io \\\n",
    "        .read_raw_edf(input_fname=filepath, preload=False, verbose='Error') \\\n",
    "        .get_data(picks='all', units='uV', return_times=False)\n",
    "        target = -1\n",
    "    return data, target"
   ]
  },
  {
   "cell_type": "code",
   "execution_count": 4,
   "id": "18261147",
   "metadata": {},
   "outputs": [],
   "source": [
    "filepath = root + case + preictal_filenames[0]\n",
    "preictal_data, preictal_target = load_EEG(filepath, 'preictal')"
   ]
  },
  {
   "cell_type": "code",
   "execution_count": 5,
   "id": "443189cd",
   "metadata": {},
   "outputs": [
    {
     "name": "stdout",
     "output_type": "stream",
     "text": [
      "(23, 230401)\n",
      "1\n"
     ]
    }
   ],
   "source": [
    "print(preictal_data.shape)\n",
    "print(preictal_target)"
   ]
  },
  {
   "cell_type": "code",
   "execution_count": 6,
   "id": "47cb8f60",
   "metadata": {},
   "outputs": [],
   "source": [
    "interictal_filenames = ['chb01_01.edf', 'chb01_02.edf', 'chb01_05.edf',\n",
    "                        'chb01_06.edf', 'chb01_07.edf', 'chb01_08.edf']\n",
    "filepath = root + case + interictal_filenames[0]\n",
    "interictal_data, interictal_target = load_EEG(filepath, 'interictal')"
   ]
  },
  {
   "cell_type": "code",
   "execution_count": 7,
   "id": "52a1c84b",
   "metadata": {},
   "outputs": [
    {
     "name": "stdout",
     "output_type": "stream",
     "text": [
      "(23, 921600)\n",
      "-1\n"
     ]
    }
   ],
   "source": [
    "print(interictal_data.shape)\n",
    "print(interictal_target)"
   ]
  },
  {
   "cell_type": "markdown",
   "id": "e3c32add",
   "metadata": {},
   "source": [
    "## Feature Extraction"
   ]
  },
  {
   "cell_type": "code",
   "execution_count": 8,
   "id": "27439ba9",
   "metadata": {},
   "outputs": [],
   "source": [
    "seed = 42\n",
    "N = 500\n",
    "p = 2\n",
    "m = 30\n",
    "ar = ARMA(window_width=N, order=p, memory=m, seed=seed)"
   ]
  },
  {
   "cell_type": "code",
   "execution_count": 9,
   "id": "12bd8a18",
   "metadata": {},
   "outputs": [
    {
     "name": "stderr",
     "output_type": "stream",
     "text": [
      "100%|██████████| 229899/229899 [00:02<00:00, 83443.61it/s] \n"
     ]
    }
   ],
   "source": [
    "# extract features of preictal\n",
    "preictal_times, preictal_AR, preictal_MA = ar.spin(sig=preictal_data, fs=256)"
   ]
  },
  {
   "cell_type": "code",
   "execution_count": 10,
   "id": "84111e3c",
   "metadata": {},
   "outputs": [
    {
     "name": "stderr",
     "output_type": "stream",
     "text": [
      "100%|██████████| 921098/921098 [00:09<00:00, 97208.69it/s] \n"
     ]
    }
   ],
   "source": [
    "# extract features of interictal\n",
    "interictal_times, interictal_AR, interictal_MA = ar.spin(sig=interictal_data, fs=256)"
   ]
  },
  {
   "cell_type": "code",
   "execution_count": 21,
   "id": "fba075f6",
   "metadata": {},
   "outputs": [],
   "source": [
    "interictal_targets = np.ones(interictal_MA.shape[0])\n",
    "preictal_targets = -1 * np.ones(preictal_MA.shape[0])"
   ]
  },
  {
   "cell_type": "code",
   "execution_count": 12,
   "id": "63df0aa5",
   "metadata": {},
   "outputs": [
    {
     "name": "stdout",
     "output_type": "stream",
     "text": [
      "(1842, 23, 2) (459, 23, 2)\n"
     ]
    }
   ],
   "source": [
    "print(interictal_MA.shape, preictal_MA.shape)"
   ]
  },
  {
   "cell_type": "markdown",
   "id": "97ee55b2",
   "metadata": {},
   "source": [
    "## Model Training"
   ]
  },
  {
   "cell_type": "code",
   "execution_count": 22,
   "id": "c95cdda5",
   "metadata": {},
   "outputs": [
    {
     "name": "stdout",
     "output_type": "stream",
     "text": [
      "(2301, 23, 2)\n",
      "(2301,)\n"
     ]
    }
   ],
   "source": [
    "X = np.concatenate((interictal_MA, preictal_MA), axis=0)\n",
    "y = np.concatenate((interictal_targets, preictal_targets), axis=0)\n",
    "print(X.shape)\n",
    "print(y.shape)"
   ]
  },
  {
   "cell_type": "code",
   "execution_count": 24,
   "id": "6b6229b1",
   "metadata": {},
   "outputs": [
    {
     "data": {
      "text/plain": [
       "(2301, 23)"
      ]
     },
     "execution_count": 24,
     "metadata": {},
     "output_type": "execute_result"
    }
   ],
   "source": [
    "X[:,:,0].shape"
   ]
  },
  {
   "cell_type": "code",
   "execution_count": 25,
   "id": "67606327",
   "metadata": {},
   "outputs": [],
   "source": [
    "X_1 = X[:,:,0] # ARMA coeff 1\n",
    "X_2 = X[:,:,1] # ARMA coeff 2"
   ]
  },
  {
   "cell_type": "code",
   "execution_count": 46,
   "id": "52a3842b",
   "metadata": {},
   "outputs": [
    {
     "data": {
      "text/plain": [
       "LogisticRegression(random_state=0)"
      ]
     },
     "execution_count": 46,
     "metadata": {},
     "output_type": "execute_result"
    }
   ],
   "source": [
    "model_X1 = LogisticRegression(random_state=0)\n",
    "model_X1.fit(X_1, y)"
   ]
  },
  {
   "cell_type": "code",
   "execution_count": 47,
   "id": "eb3f4191",
   "metadata": {},
   "outputs": [
    {
     "data": {
      "text/plain": [
       "LogisticRegression(random_state=0)"
      ]
     },
     "execution_count": 47,
     "metadata": {},
     "output_type": "execute_result"
    }
   ],
   "source": [
    "model_X2 = LogisticRegression(random_state=0)\n",
    "model_X2.fit(X_2, y)"
   ]
  },
  {
   "cell_type": "code",
   "execution_count": 49,
   "id": "84087dc1",
   "metadata": {},
   "outputs": [
    {
     "data": {
      "image/png": "[encoded data removed]",
      "text/plain": [
       "<Figure size 432x288 with 1 Axes>"
      ]
     },
     "metadata": {
      "needs_background": "light"
     },
     "output_type": "display_data"
    }
   ],
   "source": [
    "lr_probs = model_X1.predict_proba(X_1)\n",
    "lr_probs = lr_probs[:, 1] # keep probabilities for the positive outcome only\n",
    "# generate a no skill prediction (majority class)\n",
    "ns_probs = [0 for _ in range(len(X_1))]\n",
    "\n",
    "ns_fpr, ns_tpr, _ = roc_curve(y, ns_probs)\n",
    "lr_fpr, lr_tpr, _ = roc_curve(y, lr_probs)\n",
    "\n",
    "plt.figure()\n",
    "plt.plot(ns_fpr, ns_tpr, linestyle='--', color='pink', label='Random Predictor')\n",
    "plt.plot(lr_fpr, lr_tpr, color='lightgreen', label='Logistic Regression')\n",
    "plt.xlabel('False Positive Rate')\n",
    "plt.ylabel('True Positive Rate')\n",
    "plt.title('ROC Curve')\n",
    "plt.legend()\n",
    "plt.show()"
   ]
  },
  {
   "cell_type": "code",
   "execution_count": 65,
   "id": "05ea19e7",
   "metadata": {},
   "outputs": [
    {
     "name": "stdout",
     "output_type": "stream",
     "text": [
      "(2301, 23) (2301, 2)\n"
     ]
    },
    {
     "data": {
      "image/png": "[encoded data removed]",
      "text/plain": [
       "<Figure size 432x288 with 1 Axes>"
      ]
     },
     "metadata": {
      "needs_background": "light"
     },
     "output_type": "display_data"
    }
   ],
   "source": [
    "lr_probs = model_X2.predict_proba(X_2)\n",
    "print(X_2.shape, lr_probs.shape)\n",
    "lr_probs = lr_probs[:, 1] # keep probabilities for the positive outcome only\n",
    "# generate a no skill prediction (majority class)\n",
    "ns_probs = [0 for _ in range(len(X_2))]\n",
    "\n",
    "ns_fpr, ns_tpr, _ = roc_curve(y, ns_probs)\n",
    "lr_fpr, lr_tpr, _ = roc_curve(y, lr_probs)\n",
    "\n",
    "plt.figure()\n",
    "plt.plot(ns_fpr, ns_tpr, linestyle='--', color='pink', label='Random Predictor')\n",
    "plt.plot(lr_fpr, lr_tpr, color='lightgreen', label='Logistic Regression')\n",
    "plt.xlabel('False Positive Rate')\n",
    "plt.ylabel('True Positive Rate')\n",
    "plt.title('ROC Curve')\n",
    "plt.legend()\n",
    "plt.show()"
   ]
  },
  {
   "cell_type": "markdown",
   "id": "3b2ba57d",
   "metadata": {},
   "source": [
    "## Model Testing"
   ]
  },
  {
   "cell_type": "code",
   "execution_count": 56,
   "id": "7a8e6349",
   "metadata": {},
   "outputs": [
    {
     "name": "stdout",
     "output_type": "stream",
     "text": [
      "(23, 230401) 1\n",
      "(23, 921600) -1\n",
      "(23, 1152001)\n"
     ]
    }
   ],
   "source": [
    "filepath = root + case + preictal_filenames[1]\n",
    "preictal_data, preictal_target = load_EEG(filepath, 'preictal')\n",
    "print(preictal_data.shape, preictal_target)\n",
    "\n",
    "filepath = root + case + interictal_filenames[1]\n",
    "interictal_data, interictal_target = load_EEG(filepath, 'interictal')\n",
    "print(interictal_data.shape, interictal_target)\n",
    "\n",
    "X = np.concatenate((interictal_data, preictal_data), axis=1)\n",
    "print(X.shape)"
   ]
  },
  {
   "cell_type": "code",
   "execution_count": 79,
   "id": "414e4d51",
   "metadata": {},
   "outputs": [
    {
     "name": "stdout",
     "output_type": "stream",
     "text": [
      "Input channels: 23\n",
      "Model: AR(2)\n",
      "MA lookback: 30\n",
      "Window size: 512\n",
      "Sampling frequency: 256 Hz\n",
      "Prediction frequency: 0.5 Hz\n",
      "Input dimension: (23, 1152001)\n",
      "Output dimension: (2249, 23, 2)\n"
     ]
    }
   ],
   "source": [
    "# online prediction\n",
    "fs = 256   # sampling frequency (Hz)\n",
    "N = 512                  # fs = N*fp (N must be a natural number)\n",
    "fp = fs/N                # prediction frequency\n",
    "n_i = 2                  # AR model order\n",
    "t_s = 1/fs               # Input signal time period\n",
    "n_c = X.shape[0]       # Number of EEG electrodes (channels)\n",
    "m = 30                   # MA parameter\n",
    "\n",
    "print(f'Input channels: {n_c}')\n",
    "print(f'Model: AR({n_i})')\n",
    "print(f'MA lookback: {m}')\n",
    "print(f'Window size: {N}')\n",
    "print(f'Sampling frequency: {fs} Hz')\n",
    "print(f'Prediction frequency: {fp} Hz')\n",
    "\n",
    "np.random.seed(42)\n",
    "n_samples = X.shape[1]                  # Length of input signal\n",
    "e = X                                   # Feed input signal\n",
    "a = 1.8 * np.random.randn(n_c, n_i)       # Initialise AR coefficients\n",
    "c = m*np.ones(m)                          # Initialise MA coefficients\n",
    "c = c/c.sum()\n",
    "\n",
    "k = np.zeros(1)\n",
    "Ik = N                                    # Set window width\n",
    "ar_index_list = []                        # Sequential buffer of time index\n",
    "ar_hats_list = []                         # Sequential buffer of AR coefficients (conisder replacing these with vstack)\n",
    "a_ma_list = []\n",
    "model_1_proba_list = []\n",
    "model_2_proba_list = []\n",
    "mean_pred_list = []\n",
    "for t in range(Ik + n_i, n_samples):      # Moving window starting from index 1 to (n_samples-1)\n",
    "    if (t % N == 0):                      # Decimation policy: a is computed once every N samples\n",
    "        window_start = t - Ik - n_i + 1\n",
    "        window_end = t \n",
    "        a_hat = np.zeros((n_c, n_i))\n",
    "        phi = np.zeros((n_c, n_i))\n",
    "        for i in range(n_c):                          # Iterate electrodes\n",
    "            x_t = e[i, window_start:window_end]       # Multi-channel window over input signal\n",
    "            N_window = len(x_t)\n",
    "            ymat = np.zeros((N_window-n_i, n_i))\n",
    "            yb = np.zeros((N_window-n_i, n_i))\n",
    "            \n",
    "            for _c in range(n_i, 0, -1):\n",
    "                ymat[:, n_i-_c] = x_t[n_i-_c:-_c]\n",
    "            \n",
    "            yb = x_t[n_i:]\n",
    "            a_hat[i] = np.linalg.pinv(ymat) @ yb\n",
    "        \n",
    "        a_ma = np.zeros((n_c, n_i))\n",
    "        ar_hats_k = len(ar_hats_list)-1               # Index to most recent block of AR parameters of shape: (n_c, n_i)\n",
    "        for j in range(m):                            # MA smoothing of AR parameters going back m units of time, in timescale k (+1 ensures it goes up to m)\n",
    "            if len(ar_hats_list) > m:                 # Only begin smoothing once unit of time passed is greater than m (MA lookback parameter) \n",
    "                a_ma = c[j] * ar_hats_list[ar_hats_k-j]\n",
    "        \n",
    "        a1 = a_ma[:,0]\n",
    "        a2 = a_ma[:,1]\n",
    "        pred_a1 = model_X1.predict_proba(a1.reshape(1,-1))[:,1]\n",
    "        pred_a2 = model_X2.predict_proba(a2.reshape(1,-1))[:,1]\n",
    "        pred_mean = np.mean(np.concatenate((pred_a1, pred_a2), axis=0), axis=0)\n",
    "        model_1_proba_list.append(pred_a1)\n",
    "        model_2_proba_list.append(pred_a2)\n",
    "        mean_pred_list.append(pred_mean)\n",
    "        \n",
    "        ar_index_list.append(t)                       # Record time index of when a is computed\n",
    "        ar_hats_list.append(a_hat)\n",
    "        a_ma_list.append(a_ma)\n",
    "                        \n",
    "ar_index = np.array(ar_index_list)\n",
    "ar_hats = np.array(ar_hats_list)\n",
    "ars = np.array(a_ma_list)\n",
    "print('Input dimension:', e.shape)\n",
    "print('Output dimension:', ar_hats.shape)"
   ]
  },
  {
   "cell_type": "code",
   "execution_count": 93,
   "id": "2d3fdb5e",
   "metadata": {},
   "outputs": [
    {
     "data": {
      "image/png": "[encoded data removed]",
      "text/plain": [
       "<Figure size 864x432 with 1 Axes>"
      ]
     },
     "metadata": {
      "needs_background": "light"
     },
     "output_type": "display_data"
    }
   ],
   "source": [
    "t = np.arange(0, 2249) / (256/512)\n",
    "plt.figure(figsize=(12,6))\n",
    "# plt.plot(t, model_1_proba_list, label='Model 1')\n",
    "# plt.plot(t, model_2_proba_list, label='Model 2')\n",
    "plt.plot(t, mean_pred_list, label='Prediction', color='lightblue')\n",
    "plt.axvline(x=3600, ls='--', color='pink')\n",
    "# plt.plot(t, np.mean(np.array([model_1_proba_list, model_2_proba_list]), axis=0), label='Mean')\n",
    "plt.ylim([0.5,1])\n",
    "plt.xlabel('Time, $t$')\n",
    "plt.ylabel('Seizure Probability')\n",
    "plt.legend()\n",
    "plt.show()"
   ]
  },
  {
   "cell_type": "code",
   "execution_count": null,
   "id": "d43b3b92",
   "metadata": {},
   "outputs": [],
   "source": []
  }
 ],
 "metadata": {
  "kernelspec": {
   "display_name": "Python 3",
   "language": "python",
   "name": "python3"
  },
  "language_info": {
   "codemirror_mode": {
    "name": "ipython",
    "version": 3
   },
   "file_extension": ".py",
   "mimetype": "text/x-python",
   "name": "python",
   "nbconvert_exporter": "python",
   "pygments_lexer": "ipython3",
   "version": "3.8.5"
  }
 },
 "nbformat": 4,
 "nbformat_minor": 5
}
