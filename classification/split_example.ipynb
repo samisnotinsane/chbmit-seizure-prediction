{
 "cells": [
  {
   "cell_type": "code",
   "execution_count": 1,
   "id": "78113284",
   "metadata": {},
   "outputs": [],
   "source": [
    "import numpy as np\n",
    "from sklearn.model_selection import KFold, ShuffleSplit"
   ]
  },
  {
   "cell_type": "code",
   "execution_count": 2,
   "id": "fbd9e59b",
   "metadata": {},
   "outputs": [
    {
     "name": "stdout",
     "output_type": "stream",
     "text": [
      "KFold(n_splits=6, random_state=None, shuffle=False)\n",
      "TRAIN: [1 2 3 4 5] TEST: [0]\n",
      "TRAIN: [0 2 3 4 5] TEST: [1]\n",
      "TRAIN: [0 1 3 4 5] TEST: [2]\n",
      "TRAIN: [0 1 2 4 5] TEST: [3]\n",
      "TRAIN: [0 1 2 3 5] TEST: [4]\n",
      "TRAIN: [0 1 2 3 4] TEST: [5]\n"
     ]
    }
   ],
   "source": [
    "X = np.array([1, 2, 3, 4, 5, 6])\n",
    "y = np.array([0, 0, 1, 1, 0, 0])\n",
    "\n",
    "kf = KFold(n_splits=6)\n",
    "kf.get_n_splits(X)\n",
    "\n",
    "print(kf)\n",
    "\n",
    "for train_index, test_index in kf.split(X, y):\n",
    "    print(\"TRAIN:\", train_index, \"TEST:\", test_index)\n",
    "    X_train, X_test = X[train_index], X[test_index]\n",
    "    y_train, y_test = y[train_index], y[test_index]"
   ]
  },
  {
   "cell_type": "code",
   "execution_count": 4,
   "id": "c6cc55bd",
   "metadata": {},
   "outputs": [
    {
     "name": "stdout",
     "output_type": "stream",
     "text": [
      "ShuffleSplit(n_splits=6, random_state=0, test_size=0.1, train_size=None)\n",
      "TRAIN: [2 1 3 0 4] TEST: [5]\n",
      "TRAIN: [3 4 0 2 5] TEST: [1]\n",
      "TRAIN: [5 1 2 4 0] TEST: [3]\n",
      "TRAIN: [2 3 4 1 0] TEST: [5]\n",
      "TRAIN: [4 3 5 1 0] TEST: [2]\n",
      "TRAIN: [1 4 2 0 5] TEST: [3]\n"
     ]
    }
   ],
   "source": [
    "X = np.array([1, 2, 3, 4, 5, 6])\n",
    "y = np.array([0, 0, 1, 1, 0, 0])\n",
    "\n",
    "rs = ShuffleSplit(n_splits=6, test_size=.10, random_state=0)\n",
    "rs.get_n_splits(X)\n",
    "\n",
    "print(rs)\n",
    "\n",
    "for train_index, test_index in rs.split(X):\n",
    "    print(\"TRAIN:\", train_index, \"TEST:\", test_index)"
   ]
  },
  {
   "cell_type": "code",
   "execution_count": 6,
   "id": "08410ed0",
   "metadata": {},
   "outputs": [
    {
     "name": "stdout",
     "output_type": "stream",
     "text": [
      "KFold(n_splits=6, random_state=None, shuffle=False)\n",
      "ShuffleSplit(n_splits=6, random_state=0, test_size=0.1, train_size=None)\n",
      "Two TRAIN: [2 1 3 0 4] Two TEST: [5]\n",
      "------\n",
      "One TRAIN: [1 2 3 4 5] One TEST: [0]\n",
      "---\n",
      "One TRAIN: [0 2 3 4 5] One TEST: [1]\n",
      "---\n",
      "One TRAIN: [0 1 3 4 5] One TEST: [2]\n",
      "---\n",
      "One TRAIN: [0 1 2 4 5] One TEST: [3]\n",
      "---\n",
      "One TRAIN: [0 1 2 3 5] One TEST: [4]\n",
      "---\n",
      "One TRAIN: [0 1 2 3 4] One TEST: [5]\n",
      "---\n",
      "Two TRAIN: [3 4 0 2 5] Two TEST: [1]\n",
      "------\n",
      "One TRAIN: [1 2 3 4 5] One TEST: [0]\n",
      "---\n",
      "One TRAIN: [0 2 3 4 5] One TEST: [1]\n",
      "---\n",
      "One TRAIN: [0 1 3 4 5] One TEST: [2]\n",
      "---\n",
      "One TRAIN: [0 1 2 4 5] One TEST: [3]\n",
      "---\n",
      "One TRAIN: [0 1 2 3 5] One TEST: [4]\n",
      "---\n",
      "One TRAIN: [0 1 2 3 4] One TEST: [5]\n",
      "---\n",
      "Two TRAIN: [5 1 2 4 0] Two TEST: [3]\n",
      "------\n",
      "One TRAIN: [1 2 3 4 5] One TEST: [0]\n",
      "---\n",
      "One TRAIN: [0 2 3 4 5] One TEST: [1]\n",
      "---\n",
      "One TRAIN: [0 1 3 4 5] One TEST: [2]\n",
      "---\n",
      "One TRAIN: [0 1 2 4 5] One TEST: [3]\n",
      "---\n",
      "One TRAIN: [0 1 2 3 5] One TEST: [4]\n",
      "---\n",
      "One TRAIN: [0 1 2 3 4] One TEST: [5]\n",
      "---\n",
      "Two TRAIN: [2 3 4 1 0] Two TEST: [5]\n",
      "------\n",
      "One TRAIN: [1 2 3 4 5] One TEST: [0]\n",
      "---\n",
      "One TRAIN: [0 2 3 4 5] One TEST: [1]\n",
      "---\n",
      "One TRAIN: [0 1 3 4 5] One TEST: [2]\n",
      "---\n",
      "One TRAIN: [0 1 2 4 5] One TEST: [3]\n",
      "---\n",
      "One TRAIN: [0 1 2 3 5] One TEST: [4]\n",
      "---\n",
      "One TRAIN: [0 1 2 3 4] One TEST: [5]\n",
      "---\n",
      "Two TRAIN: [4 3 5 1 0] Two TEST: [2]\n",
      "------\n",
      "One TRAIN: [1 2 3 4 5] One TEST: [0]\n",
      "---\n",
      "One TRAIN: [0 2 3 4 5] One TEST: [1]\n",
      "---\n",
      "One TRAIN: [0 1 3 4 5] One TEST: [2]\n",
      "---\n",
      "One TRAIN: [0 1 2 4 5] One TEST: [3]\n",
      "---\n",
      "One TRAIN: [0 1 2 3 5] One TEST: [4]\n",
      "---\n",
      "One TRAIN: [0 1 2 3 4] One TEST: [5]\n",
      "---\n",
      "Two TRAIN: [1 4 2 0 5] Two TEST: [3]\n",
      "------\n",
      "One TRAIN: [1 2 3 4 5] One TEST: [0]\n",
      "---\n",
      "One TRAIN: [0 2 3 4 5] One TEST: [1]\n",
      "---\n",
      "One TRAIN: [0 1 3 4 5] One TEST: [2]\n",
      "---\n",
      "One TRAIN: [0 1 2 4 5] One TEST: [3]\n",
      "---\n",
      "One TRAIN: [0 1 2 3 5] One TEST: [4]\n",
      "---\n",
      "One TRAIN: [0 1 2 3 4] One TEST: [5]\n",
      "---\n"
     ]
    }
   ],
   "source": [
    "X_one = np.array([1, 2, 3, 4, 5, 6])\n",
    "y_one = np.array([0, 0, 1, 1, 0, 0])\n",
    "\n",
    "X_two = np.array([1, 2, 3, 4, 5, 6])\n",
    "y_two = np.array([0, 0, 1, 1, 0, 0])\n",
    "\n",
    "kf = KFold(n_splits=6)\n",
    "kf.get_n_splits(X_one)\n",
    "print(kf)\n",
    "\n",
    "rs = ShuffleSplit(n_splits=6, test_size=.10, random_state=0)\n",
    "rs.get_n_splits(X_two)\n",
    "print(rs)\n",
    "\n",
    "for two_train_index, two_test_index in rs.split(X_two, y_two):\n",
    "    print(\"Two TRAIN:\", two_train_index, \"Two TEST:\", two_test_index)\n",
    "    print('------')\n",
    "    for one_train_index, one_test_index in kf.split(X_one, y_one):\n",
    "        print(\"One TRAIN:\", one_train_index, \"One TEST:\", one_test_index)\n",
    "        print('---')\n",
    "        X_one_train, X_one_test = X_one[one_train_index], X_one[one_test_index]\n",
    "        y_one_train, y_one_test = y_one[one_train_index], y_one[one_test_index]"
   ]
  },
  {
   "cell_type": "code",
   "execution_count": null,
   "id": "44f3b863",
   "metadata": {},
   "outputs": [],
   "source": []
  }
 ],
 "metadata": {
  "kernelspec": {
   "display_name": "Python 3",
   "language": "python",
   "name": "python3"
  },
  "language_info": {
   "codemirror_mode": {
    "name": "ipython",
    "version": 3
   },
   "file_extension": ".py",
   "mimetype": "text/x-python",
   "name": "python",
   "nbconvert_exporter": "python",
   "pygments_lexer": "ipython3",
   "version": "3.8.5"
  }
 },
 "nbformat": 4,
 "nbformat_minor": 5
}
