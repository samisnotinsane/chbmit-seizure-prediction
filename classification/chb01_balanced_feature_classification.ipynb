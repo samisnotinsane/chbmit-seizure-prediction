{
 "cells": [
  {
   "cell_type": "markdown",
   "id": "f90c153e",
   "metadata": {},
   "source": [
    "## What is the classification performance on balanced dataset?"
   ]
  },
  {
   "cell_type": "code",
   "execution_count": 2,
   "id": "7dd7e90e",
   "metadata": {},
   "outputs": [],
   "source": [
    "import numpy as np\n",
    "import mne\n",
    "from tqdm import tqdm\n",
    "from ARMA import ARMA\n",
    "from sklearn.linear_model import LogisticRegression\n",
    "from sklearn.svm import SVC\n",
    "from sklearn.kernel_approximation import RBFSampler\n",
    "from sklearn.model_selection import KFold, ShuffleSplit\n",
    "from sklearn.metrics import roc_curve, roc_auc_score, f1_score, auc, precision_recall_curve, classification_report, confusion_matrix\n",
    "from sklearn.preprocessing import StandardScaler, RobustScaler, MaxAbsScaler, MinMaxScaler\n",
    "from sklearn.model_selection import train_test_split\n",
    "import matplotlib.pyplot as plt\n",
    "import seaborn as sns\n",
    "import pandas as pd"
   ]
  },
  {
   "cell_type": "code",
   "execution_count": 3,
   "id": "230ab4de",
   "metadata": {},
   "outputs": [],
   "source": [
    "def load_EEG(filepath, label) -> (np.ndarray, np.ndarray):\n",
    "    if label == 'preictal':\n",
    "        data = np.load(filepath)\n",
    "        target = np.ones(data.shape[1])\n",
    "    if label == 'interictal':\n",
    "        data = mne.io \\\n",
    "        .read_raw_edf(input_fname=filepath, preload=False, verbose='Error') \\\n",
    "        .get_data(picks='all', units='uV', return_times=False)\n",
    "        target = -1\n",
    "    return data, target"
   ]
  },
  {
   "cell_type": "code",
   "execution_count": 4,
   "id": "0a35f186",
   "metadata": {},
   "outputs": [],
   "source": [
    "root = '/Volumes/My Passport/AI_Research/data/physionet.org/files/chbmit/1.0.0/' \n",
    "case = 'chb01/'\n",
    "preictal_filenames = ['chb01_03_preictal.npy', 'chb01_04_preictal.npy', 'chb01_15_preictal.npy', 'chb01_16_preictal.npy',\n",
    "             'chb01_18_preictal.npy', 'chb01_26_preictal.npy']\n",
    "interictal_filenames = ['chb01_01.edf', 'chb01_02.edf', 'chb01_05.edf',\n",
    "                        'chb01_06.edf', 'chb01_07.edf', 'chb01_08.edf']"
   ]
  },
  {
   "cell_type": "code",
   "execution_count": 5,
   "id": "22da256c",
   "metadata": {},
   "outputs": [
    {
     "name": "stdout",
     "output_type": "stream",
     "text": [
      "Input channels: 23\n",
      "Model: AR(2)\n",
      "MA lookback: 30\n",
      "Window size: 512\n",
      "Sampling frequency: 256 Hz\n",
      "Prediction frequency: 0.5 Hz\n"
     ]
    }
   ],
   "source": [
    "# ARMA parameters\n",
    "seed = 42\n",
    "fs = 256                 # sampling frequency (Hz)\n",
    "N = 512                  # fs = N*fp (N must be a natural number)\n",
    "fp = fs/N                # prediction frequency\n",
    "n_i = 2                  # AR model order\n",
    "t_s = 1/fs               # Input signal time period\n",
    "n_c = 23                 # Number of EEG electrodes (channels)\n",
    "m = 30                   # MA parameter\n",
    "print(f'Input channels: {n_c}')\n",
    "print(f'Model: AR({n_i})')\n",
    "print(f'MA lookback: {m}')\n",
    "print(f'Window size: {N}')\n",
    "print(f'Sampling frequency: {fs} Hz')\n",
    "print(f'Prediction frequency: {fp} Hz')\n",
    "ar = ARMA(window_width=N, order=n_i, memory=m, seed=seed)"
   ]
  },
  {
   "cell_type": "code",
   "execution_count": 6,
   "id": "08f131f6",
   "metadata": {},
   "outputs": [
    {
     "data": {
      "text/plain": [
       "(23, 230401)"
      ]
     },
     "execution_count": 6,
     "metadata": {},
     "output_type": "execute_result"
    }
   ],
   "source": [
    "p_filepath = root + case + preictal_filenames[0]\n",
    "p_data, _ = load_EEG(p_filepath, 'preictal')\n",
    "p_data.shape"
   ]
  },
  {
   "cell_type": "code",
   "execution_count": 7,
   "id": "5951c43f",
   "metadata": {},
   "outputs": [
    {
     "data": {
      "text/plain": [
       "(23, 230401)"
      ]
     },
     "execution_count": 7,
     "metadata": {},
     "output_type": "execute_result"
    }
   ],
   "source": [
    "ic_filepath = root + case + interictal_filenames[0]\n",
    "ic_data, _ = load_EEG(ic_filepath, 'interictal')\n",
    "ic_data[:,:p_data.shape[1]].shape"
   ]
  },
  {
   "cell_type": "code",
   "execution_count": 8,
   "id": "0326234c",
   "metadata": {},
   "outputs": [
    {
     "name": "stderr",
     "output_type": "stream",
     "text": [
      "100%|██████████| 229887/229887 [00:01<00:00, 140364.83it/s]\n",
      "100%|██████████| 229887/229887 [00:01<00:00, 115273.99it/s]\n",
      "100%|██████████| 229887/229887 [00:01<00:00, 130045.27it/s]\n",
      "100%|██████████| 229887/229887 [00:01<00:00, 117974.01it/s]\n",
      "100%|██████████| 229887/229887 [00:01<00:00, 151669.31it/s]\n",
      "100%|██████████| 229887/229887 [00:01<00:00, 136070.02it/s]\n",
      "100%|██████████| 229887/229887 [00:01<00:00, 131454.75it/s]\n",
      "100%|██████████| 229887/229887 [00:01<00:00, 157352.19it/s]\n",
      "100%|██████████| 229887/229887 [00:01<00:00, 147996.34it/s]\n",
      "100%|██████████| 229887/229887 [00:01<00:00, 155574.91it/s]\n",
      "100%|██████████| 229887/229887 [00:01<00:00, 151506.47it/s]\n",
      "100%|██████████| 229887/229887 [00:01<00:00, 159195.79it/s]\n"
     ]
    }
   ],
   "source": [
    "# load preictal and interictal data\n",
    "preictal_feature_list = []\n",
    "interictal_feature_list = []\n",
    "for i in range(6):\n",
    "    # load preictal data\n",
    "    p_filepath = root + case + preictal_filenames[i]\n",
    "    p_data, _ = load_EEG(p_filepath, 'preictal')\n",
    "    # generate preictal features\n",
    "    _, _, preictal_features = ar.spin(sig=p_data, fs=256)\n",
    "    # load interictal data\n",
    "    ic_filepath = root + case + interictal_filenames[i]\n",
    "    ic_data, _ = load_EEG(ic_filepath, 'interictal')\n",
    "    # generate interictal features\n",
    "    _, _, interictal_features = ar.spin(sig=ic_data[:,:p_data.shape[1]], fs=256)\n",
    "    \n",
    "    # store data in list\n",
    "    preictal_feature_list.append(preictal_features)\n",
    "    interictal_feature_list.append(interictal_features)"
   ]
  },
  {
   "cell_type": "markdown",
   "id": "19ca0b22",
   "metadata": {},
   "source": [
    "We investigate binary classification of preictal and interictal features using normalised, balanced dataset from EEG channel 1 in case 1. There is 15 mins worth of feature data from both classes in each file."
   ]
  },
  {
   "cell_type": "code",
   "execution_count": 9,
   "id": "d60fd137",
   "metadata": {},
   "outputs": [
    {
     "name": "stdout",
     "output_type": "stream",
     "text": [
      "(449, 2) (449, 2)\n"
     ]
    }
   ],
   "source": [
    "ch = 0\n",
    "scaler = StandardScaler() # remove mean, unit variance\n",
    "preictal_features_scaled = scaler.fit_transform(preictal_feature_list[0][:,ch,:])\n",
    "interictal_features_scaled = scaler.fit_transform(interictal_feature_list[0][:,ch,:])\n",
    "print(preictal_features_scaled.shape, interictal_features_scaled.shape)"
   ]
  },
  {
   "cell_type": "code",
   "execution_count": 10,
   "id": "a3cb9eec",
   "metadata": {},
   "outputs": [
    {
     "name": "stdout",
     "output_type": "stream",
     "text": [
      "(449, 2) (449, 2)\n"
     ]
    }
   ],
   "source": [
    "transformer = MinMaxScaler() # scales each feature to range [0,1]\n",
    "preictal_features_scaled = transformer.fit(preictal_feature_list[0][:,ch,:]).transform(preictal_feature_list[0][:,ch,:])\n",
    "interictal_features_scaled = transformer.fit(interictal_feature_list[0][:,ch,:]).transform(interictal_feature_list[0][:,ch,:])\n",
    "print(preictal_features_scaled.shape, interictal_features_scaled.shape)"
   ]
  },
  {
   "cell_type": "code",
   "execution_count": 11,
   "id": "848ef22f",
   "metadata": {},
   "outputs": [
    {
     "data": {
      "text/html": [
       "<div>\n",
       "<style scoped>\n",
       "    .dataframe tbody tr th:only-of-type {\n",
       "        vertical-align: middle;\n",
       "    }\n",
       "\n",
       "    .dataframe tbody tr th {\n",
       "        vertical-align: top;\n",
       "    }\n",
       "\n",
       "    .dataframe thead th {\n",
       "        text-align: right;\n",
       "    }\n",
       "</style>\n",
       "<table border=\"1\" class=\"dataframe\">\n",
       "  <thead>\n",
       "    <tr style=\"text-align: right;\">\n",
       "      <th></th>\n",
       "      <th>Feature 1</th>\n",
       "      <th>Feature 2</th>\n",
       "      <th>Interval</th>\n",
       "    </tr>\n",
       "  </thead>\n",
       "  <tbody>\n",
       "    <tr>\n",
       "      <th>0</th>\n",
       "      <td>1.000000</td>\n",
       "      <td>0.000000</td>\n",
       "      <td>Preictal</td>\n",
       "    </tr>\n",
       "    <tr>\n",
       "      <th>1</th>\n",
       "      <td>1.000000</td>\n",
       "      <td>0.000000</td>\n",
       "      <td>Preictal</td>\n",
       "    </tr>\n",
       "    <tr>\n",
       "      <th>2</th>\n",
       "      <td>1.000000</td>\n",
       "      <td>0.000000</td>\n",
       "      <td>Preictal</td>\n",
       "    </tr>\n",
       "    <tr>\n",
       "      <th>3</th>\n",
       "      <td>1.000000</td>\n",
       "      <td>0.000000</td>\n",
       "      <td>Preictal</td>\n",
       "    </tr>\n",
       "    <tr>\n",
       "      <th>4</th>\n",
       "      <td>1.000000</td>\n",
       "      <td>0.000000</td>\n",
       "      <td>Preictal</td>\n",
       "    </tr>\n",
       "    <tr>\n",
       "      <th>...</th>\n",
       "      <td>...</td>\n",
       "      <td>...</td>\n",
       "      <td>...</td>\n",
       "    </tr>\n",
       "    <tr>\n",
       "      <th>444</th>\n",
       "      <td>0.670412</td>\n",
       "      <td>0.601113</td>\n",
       "      <td>Interictal</td>\n",
       "    </tr>\n",
       "    <tr>\n",
       "      <th>445</th>\n",
       "      <td>0.754295</td>\n",
       "      <td>0.608465</td>\n",
       "      <td>Interictal</td>\n",
       "    </tr>\n",
       "    <tr>\n",
       "      <th>446</th>\n",
       "      <td>0.318753</td>\n",
       "      <td>0.844490</td>\n",
       "      <td>Interictal</td>\n",
       "    </tr>\n",
       "    <tr>\n",
       "      <th>447</th>\n",
       "      <td>0.504616</td>\n",
       "      <td>0.730617</td>\n",
       "      <td>Interictal</td>\n",
       "    </tr>\n",
       "    <tr>\n",
       "      <th>448</th>\n",
       "      <td>0.600959</td>\n",
       "      <td>0.637959</td>\n",
       "      <td>Interictal</td>\n",
       "    </tr>\n",
       "  </tbody>\n",
       "</table>\n",
       "<p>898 rows × 3 columns</p>\n",
       "</div>"
      ],
      "text/plain": [
       "     Feature 1  Feature 2    Interval\n",
       "0     1.000000   0.000000    Preictal\n",
       "1     1.000000   0.000000    Preictal\n",
       "2     1.000000   0.000000    Preictal\n",
       "3     1.000000   0.000000    Preictal\n",
       "4     1.000000   0.000000    Preictal\n",
       "..         ...        ...         ...\n",
       "444   0.670412   0.601113  Interictal\n",
       "445   0.754295   0.608465  Interictal\n",
       "446   0.318753   0.844490  Interictal\n",
       "447   0.504616   0.730617  Interictal\n",
       "448   0.600959   0.637959  Interictal\n",
       "\n",
       "[898 rows x 3 columns]"
      ]
     },
     "execution_count": 11,
     "metadata": {},
     "output_type": "execute_result"
    }
   ],
   "source": [
    "df = pd.DataFrame(preictal_features_scaled, columns=['Feature 1', 'Feature 2'])\n",
    "df['Interval'] = 'Preictal'\n",
    "df_2 = pd.DataFrame(interictal_features_scaled, columns=['Feature 1', 'Feature 2'])\n",
    "df_2['Interval'] = 'Interictal'\n",
    "frames = [df, df_2]\n",
    "rdf = pd.concat(frames)\n",
    "rdf"
   ]
  },
  {
   "cell_type": "code",
   "execution_count": 12,
   "id": "26c8e36f",
   "metadata": {},
   "outputs": [
    {
     "data": {
      "text/plain": [
       "Preictal      449\n",
       "Interictal    449\n",
       "Name: Interval, dtype: int64"
      ]
     },
     "execution_count": 12,
     "metadata": {},
     "output_type": "execute_result"
    }
   ],
   "source": [
    "rdf[\"Interval\"].value_counts()"
   ]
  },
  {
   "cell_type": "code",
   "execution_count": 165,
   "id": "f66166a4",
   "metadata": {},
   "outputs": [
    {
     "data": {
      "image/png": "[encoded data removed]",
      "text/plain": [
       "<Figure size 432x432 with 3 Axes>"
      ]
     },
     "metadata": {
      "needs_background": "light"
     },
     "output_type": "display_data"
    }
   ],
   "source": [
    "# visualise distribution\n",
    "sns.jointplot(data=rdf, x='Feature 1', y='Feature 2', hue='Interval', kind='hist', alpha=0.6)\n",
    "plt.show()"
   ]
  },
  {
   "cell_type": "code",
   "execution_count": 15,
   "id": "b91f0ce1",
   "metadata": {},
   "outputs": [
    {
     "data": {
      "image/png": "[encoded data removed]",
      "text/plain": [
       "<Figure size 432x432 with 3 Axes>"
      ]
     },
     "metadata": {
      "needs_background": "light"
     },
     "output_type": "display_data"
    }
   ],
   "source": [
    "# visualise distribution\n",
    "palette = sns.color_palette('Set2', n_colors=2)\n",
    "sns.jointplot(data=rdf, x='Feature 1', y='Feature 2', hue='Interval', kind='hist', palette=palette, alpha=0.6)\n",
    "plt.tight_layout()\n",
    "plt.savefig('../figures/classification/chb01/AR_scaling.pdf')\n",
    "plt.show()"
   ]
  },
  {
   "cell_type": "code",
   "execution_count": 16,
   "id": "a61f1734",
   "metadata": {},
   "outputs": [],
   "source": [
    "X = np.concatenate((interictal_features_scaled, preictal_features_scaled))\n",
    "\n",
    "interictal_targets = -1 * np.ones(interictal_features_scaled.shape[0])\n",
    "preictal_targets = np.ones(preictal_features_scaled.shape[0])\n",
    "y = np.hstack((interictal_targets, preictal_targets))\n",
    "\n",
    "X_train, X_test, y_train, y_test = train_test_split(X, y, test_size=0.10)"
   ]
  },
  {
   "cell_type": "code",
   "execution_count": 21,
   "id": "271258ae",
   "metadata": {},
   "outputs": [
    {
     "name": "stdout",
     "output_type": "stream",
     "text": [
      "[[30 15]\n",
      " [ 2 43]]\n",
      "              precision    recall  f1-score   support\n",
      "\n",
      "        -1.0       0.94      0.67      0.78        45\n",
      "         1.0       0.74      0.96      0.83        45\n",
      "\n",
      "    accuracy                           0.81        90\n",
      "   macro avg       0.84      0.81      0.81        90\n",
      "weighted avg       0.84      0.81      0.81        90\n",
      "\n"
     ]
    },
    {
     "data": {
      "image/png": "[encoded data removed]",
      "text/plain": [
       "<Figure size 432x288 with 2 Axes>"
      ]
     },
     "metadata": {
      "needs_background": "light"
     },
     "output_type": "display_data"
    }
   ],
   "source": [
    "svc = SVC(kernel='linear')\n",
    "svc.fit(X_train, y_train)\n",
    "y_pred = svc.predict(X_test)\n",
    "print(confusion_matrix(y_test, y_pred))\n",
    "print(classification_report(y_test, y_pred))\n",
    "confuse = confusion_matrix(y_test, y_pred)\n",
    "\n",
    "palette = sns.color_palette('crest', as_cmap=True)\n",
    "ax = sns.heatmap(confuse, cmap=palette)\n",
    "ax.set_xticklabels([\"Interictal\", \"Preictal\"])\n",
    "ax.set_yticklabels([\"Interictal\", \"Preictal\"])\n",
    "ax.set_xlabel('Predicted')\n",
    "ax.set_ylabel('Ground Truth')\n",
    "plt.tight_layout()\n",
    "plt.savefig('../figures/classification/chb01/AR_scaled_SVM_heatmap.pdf')\n",
    "plt.show()"
   ]
  },
  {
   "cell_type": "code",
   "execution_count": 131,
   "id": "2fd3133d",
   "metadata": {},
   "outputs": [
    {
     "name": "stdout",
     "output_type": "stream",
     "text": [
      "[[76 18]\n",
      " [ 0 86]]\n",
      "              precision    recall  f1-score   support\n",
      "\n",
      "        -1.0       1.00      0.81      0.89        94\n",
      "         1.0       0.83      1.00      0.91        86\n",
      "\n",
      "    accuracy                           0.90       180\n",
      "   macro avg       0.91      0.90      0.90       180\n",
      "weighted avg       0.92      0.90      0.90       180\n",
      "\n"
     ]
    },
    {
     "data": {
      "image/png": "[encoded data removed]",
      "text/plain": [
       "<Figure size 432x288 with 2 Axes>"
      ]
     },
     "metadata": {
      "needs_background": "light"
     },
     "output_type": "display_data"
    }
   ],
   "source": [
    "svc = SVC(kernel='rbf', C=11, gamma=7)\n",
    "svc.fit(X_train, y_train)\n",
    "y_pred = svc.predict(X_test)\n",
    "print(confusion_matrix(y_test, y_pred))\n",
    "print(classification_report(y_test, y_pred))\n",
    "confuse = confusion_matrix(y_test, y_pred)\n",
    "ax = sns.heatmap(confuse, annot=True, cmap='Blues')\n",
    "ax.set_xticklabels([\"Interictal\", \"Preictal\"])\n",
    "ax.set_yticklabels([\"Interictal\", \"Preictal\"])\n",
    "ax.set_xlabel('Predicted')\n",
    "ax.set_ylabel('Ground Truth')\n",
    "plt.show()"
   ]
  },
  {
   "cell_type": "code",
   "execution_count": 109,
   "id": "c709e51d",
   "metadata": {},
   "outputs": [
    {
     "name": "stdout",
     "output_type": "stream",
     "text": [
      "[[29 65]\n",
      " [ 1 85]]\n",
      "              precision    recall  f1-score   support\n",
      "\n",
      "        -1.0       0.97      0.31      0.47        94\n",
      "         1.0       0.57      0.99      0.72        86\n",
      "\n",
      "    accuracy                           0.63       180\n",
      "   macro avg       0.77      0.65      0.59       180\n",
      "weighted avg       0.78      0.63      0.59       180\n",
      "\n"
     ]
    },
    {
     "data": {
      "image/png": "[encoded data removed]",
      "text/plain": [
       "<Figure size 432x288 with 2 Axes>"
      ]
     },
     "metadata": {
      "needs_background": "light"
     },
     "output_type": "display_data"
    }
   ],
   "source": [
    "svc = SVC(kernel='poly', degree=2)\n",
    "svc.fit(X_train, y_train)\n",
    "y_pred = svc.predict(X_test)\n",
    "print(confusion_matrix(y_test, y_pred))\n",
    "print(classification_report(y_test, y_pred))\n",
    "confuse = confusion_matrix(y_test, y_pred)\n",
    "ax = sns.heatmap(confuse, annot=True, cmap='Blues')\n",
    "ax.set_xticklabels([\"Interictal\", \"Preictal\"])\n",
    "ax.set_yticklabels([\"Interictal\", \"Preictal\"])\n",
    "ax.set_xlabel('Predicted')\n",
    "ax.set_ylabel('Ground Truth')\n",
    "plt.show()"
   ]
  },
  {
   "cell_type": "code",
   "execution_count": 110,
   "id": "7da2a3bb",
   "metadata": {},
   "outputs": [
    {
     "name": "stdout",
     "output_type": "stream",
     "text": [
      "[[34 60]\n",
      " [53 33]]\n",
      "              precision    recall  f1-score   support\n",
      "\n",
      "        -1.0       0.39      0.36      0.38        94\n",
      "         1.0       0.35      0.38      0.37        86\n",
      "\n",
      "    accuracy                           0.37       180\n",
      "   macro avg       0.37      0.37      0.37       180\n",
      "weighted avg       0.37      0.37      0.37       180\n",
      "\n"
     ]
    },
    {
     "data": {
      "image/png": "[encoded data removed]",
      "text/plain": [
       "<Figure size 432x288 with 2 Axes>"
      ]
     },
     "metadata": {
      "needs_background": "light"
     },
     "output_type": "display_data"
    }
   ],
   "source": [
    "svc = SVC(kernel='sigmoid')\n",
    "svc.fit(X_train, y_train)\n",
    "y_pred = svc.predict(X_test)\n",
    "print(confusion_matrix(y_test, y_pred))\n",
    "print(classification_report(y_test, y_pred))\n",
    "confuse = confusion_matrix(y_test, y_pred)\n",
    "ax = sns.heatmap(confuse, annot=True, cmap='Blues')\n",
    "ax.set_xticklabels([\"Interictal\", \"Preictal\"])\n",
    "ax.set_yticklabels([\"Interictal\", \"Preictal\"])\n",
    "ax.set_xlabel('Predicted')\n",
    "ax.set_ylabel('Ground Truth')\n",
    "plt.show()"
   ]
  },
  {
   "cell_type": "code",
   "execution_count": 111,
   "id": "d2124008",
   "metadata": {},
   "outputs": [
    {
     "name": "stdout",
     "output_type": "stream",
     "text": [
      "[[12 82]\n",
      " [ 1 85]]\n",
      "              precision    recall  f1-score   support\n",
      "\n",
      "        -1.0       0.92      0.13      0.22        94\n",
      "         1.0       0.51      0.99      0.67        86\n",
      "\n",
      "    accuracy                           0.54       180\n",
      "   macro avg       0.72      0.56      0.45       180\n",
      "weighted avg       0.73      0.54      0.44       180\n",
      "\n"
     ]
    },
    {
     "data": {
      "image/png": "[encoded data removed]",
      "text/plain": [
       "<Figure size 432x288 with 2 Axes>"
      ]
     },
     "metadata": {
      "needs_background": "light"
     },
     "output_type": "display_data"
    }
   ],
   "source": [
    "logit = LogisticRegression(random_state=42)\n",
    "logit.fit(X_train, y_train)\n",
    "y_pred = logit.predict(X_test)\n",
    "print(confusion_matrix(y_test, y_pred))\n",
    "print(classification_report(y_test, y_pred))\n",
    "confuse = confusion_matrix(y_test, y_pred)\n",
    "ax = sns.heatmap(confuse, annot=True, cmap='Blues')\n",
    "ax.set_xticklabels([\"Interictal\", \"Preictal\"])\n",
    "ax.set_yticklabels([\"Interictal\", \"Preictal\"])\n",
    "ax.set_xlabel('Predicted')\n",
    "ax.set_ylabel('Ground Truth')\n",
    "plt.show()"
   ]
  },
  {
   "cell_type": "code",
   "execution_count": null,
   "id": "8d8449f0",
   "metadata": {},
   "outputs": [],
   "source": []
  }
 ],
 "metadata": {
  "kernelspec": {
   "display_name": "Python 3",
   "language": "python",
   "name": "python3"
  },
  "language_info": {
   "codemirror_mode": {
    "name": "ipython",
    "version": 3
   },
   "file_extension": ".py",
   "mimetype": "text/x-python",
   "name": "python",
   "nbconvert_exporter": "python",
   "pygments_lexer": "ipython3",
   "version": "3.8.5"
  }
 },
 "nbformat": 4,
 "nbformat_minor": 5
}
