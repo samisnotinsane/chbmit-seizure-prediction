{
 "cells": [
  {
   "cell_type": "code",
   "execution_count": 1,
   "id": "d6cfd74d",
   "metadata": {},
   "outputs": [],
   "source": [
    "import os\n",
    "import re\n",
    "import numpy as np"
   ]
  },
  {
   "cell_type": "markdown",
   "id": "938b710e",
   "metadata": {},
   "source": [
    "Label the data -1 for interictal and 1 for preictal. "
   ]
  },
  {
   "cell_type": "code",
   "execution_count": 2,
   "id": "0ed321ec",
   "metadata": {},
   "outputs": [],
   "source": [
    "root = '../feature_extraction/'\n",
    "interictal_dirname = 'chb01_interictal_features'\n",
    "preictal_dirname = 'chb01_preictal_features'"
   ]
  },
  {
   "cell_type": "code",
   "execution_count": 3,
   "id": "34ce2e2e",
   "metadata": {},
   "outputs": [],
   "source": [
    "regex = re.compile('^chb\\d{2}_\\d{2}.npy$')\n",
    "interictal_test_files = [x for x in os.listdir(root + interictal_dirname) if regex.search(x)]\n",
    "interictal_test_files = sorted(interictal_test_files)"
   ]
  },
  {
   "cell_type": "code",
   "execution_count": 4,
   "id": "5d3582f1",
   "metadata": {},
   "outputs": [],
   "source": [
    "regex = re.compile('^chb\\d{2}_preictal_\\d.npy')\n",
    "preictal_files = [x for x in os.listdir(root + preictal_dirname) if regex.search(x)]\n",
    "preictal_files = sorted(preictal_files)"
   ]
  },
  {
   "cell_type": "code",
   "execution_count": 5,
   "id": "7ba0e7fd",
   "metadata": {},
   "outputs": [
    {
     "data": {
      "text/plain": [
       "'chb01_interictal_1.npy'"
      ]
     },
     "execution_count": 5,
     "metadata": {},
     "output_type": "execute_result"
    }
   ],
   "source": [
    "interictal_train_file = os.listdir(root + interictal_dirname)[0]\n",
    "interictal_train_file"
   ]
  },
  {
   "cell_type": "markdown",
   "id": "451e1f43",
   "metadata": {},
   "source": [
    "For training class -1, input will be a length 1377 vector with another target vector of length 1377."
   ]
  },
  {
   "cell_type": "code",
   "execution_count": 6,
   "id": "2f4971c1",
   "metadata": {},
   "outputs": [
    {
     "data": {
      "text/plain": [
       "(1377, 23, 2)"
      ]
     },
     "execution_count": 6,
     "metadata": {},
     "output_type": "execute_result"
    }
   ],
   "source": [
    "interictal_arr = np.load(root + interictal_dirname + '/' + interictal_train_file)[:1377]\n",
    "interictal_arr.shape"
   ]
  },
  {
   "cell_type": "code",
   "execution_count": 7,
   "id": "2612dbd4",
   "metadata": {},
   "outputs": [
    {
     "name": "stdout",
     "output_type": "stream",
     "text": [
      "(459, 23, 2)\n",
      "(459, 23, 2)\n",
      "(459, 23, 2)\n"
     ]
    }
   ],
   "source": [
    "print(np.load(root + preictal_dirname + '/' + preictal_files[0]).shape)\n",
    "print(np.load(root + preictal_dirname + '/' + preictal_files[1]).shape)\n",
    "print(np.load(root + preictal_dirname + '/' + preictal_files[2]).shape)"
   ]
  },
  {
   "cell_type": "code",
   "execution_count": 8,
   "id": "07d54f08",
   "metadata": {},
   "outputs": [],
   "source": [
    "# save\n",
    "fpath = './interictal_train.npy'\n",
    "np.save(fpath, interictal_arr)"
   ]
  },
  {
   "cell_type": "markdown",
   "id": "1483ac99",
   "metadata": {},
   "source": [
    "For training class 1, input will be 3 vectors of length 459 with another target vector of length 3x459=1377."
   ]
  },
  {
   "cell_type": "code",
   "execution_count": 9,
   "id": "cdcdcdff",
   "metadata": {},
   "outputs": [
    {
     "name": "stdout",
     "output_type": "stream",
     "text": [
      "(3, 459, 23, 2)\n",
      "(1377, 23, 2)\n"
     ]
    }
   ],
   "source": [
    "preictals = []\n",
    "for i in range(3):\n",
    "    fpath = root + preictal_dirname + '/' + preictal_files[i]\n",
    "    data = np.load(fpath)\n",
    "    preictals.append(data)\n",
    "preictal_arr = np.array(preictals)\n",
    "print(preictal_arr.shape)\n",
    "preictal_arr = np.reshape(preictal_arr, (3*459, 23, 2))\n",
    "print(preictal_arr.shape)"
   ]
  },
  {
   "cell_type": "code",
   "execution_count": 10,
   "id": "2f083be6",
   "metadata": {},
   "outputs": [],
   "source": [
    "# save\n",
    "fpath = './preictal_train.npy'\n",
    "np.save(fpath, preictal_arr)"
   ]
  },
  {
   "cell_type": "markdown",
   "id": "73b61f6e",
   "metadata": {},
   "source": [
    "For test class -1, input vector will be of length 33x1377=45441."
   ]
  },
  {
   "cell_type": "code",
   "execution_count": 11,
   "id": "ffa2168c",
   "metadata": {},
   "outputs": [
    {
     "name": "stdout",
     "output_type": "stream",
     "text": [
      "(1362, 23, 2)\n",
      "(306, 23, 2)\n",
      "(33, 1377, 23, 2)\n",
      "(45441, 23, 2)\n"
     ]
    }
   ],
   "source": [
    "# interictal test segment\n",
    "interictals = []\n",
    "for i in range(len(interictal_test_files)):\n",
    "    fpath = root + interictal_dirname + '/' + interictal_test_files[i]\n",
    "    data = np.load(fpath)[:1377]\n",
    "    if data.shape[0] == 1377:\n",
    "        interictals.append(data)\n",
    "    else:\n",
    "        print(data.shape)\n",
    "    \n",
    "interictal_arr = np.array(interictals)\n",
    "print(interictal_arr.shape)\n",
    "interictal_arr = np.reshape(interictal_arr, (33*1377, 23, 2))\n",
    "print(interictal_arr.shape)"
   ]
  },
  {
   "cell_type": "code",
   "execution_count": 12,
   "id": "18df6846",
   "metadata": {},
   "outputs": [],
   "source": [
    "# save\n",
    "fpath = './interictal_test.npy'\n",
    "np.save(fpath, interictal_arr)"
   ]
  },
  {
   "cell_type": "markdown",
   "id": "5ae1b9ad",
   "metadata": {},
   "source": [
    "For test class 1, input vector will be of length 3x459=1377."
   ]
  },
  {
   "cell_type": "code",
   "execution_count": 13,
   "id": "fad4e1c5",
   "metadata": {},
   "outputs": [
    {
     "data": {
      "text/plain": [
       "3"
      ]
     },
     "execution_count": 13,
     "metadata": {},
     "output_type": "execute_result"
    }
   ],
   "source": [
    "len(preictal_files)-3"
   ]
  },
  {
   "cell_type": "code",
   "execution_count": 14,
   "id": "32b40988",
   "metadata": {},
   "outputs": [
    {
     "name": "stdout",
     "output_type": "stream",
     "text": [
      "(3, 459, 23, 2)\n",
      "(1377, 23, 2)\n"
     ]
    }
   ],
   "source": [
    "preictals = []\n",
    "for i in range(3, len(preictal_files)):\n",
    "    fpath = root + preictal_dirname + '/' + preictal_files[i]\n",
    "    data = np.load(fpath)\n",
    "    preictals.append(data)\n",
    "preictal_arr = np.array(preictals)\n",
    "print(preictal_arr.shape)\n",
    "preictal_arr = np.reshape(preictal_arr, (3*459, 23, 2))\n",
    "print(preictal_arr.shape)"
   ]
  },
  {
   "cell_type": "code",
   "execution_count": 15,
   "id": "8a32fd71",
   "metadata": {},
   "outputs": [],
   "source": [
    "fpath = './preictal_test.npy'\n",
    "np.save(fpath, preictal_arr)"
   ]
  },
  {
   "cell_type": "code",
   "execution_count": null,
   "id": "e49e5336",
   "metadata": {},
   "outputs": [],
   "source": []
  }
 ],
 "metadata": {
  "kernelspec": {
   "display_name": "Python 3",
   "language": "python",
   "name": "python3"
  },
  "language_info": {
   "codemirror_mode": {
    "name": "ipython",
    "version": 3
   },
   "file_extension": ".py",
   "mimetype": "text/x-python",
   "name": "python",
   "nbconvert_exporter": "python",
   "pygments_lexer": "ipython3",
   "version": "3.8.5"
  }
 },
 "nbformat": 4,
 "nbformat_minor": 5
}
