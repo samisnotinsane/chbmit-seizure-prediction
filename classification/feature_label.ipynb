{
 "cells": [
  {
   "cell_type": "code",
   "execution_count": 1,
   "id": "7d683ef4",
   "metadata": {},
   "outputs": [],
   "source": [
    "import os\n",
    "import re\n",
    "import numpy as np\n",
    "from tqdm import tqdm"
   ]
  },
  {
   "cell_type": "markdown",
   "id": "8786f7e2",
   "metadata": {},
   "source": [
    "Label the data -1 for interictal and 1 for preictal. "
   ]
  },
  {
   "cell_type": "code",
   "execution_count": 2,
   "id": "51f814db",
   "metadata": {},
   "outputs": [],
   "source": [
    "root = '../feature_extraction/'\n",
    "interictal_dirname = 'chb01_interictal_features'\n",
    "preictal_dirname = 'chb01_preictal_features'"
   ]
  },
  {
   "cell_type": "code",
   "execution_count": 3,
   "id": "6186ccd7",
   "metadata": {},
   "outputs": [],
   "source": [
    "regex = re.compile('^chb\\d{2}_\\d{2}.npy$')\n",
    "interictal_test_files = [x for x in os.listdir(root + interictal_dirname) if regex.search(x)]\n",
    "interictal_test_files = sorted(interictal_test_files)"
   ]
  },
  {
   "cell_type": "code",
   "execution_count": 4,
   "id": "b975dbee",
   "metadata": {},
   "outputs": [],
   "source": [
    "interictal_train_file = os.listdir(root + interictal_dirname)[0]"
   ]
  },
  {
   "cell_type": "code",
   "execution_count": 5,
   "id": "ffa85b7a",
   "metadata": {},
   "outputs": [],
   "source": [
    "regex = re.compile('^chb\\d{2}_preictal_\\d.npy')\n",
    "preictal_files = [x for x in os.listdir(root + preictal_dirname) if regex.search(x)]\n",
    "preictal_files = sorted(preictal_files)"
   ]
  },
  {
   "cell_type": "code",
   "execution_count": 7,
   "id": "185793c5",
   "metadata": {},
   "outputs": [
    {
     "name": "stderr",
     "output_type": "stream",
     "text": [
      "100%|██████████| 6/6 [00:00<00:00, 685.25it/s]\n"
     ]
    }
   ],
   "source": [
    "preictal_X_list = []\n",
    "for i in tqdm(range(len(preictal_files))):\n",
    "    data = np.load(root + preictal_files[i])\n",
    "    preictal_X_list.append(data)"
   ]
  },
  {
   "cell_type": "code",
   "execution_count": 9,
   "id": "16496f3d",
   "metadata": {},
   "outputs": [
    {
     "data": {
      "text/plain": [
       "array([1., 1., 1., 1., 1., 1.])"
      ]
     },
     "execution_count": 9,
     "metadata": {},
     "output_type": "execute_result"
    }
   ],
   "source": [
    "preictal_target_l = np.ones(len(preictal_X_list))\n",
    "preictal_target_l"
   ]
  },
  {
   "cell_type": "code",
   "execution_count": 12,
   "id": "7979331b",
   "metadata": {},
   "outputs": [
    {
     "name": "stderr",
     "output_type": "stream",
     "text": [
      "100%|██████████| 35/35 [00:00<00:00, 310.43it/s]\n"
     ]
    }
   ],
   "source": [
    "interictal_X_test_list = []\n",
    "for i in tqdm(range(len(interictal_test_files))):\n",
    "    data = np.load(root + interictal_dirname + '/' + interictal_test_files[i])\n",
    "    interictal_X_test_list.append(data)"
   ]
  },
  {
   "cell_type": "code",
   "execution_count": 13,
   "id": "2421cd75",
   "metadata": {},
   "outputs": [
    {
     "data": {
      "text/plain": [
       "array([-1., -1., -1., -1., -1., -1., -1., -1., -1., -1., -1., -1., -1.,\n",
       "       -1., -1., -1., -1., -1., -1., -1., -1., -1., -1., -1., -1., -1.,\n",
       "       -1., -1., -1., -1., -1., -1., -1., -1., -1.])"
      ]
     },
     "execution_count": 13,
     "metadata": {},
     "output_type": "execute_result"
    }
   ],
   "source": [
    "interictal_target_l = -1 * np.ones(len(interictal_X_test_list))\n",
    "interictal_target_l"
   ]
  },
  {
   "cell_type": "code",
   "execution_count": 24,
   "id": "46a87afc",
   "metadata": {},
   "outputs": [
    {
     "data": {
      "text/plain": [
       "(1377, 23, 2)"
      ]
     },
     "execution_count": 24,
     "metadata": {},
     "output_type": "execute_result"
    }
   ],
   "source": [
    "np.load(root + interictal_dirname + '/' + interictal_train_file)[:1377].shape"
   ]
  },
  {
   "cell_type": "markdown",
   "id": "d89c33fd",
   "metadata": {},
   "source": [
    "For training class -1, input will be a length 1377 vector with another target vector of length 1377."
   ]
  },
  {
   "cell_type": "code",
   "execution_count": 22,
   "id": "4bf6ddf4",
   "metadata": {},
   "outputs": [
    {
     "name": "stdout",
     "output_type": "stream",
     "text": [
      "(459, 23, 2)\n",
      "(459, 23, 2)\n",
      "(459, 23, 2)\n"
     ]
    }
   ],
   "source": [
    "print(np.load(root + preictal_dirname + '/' + preictal_files[0]).shape)\n",
    "print(np.load(root + preictal_dirname + '/' + preictal_files[1]).shape)\n",
    "print(np.load(root + preictal_dirname + '/' + preictal_files[2]).shape)"
   ]
  },
  {
   "cell_type": "markdown",
   "id": "577e3347",
   "metadata": {},
   "source": [
    "For training class 1, input will be 3 vectors of length 459 with another target vector of length 3x459=1377."
   ]
  },
  {
   "cell_type": "code",
   "execution_count": 35,
   "id": "7839efb1",
   "metadata": {},
   "outputs": [
    {
     "name": "stdout",
     "output_type": "stream",
     "text": [
      "(3, 459, 23, 2)\n",
      "(1377, 23, 2)\n"
     ]
    }
   ],
   "source": [
    "preictal_X = np.empty((459,23,2))\n",
    "preictals = []\n",
    "for i in range(3):\n",
    "    fpath = root + preictal_dirname + '/' + preictal_files[i]\n",
    "    data = np.load(fpath)\n",
    "    preictals.append(data)\n",
    "preictal_arr = np.array(preictals)\n",
    "print(preictal_arr.shape)\n",
    "preictal_arr = np.reshape(preictal_arr, (3*459, 23, 2))\n",
    "print(preictal_arr.shape)"
   ]
  },
  {
   "cell_type": "code",
   "execution_count": 36,
   "id": "965b2823",
   "metadata": {},
   "outputs": [
    {
     "data": {
      "text/plain": [
       "(1377, 23, 2)"
      ]
     },
     "execution_count": 36,
     "metadata": {},
     "output_type": "execute_result"
    }
   ],
   "source": [
    "interictal_arr = np.load(root + interictal_dirname + '/' + interictal_train_file)[:1377]\n",
    "interictal_arr.shape"
   ]
  },
  {
   "cell_type": "code",
   "execution_count": 37,
   "id": "dfcf2c2e",
   "metadata": {},
   "outputs": [],
   "source": [
    "# save\n",
    "fpath = './interictal_train.npy'\n",
    "np.save(fpath, interictal_arr)\n",
    "\n",
    "fpath = './preictal_train.npy'\n",
    "np.save(fpath, preictal_arr)"
   ]
  },
  {
   "cell_type": "code",
   "execution_count": null,
   "id": "2f733d43",
   "metadata": {},
   "outputs": [],
   "source": []
  }
 ],
 "metadata": {
  "kernelspec": {
   "display_name": "Python 3",
   "language": "python",
   "name": "python3"
  },
  "language_info": {
   "codemirror_mode": {
    "name": "ipython",
    "version": 3
   },
   "file_extension": ".py",
   "mimetype": "text/x-python",
   "name": "python",
   "nbconvert_exporter": "python",
   "pygments_lexer": "ipython3",
   "version": "3.8.5"
  }
 },
 "nbformat": 4,
 "nbformat_minor": 5
}
