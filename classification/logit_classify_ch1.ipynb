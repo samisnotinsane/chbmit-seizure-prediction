{
 "cells": [
  {
   "cell_type": "code",
   "execution_count": 24,
   "id": "66215604",
   "metadata": {},
   "outputs": [],
   "source": [
    "import numpy as np\n",
    "import matplotlib.pyplot as plt\n",
    "from sklearn.linear_model import LogisticRegression\n",
    "from sklearn.metrics import roc_curve\n",
    "from sklearn.metrics import roc_auc_score"
   ]
  },
  {
   "cell_type": "code",
   "execution_count": 8,
   "id": "e6c9a4d7",
   "metadata": {},
   "outputs": [],
   "source": [
    "def load_features():\n",
    "    interictal_features_train = np.load('./interictal_train.npy')\n",
    "    preictal_features_train = np.load('./preictal_train.npy')\n",
    "    X_train = np.concatenate((interictal_features_train, preictal_features_train), axis=0)\n",
    "    \n",
    "    interictal_targets_train = -1*np.ones(interictal_features_train.shape[0])\n",
    "    preictal_targets_train = np.ones(preictal_features_train.shape[0])\n",
    "    y_train = np.concatenate((interictal_targets_train, preictal_targets_train), axis=0)\n",
    "    \n",
    "    interictal_features_test = np.load('./interictal_test.npy')\n",
    "    preictal_features_test = np.load('./preictal_test.npy')\n",
    "    X_test = np.concatenate((interictal_features_test, preictal_features_test), axis=0)\n",
    "    \n",
    "    interictal_targets_test = -1*np.ones(interictal_features_test.shape[0])\n",
    "    preictal_targets_test = np.ones(preictal_features_test.shape[0])\n",
    "    y_test = np.concatenate((interictal_targets_test, preictal_targets_test), axis=0)\n",
    "    \n",
    "    return X_train, X_test, y_train, y_test"
   ]
  },
  {
   "cell_type": "code",
   "execution_count": 9,
   "id": "39783024",
   "metadata": {},
   "outputs": [
    {
     "name": "stdout",
     "output_type": "stream",
     "text": [
      "(2754, 23, 2) (2754,)\n",
      "(46818, 23, 2) (46818,)\n"
     ]
    }
   ],
   "source": [
    "X_train, X_test, y_train, y_test = load_features()\n",
    "print(X_train.shape, y_train.shape)\n",
    "print(X_test.shape, y_test.shape)"
   ]
  },
  {
   "cell_type": "code",
   "execution_count": 11,
   "id": "909a92af",
   "metadata": {},
   "outputs": [
    {
     "name": "stdout",
     "output_type": "stream",
     "text": [
      "(2754, 2) (2754,)\n",
      "(46818, 2) (46818,)\n"
     ]
    }
   ],
   "source": [
    "# select channel 1\n",
    "X_train_ch = X_train[: , 0, :]\n",
    "X_test_ch = X_test[:, 0, :]\n",
    "print(X_train_ch.shape, y_train.shape)\n",
    "print(X_test_ch.shape, y_test.shape)"
   ]
  },
  {
   "cell_type": "code",
   "execution_count": 12,
   "id": "99420bfa",
   "metadata": {},
   "outputs": [
    {
     "name": "stdout",
     "output_type": "stream",
     "text": [
      "CPU times: user 26.6 ms, sys: 4.37 ms, total: 31 ms\n",
      "Wall time: 39.7 ms\n"
     ]
    },
    {
     "data": {
      "text/plain": [
       "LogisticRegression(random_state=0)"
      ]
     },
     "execution_count": 12,
     "metadata": {},
     "output_type": "execute_result"
    }
   ],
   "source": [
    "%%time\n",
    "model = LogisticRegression(random_state=0)\n",
    "model.fit(X_train_ch, y_train)"
   ]
  },
  {
   "cell_type": "code",
   "execution_count": 14,
   "id": "54c5dbb0",
   "metadata": {},
   "outputs": [],
   "source": [
    "lr_probs = model.predict_proba(X_test_ch)\n",
    "lr_probs = lr_probs[:, 1] # keep probabilities for the positive outcome only"
   ]
  },
  {
   "cell_type": "code",
   "execution_count": 19,
   "id": "f6baa360",
   "metadata": {},
   "outputs": [
    {
     "data": {
      "text/plain": [
       "array([0.02376044, 0.02376044, 0.02376044, ..., 0.96566514, 0.92527196,\n",
       "       0.96550628])"
      ]
     },
     "execution_count": 19,
     "metadata": {},
     "output_type": "execute_result"
    }
   ],
   "source": [
    "lr_probs"
   ]
  },
  {
   "cell_type": "code",
   "execution_count": 22,
   "id": "db258d48",
   "metadata": {},
   "outputs": [
    {
     "data": {
      "text/plain": [
       "array([-1., -1., -1., ...,  1.,  1.,  1.])"
      ]
     },
     "execution_count": 22,
     "metadata": {},
     "output_type": "execute_result"
    }
   ],
   "source": [
    "y_train"
   ]
  },
  {
   "cell_type": "code",
   "execution_count": 17,
   "id": "1c9073a7",
   "metadata": {},
   "outputs": [],
   "source": [
    "# generate a no skill prediction (majority class)\n",
    "ns_probs = [0 for _ in range(len(X_test_ch))]"
   ]
  },
  {
   "cell_type": "code",
   "execution_count": 28,
   "id": "5b9dc855",
   "metadata": {},
   "outputs": [
    {
     "data": {
      "image/png": "[encoded data removed]",
      "text/plain": [
       "<Figure size 432x288 with 1 Axes>"
      ]
     },
     "metadata": {
      "needs_background": "light"
     },
     "output_type": "display_data"
    }
   ],
   "source": [
    "ns_fpr, ns_tpr, _ = roc_curve(y_test, ns_probs)\n",
    "lr_fpr, lr_tpr, _ = roc_curve(y_test, lr_probs)\n",
    "\n",
    "plt.figure()\n",
    "plt.plot(ns_fpr, ns_tpr, linestyle='--', color='pink', label='Random Predictor')\n",
    "plt.plot(lr_fpr, lr_tpr, color='lightgreen', label='Logistic Regression')\n",
    "plt.xlabel('False Positive Rate')\n",
    "plt.ylabel('True Positive Rate')\n",
    "plt.legend()\n",
    "plt.savefig('../figures/classification/logit_regr_ROC_ch1.pdf')\n",
    "plt.show()"
   ]
  },
  {
   "cell_type": "code",
   "execution_count": 27,
   "id": "51363eff",
   "metadata": {},
   "outputs": [
    {
     "name": "stdout",
     "output_type": "stream",
     "text": [
      "Random Predictor: ROC AUC=0.500\n",
      "Logistic Regression: ROC AUC=0.987\n"
     ]
    }
   ],
   "source": [
    "# calculate scores\n",
    "ns_auc = roc_auc_score(y_test, ns_probs)\n",
    "lr_auc = roc_auc_score(y_test, lr_probs)\n",
    "# summarize scores\n",
    "print('Random Predictor: ROC AUC=%.3f' % (ns_auc))\n",
    "print('Logistic Regression: ROC AUC=%.3f' % (lr_auc))"
   ]
  },
  {
   "cell_type": "code",
   "execution_count": null,
   "id": "4224211d",
   "metadata": {},
   "outputs": [],
   "source": []
  }
 ],
 "metadata": {
  "kernelspec": {
   "display_name": "Python 3",
   "language": "python",
   "name": "python3"
  },
  "language_info": {
   "codemirror_mode": {
    "name": "ipython",
    "version": 3
   },
   "file_extension": ".py",
   "mimetype": "text/x-python",
   "name": "python",
   "nbconvert_exporter": "python",
   "pygments_lexer": "ipython3",
   "version": "3.8.5"
  }
 },
 "nbformat": 4,
 "nbformat_minor": 5
}
