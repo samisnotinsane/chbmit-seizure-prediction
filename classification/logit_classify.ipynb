{
 "cells": [
  {
   "cell_type": "code",
   "execution_count": 1,
   "id": "0dc38943",
   "metadata": {},
   "outputs": [],
   "source": [
    "import numpy as np\n",
    "import matplotlib.pyplot as plt\n",
    "from sklearn.linear_model import LogisticRegression\n",
    "from sklearn.metrics import roc_curve, roc_auc_score, f1_score, auc, precision_recall_curve"
   ]
  },
  {
   "cell_type": "code",
   "execution_count": 2,
   "id": "33ddebd0",
   "metadata": {},
   "outputs": [],
   "source": [
    "def print_class_count(interictal_features_train, \n",
    "                      interictal_features_test,\n",
    "                      preictal_features_train,\n",
    "                      preictal_features_test\n",
    "                     ):\n",
    "    interictal_all = np.concatenate((interictal_features_train, \n",
    "                      interictal_features_test), axis=0)\n",
    "    preictal_all = np.concatenate((preictal_features_train,\n",
    "                      preictal_features_test), axis=0)\n",
    "    print('Interictal:', interictal_all.shape[0])\n",
    "    print('Preictal:', preictal_all.shape[0])\n",
    "    print(f'Class ratio: {int(interictal_all.shape[0]/preictal_all.shape[0])}:1', end='\\n\\n')\n",
    "\n",
    "def load_features():\n",
    "    interictal_features_train = np.load('./interictal_train.npy')\n",
    "    preictal_features_train = np.load('./preictal_train.npy')\n",
    "    X_train = np.concatenate((interictal_features_train, preictal_features_train), axis=0)\n",
    "    \n",
    "    interictal_targets_train = -1*np.ones(interictal_features_train.shape[0])\n",
    "    preictal_targets_train = np.ones(preictal_features_train.shape[0])\n",
    "    y_train = np.concatenate((interictal_targets_train, preictal_targets_train), axis=0)\n",
    "    \n",
    "    interictal_features_test = np.load('./interictal_test.npy')\n",
    "    preictal_features_test = np.load('./preictal_test.npy')\n",
    "    X_test = np.concatenate((interictal_features_test, preictal_features_test), axis=0)\n",
    "    \n",
    "    interictal_targets_test = -1*np.ones(interictal_features_test.shape[0])\n",
    "    preictal_targets_test = np.ones(preictal_features_test.shape[0])\n",
    "    y_test = np.concatenate((interictal_targets_test, preictal_targets_test), axis=0)\n",
    "    \n",
    "    print_class_count(interictal_features_train, \n",
    "                      interictal_features_test,\n",
    "                      preictal_features_train,\n",
    "                      preictal_features_test\n",
    "                     )\n",
    "    \n",
    "    return X_train, X_test, y_train, y_test"
   ]
  },
  {
   "cell_type": "code",
   "execution_count": 3,
   "id": "0b69c280",
   "metadata": {},
   "outputs": [
    {
     "name": "stdout",
     "output_type": "stream",
     "text": [
      "Interictal: 46818\n",
      "Preictal: 2754\n",
      "Class ratio: 17:1\n",
      "\n",
      "X_train: (2754, 23, 2) (2754,)\n",
      "X_test: (46818, 23, 2) (46818,)\n"
     ]
    }
   ],
   "source": [
    "X_train, X_test, y_train, y_test = load_features()\n",
    "print('X_train:', X_train.shape, y_train.shape)\n",
    "print('X_test:', X_test.shape, y_test.shape)"
   ]
  },
  {
   "cell_type": "markdown",
   "id": "433eb207",
   "metadata": {},
   "source": [
    "## Channel 1"
   ]
  },
  {
   "cell_type": "code",
   "execution_count": 4,
   "id": "71f832bc",
   "metadata": {},
   "outputs": [
    {
     "name": "stdout",
     "output_type": "stream",
     "text": [
      "(2754, 2) (2754,)\n",
      "(46818, 2) (46818,)\n"
     ]
    }
   ],
   "source": [
    "# select channel 1\n",
    "X_train_ch = X_train[: , 0, :]\n",
    "X_test_ch = X_test[:, 0, :]\n",
    "print(X_train_ch.shape, y_train.shape)\n",
    "print(X_test_ch.shape, y_test.shape)"
   ]
  },
  {
   "cell_type": "code",
   "execution_count": 5,
   "id": "beda23b8",
   "metadata": {},
   "outputs": [
    {
     "name": "stdout",
     "output_type": "stream",
     "text": [
      "CPU times: user 41.1 ms, sys: 8.41 ms, total: 49.5 ms\n",
      "Wall time: 54.9 ms\n"
     ]
    },
    {
     "data": {
      "text/plain": [
       "LogisticRegression(random_state=0)"
      ]
     },
     "execution_count": 5,
     "metadata": {},
     "output_type": "execute_result"
    }
   ],
   "source": [
    "%%time\n",
    "model = LogisticRegression(random_state=0)\n",
    "model.fit(X_train_ch, y_train)"
   ]
  },
  {
   "cell_type": "code",
   "execution_count": 6,
   "id": "199a600f",
   "metadata": {},
   "outputs": [],
   "source": [
    "lr_probs = model.predict_proba(X_test_ch)\n",
    "lr_probs = lr_probs[:, 1] # keep probabilities for the positive outcome only"
   ]
  },
  {
   "cell_type": "code",
   "execution_count": 7,
   "id": "33f26bc5",
   "metadata": {},
   "outputs": [],
   "source": [
    "# generate a no skill prediction (majority class)\n",
    "ns_probs = [0 for _ in range(len(X_test_ch))]"
   ]
  },
  {
   "cell_type": "code",
   "execution_count": 8,
   "id": "b5b83610",
   "metadata": {},
   "outputs": [
    {
     "data": {
      "image/png": "[encoded data removed]",
      "text/plain": [
       "<Figure size 432x288 with 1 Axes>"
      ]
     },
     "metadata": {
      "needs_background": "light"
     },
     "output_type": "display_data"
    }
   ],
   "source": [
    "ns_fpr, ns_tpr, _ = roc_curve(y_test, ns_probs)\n",
    "lr_fpr, lr_tpr, _ = roc_curve(y_test, lr_probs)\n",
    "\n",
    "plt.figure()\n",
    "plt.plot(ns_fpr, ns_tpr, linestyle='--', color='pink', label='Random Predictor')\n",
    "plt.plot(lr_fpr, lr_tpr, color='lightgreen', label='Logistic Regression')\n",
    "plt.xlabel('False Positive Rate')\n",
    "plt.ylabel('True Positive Rate')\n",
    "plt.title('ROC Curve - Channel 1')\n",
    "plt.legend()\n",
    "plt.savefig('../figures/classification/logit_regr_ROC_ch1.pdf')\n",
    "plt.show()"
   ]
  },
  {
   "cell_type": "code",
   "execution_count": 9,
   "id": "d2090d85",
   "metadata": {},
   "outputs": [
    {
     "name": "stdout",
     "output_type": "stream",
     "text": [
      "Random Predictor: ROC AUC=0.500\n",
      "Logistic Regression: ROC AUC=0.987\n"
     ]
    }
   ],
   "source": [
    "# calculate scores\n",
    "ns_auc = roc_auc_score(y_test, ns_probs)\n",
    "lr_auc = roc_auc_score(y_test, lr_probs)\n",
    "# summarize scores\n",
    "print('Random Predictor: ROC AUC=%.3f' % (ns_auc))\n",
    "print('Logistic Regression: ROC AUC=%.3f' % (lr_auc))"
   ]
  },
  {
   "cell_type": "code",
   "execution_count": 10,
   "id": "f626b196",
   "metadata": {},
   "outputs": [
    {
     "name": "stdout",
     "output_type": "stream",
     "text": [
      "Logistic: f1=0.992 auc=0.987\n"
     ]
    }
   ],
   "source": [
    "# calculate precision and recall for each threshold\n",
    "lr_precision, lr_recall, _ = precision_recall_curve(y_test, lr_probs)\n",
    "# calculate scores\n",
    "# predict class values\n",
    "yhat = model.predict(X_test_ch)\n",
    "lr_f1, lr_auc = f1_score(y_test, yhat), auc(lr_recall, lr_precision)\n",
    "# summarize scores\n",
    "print('Logistic: f1=%.3f auc=%.3f' % (lr_f1, lr_auc))"
   ]
  },
  {
   "cell_type": "code",
   "execution_count": 11,
   "id": "917b6ad7",
   "metadata": {},
   "outputs": [
    {
     "data": {
      "image/png": "[encoded data removed]",
      "text/plain": [
       "<Figure size 432x288 with 1 Axes>"
      ]
     },
     "metadata": {
      "needs_background": "light"
     },
     "output_type": "display_data"
    }
   ],
   "source": [
    "# plot the precision-recall curves\n",
    "no_skill = len(y_test[y_test==1]) / len(y_test)\n",
    "plt.plot([0, 1], [no_skill, no_skill], color='pink', linestyle='--', label='Random Predictor')\n",
    "plt.plot(lr_recall, lr_precision, color='lightgreen', label='Logistic Regression')\n",
    "# axis labels\n",
    "plt.xlabel('Recall')\n",
    "plt.ylabel('Precision')\n",
    "plt.title('Precision-Recall Plot - Channel 1')\n",
    "# show the legend\n",
    "plt.legend()\n",
    "plt.savefig('../figures/classification/logit_regr_PR_ch1.pdf')\n",
    "# show the plot\n",
    "plt.show()"
   ]
  },
  {
   "cell_type": "markdown",
   "id": "dced6597",
   "metadata": {},
   "source": [
    "A precision-recall plot is more informative in our case as the classes are imbalanced. \n",
    "\n",
    "Source: [The Precision-Recall Plot Is More Informative than the ROC Plot When Evaluating Binary Classifiers on Imbalanced Datasets, (T. Saito et al., 2015 PLoS One)](https://www.ncbi.nlm.nih.gov/pmc/articles/PMC4349800/)"
   ]
  },
  {
   "cell_type": "markdown",
   "id": "a67e2e93",
   "metadata": {},
   "source": [
    "## Channel 20"
   ]
  },
  {
   "cell_type": "code",
   "execution_count": 12,
   "id": "82d496c3",
   "metadata": {},
   "outputs": [
    {
     "name": "stdout",
     "output_type": "stream",
     "text": [
      "(2754, 2) (2754,)\n",
      "(46818, 2) (46818,)\n"
     ]
    }
   ],
   "source": [
    "# select channel 20\n",
    "X_train_ch = X_train[: , 20, :]\n",
    "X_test_ch = X_test[:, 20, :]\n",
    "print(X_train_ch.shape, y_train.shape)\n",
    "print(X_test_ch.shape, y_test.shape)"
   ]
  },
  {
   "cell_type": "code",
   "execution_count": 13,
   "id": "bb5e529d",
   "metadata": {},
   "outputs": [
    {
     "data": {
      "image/png": "[encoded data removed]",
      "text/plain": [
       "<Figure size 432x288 with 1 Axes>"
      ]
     },
     "metadata": {
      "needs_background": "light"
     },
     "output_type": "display_data"
    },
    {
     "data": {
      "image/png": "[encoded data removed]",
      "text/plain": [
       "<Figure size 432x288 with 1 Axes>"
      ]
     },
     "metadata": {
      "needs_background": "light"
     },
     "output_type": "display_data"
    }
   ],
   "source": [
    "model = LogisticRegression(random_state=0)\n",
    "model.fit(X_train_ch, y_train)\n",
    "\n",
    "lr_probs = model.predict_proba(X_test_ch)\n",
    "lr_probs = lr_probs[:, 1] # keep probabilities for the positive outcome only\n",
    "\n",
    "# generate a no skill prediction (majority class)\n",
    "ns_probs = [0 for _ in range(len(X_test_ch))]\n",
    "\n",
    "ns_fpr, ns_tpr, _ = roc_curve(y_test, ns_probs)\n",
    "lr_fpr, lr_tpr, _ = roc_curve(y_test, lr_probs)\n",
    "\n",
    "plt.figure()\n",
    "plt.plot(ns_fpr, ns_tpr, linestyle='--', color='pink', label='Random Predictor')\n",
    "plt.plot(lr_fpr, lr_tpr, color='lightgreen', label='Logistic Regression')\n",
    "plt.xlabel('False Positive Rate')\n",
    "plt.ylabel('True Positive Rate')\n",
    "plt.title('ROC Curve - Channel 20')\n",
    "plt.legend()\n",
    "plt.savefig('../figures/classification/logit_regr_ROC_ch20.pdf')\n",
    "plt.show()\n",
    "\n",
    "\n",
    "# plot the precision-recall curves\n",
    "plt.figure()\n",
    "no_skill = len(y_test[y_test==1]) / len(y_test)\n",
    "plt.plot([0, 1], [no_skill, no_skill], color='pink', linestyle='--', label='Random Predictor')\n",
    "plt.plot(lr_recall, lr_precision, color='lightgreen', label='Logistic Regression')\n",
    "# axis labels\n",
    "plt.xlabel('Recall')\n",
    "plt.ylabel('Precision')\n",
    "plt.title('Precision-Recall Plot - Channel 20')\n",
    "# show the legend\n",
    "plt.legend()\n",
    "plt.savefig('../figures/classification/logit_regr_PR_ch20.pdf')\n",
    "# show the plot\n",
    "plt.show()"
   ]
  },
  {
   "cell_type": "code",
   "execution_count": null,
   "id": "66bbcdca",
   "metadata": {},
   "outputs": [],
   "source": []
  }
 ],
 "metadata": {
  "kernelspec": {
   "display_name": "Python 3",
   "language": "python",
   "name": "python3"
  },
  "language_info": {
   "codemirror_mode": {
    "name": "ipython",
    "version": 3
   },
   "file_extension": ".py",
   "mimetype": "text/x-python",
   "name": "python",
   "nbconvert_exporter": "python",
   "pygments_lexer": "ipython3",
   "version": "3.8.5"
  }
 },
 "nbformat": 4,
 "nbformat_minor": 5
}
