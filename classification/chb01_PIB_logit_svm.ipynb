{
 "cells": [
  {
   "cell_type": "markdown",
   "id": "ded3bb3f",
   "metadata": {},
   "source": [
    "### What is the prediction performance of PIB features using Logistic Regression and Linear SVM?"
   ]
  },
  {
   "cell_type": "code",
   "execution_count": 1,
   "id": "030412d8",
   "metadata": {},
   "outputs": [],
   "source": [
    "import numpy as np\n",
    "import mne\n",
    "from tqdm import tqdm\n",
    "from ARMA import ARMA\n",
    "from sklearn.linear_model import LogisticRegression\n",
    "from sklearn.svm import SVC\n",
    "from sklearn.kernel_approximation import RBFSampler\n",
    "from sklearn.model_selection import KFold, ShuffleSplit\n",
    "from sklearn.metrics import roc_curve, roc_auc_score, f1_score, auc, precision_recall_curve, classification_report, confusion_matrix, plot_roc_curve\n",
    "from sklearn.preprocessing import StandardScaler, RobustScaler, MaxAbsScaler, MinMaxScaler\n",
    "from sklearn.model_selection import train_test_split\n",
    "import matplotlib.pyplot as plt\n",
    "import seaborn as sns\n",
    "import pandas as pd\n",
    "from pandas.plotting import parallel_coordinates\n",
    "import yasa"
   ]
  },
  {
   "cell_type": "code",
   "execution_count": 2,
   "id": "1636a141",
   "metadata": {},
   "outputs": [
    {
     "name": "stderr",
     "output_type": "stream",
     "text": [
      "/Users/sameenislam/anaconda3/envs/ml/lib/python3.8/site-packages/outdated/utils.py:14: OutdatedPackageWarning: The package yasa is out of date. Your version is 0.4.1, the latest is 0.5.1.\n",
      "Set the environment variable OUTDATED_IGNORE=1 to disable these warnings.\n",
      "  return warn(\n"
     ]
    }
   ],
   "source": [
    "root = '/Volumes/My Passport/AI_Research/data/physionet.org/files/chbmit/1.0.0/' \n",
    "case = 'chb01/'\n",
    "preictal_filenames = ['chb01_03_preictal.npy', 'chb01_04_preictal.npy', 'chb01_15_preictal.npy', 'chb01_16_preictal.npy',\n",
    "             'chb01_18_preictal.npy', 'chb01_26_preictal.npy']\n",
    "interictal_filenames = ['chb01_01.edf', 'chb01_02.edf', 'chb01_05.edf',\n",
    "                        'chb01_06.edf', 'chb01_07.edf', 'chb01_08.edf']"
   ]
  },
  {
   "cell_type": "code",
   "execution_count": 3,
   "id": "e79a364b",
   "metadata": {},
   "outputs": [],
   "source": [
    "def load_EEG(filepath, label) -> (np.ndarray, np.ndarray):\n",
    "    if label == 'preictal':\n",
    "        data = np.load(filepath)\n",
    "        target = np.ones(data.shape[1])\n",
    "    if label == 'interictal':\n",
    "        data = mne.io \\\n",
    "        .read_raw_edf(input_fname=filepath, preload=False, verbose='Error') \\\n",
    "        .get_data(picks='all', units='uV', return_times=False)\n",
    "        target = -1 * np.ones(data.shape[1])\n",
    "    return data, target"
   ]
  },
  {
   "cell_type": "code",
   "execution_count": 4,
   "id": "7883301c",
   "metadata": {},
   "outputs": [
    {
     "name": "stdout",
     "output_type": "stream",
     "text": [
      "Neural Rhythms:\n"
     ]
    },
    {
     "data": {
      "text/plain": [
       "[(0.1, 4, 'Delta'),\n",
       " (4, 8, 'Theta'),\n",
       " (8, 12, 'Alpha'),\n",
       " (12, 30, 'Beta'),\n",
       " (30, 70, 'Low Gamma'),\n",
       " (70, 127.9, 'High Gamma')]"
      ]
     },
     "execution_count": 4,
     "metadata": {},
     "output_type": "execute_result"
    }
   ],
   "source": [
    "bands = [(0.1, 4, 'Delta'), (4, 8, 'Theta'), (8, 12, 'Alpha'), (12, 30, 'Beta'), (30, 70, 'Low Gamma'), (70, 127.9, 'High Gamma')]\n",
    "print('Neural Rhythms:')\n",
    "bands"
   ]
  },
  {
   "cell_type": "code",
   "execution_count": 5,
   "id": "d0f1a3f7",
   "metadata": {},
   "outputs": [
    {
     "name": "stderr",
     "output_type": "stream",
     "text": [
      "100%|██████████| 6/6 [00:49<00:00,  8.27s/it]\n"
     ]
    }
   ],
   "source": [
    "# load preictal and interictal data\n",
    "preictal_feature_list = []\n",
    "interictal_feature_list = []\n",
    "for i in tqdm(range(6)):\n",
    "    # load preictal data\n",
    "    p_filepath = root + case + preictal_filenames[i]\n",
    "    p_data, _ = load_EEG(p_filepath, 'preictal')\n",
    "    # generate preictal features\n",
    "    preictal_df = yasa.bandpower(p_data, sf=256, win_sec=10, bands=bands, bandpass=True, relative=True)\n",
    "    preictal_df = preictal_df[['Delta', 'Theta', 'Alpha', 'Beta', 'Low Gamma', 'High Gamma']]\n",
    "#     preictal_features = preictal_df.to_numpy()\n",
    "    # load interictal data\n",
    "    ic_filepath = root + case + interictal_filenames[i]\n",
    "    ic_data, _ = load_EEG(ic_filepath, 'interictal')\n",
    "    # generate interictal features\n",
    "    interictal_df = yasa.bandpower(ic_data, sf=256, win_sec=10, bands=bands, bandpass=True, relative=True)\n",
    "    interictal_df = interictal_df[['Delta', 'Theta', 'Alpha', 'Beta', 'Low Gamma', 'High Gamma']]\n",
    "#     interictal_features = interictal_df.to_numpy()\n",
    "    # store data in list\n",
    "#     preictal_feature_list.append(preictal_features)\n",
    "#     interictal_feature_list.append(interictal_features)\n",
    "    preictal_feature_list.append(preictal_df)\n",
    "    interictal_feature_list.append(interictal_df)"
   ]
  },
  {
   "cell_type": "code",
   "execution_count": 36,
   "id": "5223cff3",
   "metadata": {},
   "outputs": [
    {
     "name": "stdout",
     "output_type": "stream",
     "text": [
      "(92, 6) (92,)\n"
     ]
    }
   ],
   "source": [
    "sample = 2\n",
    "preictal_1 = preictal_feature_list[sample].to_numpy()\n",
    "interictal_1 = interictal_feature_list[sample].to_numpy()\n",
    "preictal_1_targets = np.ones(preictal_feature_list[sample].shape[0])\n",
    "interictal_1_targets = -1 * np.ones(interictal_feature_list[sample].shape[0])\n",
    "joined_1 = np.concatenate((interictal_1, preictal_1), axis=0)\n",
    "joined_1_targets = np.concatenate((interictal_1_targets, preictal_1_targets))\n",
    "\n",
    "preictal_2 = preictal_feature_list[sample+1].to_numpy()\n",
    "interictal_2 = interictal_feature_list[sample+1].to_numpy()\n",
    "preictal_2_targets = np.ones(preictal_feature_list[sample+1].shape[0])\n",
    "interictal_2_targets = -1 * np.ones(interictal_feature_list[sample+1].shape[0])\n",
    "joined_2 = np.concatenate((interictal_2, preictal_2), axis=0)\n",
    "joined_2_targets = np.concatenate((interictal_2_targets, preictal_2_targets))\n",
    "\n",
    "double_joined = np.concatenate((joined_1, joined_2), axis=0)\n",
    "double_joined_targets = np.hstack((joined_1_targets, joined_2_targets))\n",
    "print(double_joined.shape, double_joined_targets.shape)"
   ]
  },
  {
   "cell_type": "markdown",
   "id": "89474792",
   "metadata": {},
   "source": [
    "### Logistic Regression"
   ]
  },
  {
   "cell_type": "code",
   "execution_count": 37,
   "id": "23ee730d",
   "metadata": {},
   "outputs": [
    {
     "name": "stdout",
     "output_type": "stream",
     "text": [
      "[[4 1]\n",
      " [0 5]]\n",
      "              precision    recall  f1-score   support\n",
      "\n",
      "        -1.0       1.00      0.80      0.89         5\n",
      "         1.0       0.83      1.00      0.91         5\n",
      "\n",
      "    accuracy                           0.90        10\n",
      "   macro avg       0.92      0.90      0.90        10\n",
      "weighted avg       0.92      0.90      0.90        10\n",
      "\n"
     ]
    },
    {
     "data": {
      "image/png": "[encoded data removed]",
      "text/plain": [
       "<Figure size 432x288 with 2 Axes>"
      ]
     },
     "metadata": {
      "needs_background": "light"
     },
     "output_type": "display_data"
    }
   ],
   "source": [
    "X_train, X_test, y_train, y_test = train_test_split(double_joined, double_joined_targets, test_size=0.1, random_state=42)\n",
    "clf = LogisticRegression(random_state=42).fit(X_train, y_train)\n",
    "y_pred = clf.predict(X_test)\n",
    "print(confusion_matrix(y_test, y_pred))\n",
    "print(classification_report(y_test, y_pred))\n",
    "confuse = confusion_matrix(y_test, y_pred)\n",
    "ax = sns.heatmap(confuse, annot=True, cmap='Blues')\n",
    "ax.set_xticklabels([\"Interictal\", \"Preictal\"])\n",
    "ax.set_yticklabels([\"Interictal\", \"Preictal\"])\n",
    "ax.set_xlabel('Predicted')\n",
    "ax.set_ylabel('Ground Truth')\n",
    "plt.show()"
   ]
  },
  {
   "cell_type": "markdown",
   "id": "9260f605",
   "metadata": {},
   "source": [
    "### Linear SVM"
   ]
  },
  {
   "cell_type": "code",
   "execution_count": 43,
   "id": "71729410",
   "metadata": {},
   "outputs": [
    {
     "name": "stdout",
     "output_type": "stream",
     "text": [
      "[[4 1]\n",
      " [0 5]]\n",
      "              precision    recall  f1-score   support\n",
      "\n",
      "        -1.0       1.00      0.80      0.89         5\n",
      "         1.0       0.83      1.00      0.91         5\n",
      "\n",
      "    accuracy                           0.90        10\n",
      "   macro avg       0.92      0.90      0.90        10\n",
      "weighted avg       0.92      0.90      0.90        10\n",
      "\n"
     ]
    },
    {
     "data": {
      "image/png": "[encoded data removed]",
      "text/plain": [
       "<Figure size 432x288 with 2 Axes>"
      ]
     },
     "metadata": {
      "needs_background": "light"
     },
     "output_type": "display_data"
    }
   ],
   "source": [
    "svc = SVC(kernel='linear')\n",
    "svc.fit(X_train, y_train)\n",
    "y_pred = svc.predict(X_test)\n",
    "print(confusion_matrix(y_test, y_pred))\n",
    "print(classification_report(y_test, y_pred))\n",
    "confuse = confusion_matrix(y_test, y_pred)\n",
    "palette = sns.color_palette(\"crest\", as_cmap=True)\n",
    "ax = sns.heatmap(confuse, cmap=palette)\n",
    "ax.set_xticklabels([\"Interictal\", \"Preictal\"])\n",
    "ax.set_yticklabels([\"Interictal\", \"Preictal\"])\n",
    "ax.set_xlabel('Predicted')\n",
    "ax.set_ylabel('Ground Truth')\n",
    "plt.tight_layout()\n",
    "plt.savefig('../figures/feature_extraction/chb001/PIB_SVM_heatmap.pdf')\n",
    "plt.show()"
   ]
  },
  {
   "cell_type": "code",
   "execution_count": 39,
   "id": "135fadac",
   "metadata": {},
   "outputs": [
    {
     "name": "stdout",
     "output_type": "stream",
     "text": [
      "[[4 1]\n",
      " [0 5]]\n",
      "              precision    recall  f1-score   support\n",
      "\n",
      "        -1.0       1.00      0.80      0.89         5\n",
      "         1.0       0.83      1.00      0.91         5\n",
      "\n",
      "    accuracy                           0.90        10\n",
      "   macro avg       0.92      0.90      0.90        10\n",
      "weighted avg       0.92      0.90      0.90        10\n",
      "\n"
     ]
    },
    {
     "data": {
      "image/png": "[encoded data removed]",
      "text/plain": [
       "<Figure size 432x288 with 2 Axes>"
      ]
     },
     "metadata": {
      "needs_background": "light"
     },
     "output_type": "display_data"
    }
   ],
   "source": [
    "svc = SVC(kernel='rbf')\n",
    "svc.fit(X_train, y_train)\n",
    "y_pred = svc.predict(X_test)\n",
    "print(confusion_matrix(y_test, y_pred))\n",
    "print(classification_report(y_test, y_pred))\n",
    "confuse = confusion_matrix(y_test, y_pred)\n",
    "ax = sns.heatmap(confuse, annot=True, cmap='Blues')\n",
    "ax.set_xticklabels([\"Interictal\", \"Preictal\"])\n",
    "ax.set_yticklabels([\"Interictal\", \"Preictal\"])\n",
    "ax.set_xlabel('Predicted')\n",
    "ax.set_ylabel('Ground Truth')\n",
    "plt.show()"
   ]
  },
  {
   "cell_type": "code",
   "execution_count": null,
   "id": "1f1f4dcf",
   "metadata": {},
   "outputs": [],
   "source": []
  }
 ],
 "metadata": {
  "kernelspec": {
   "display_name": "Python 3",
   "language": "python",
   "name": "python3"
  },
  "language_info": {
   "codemirror_mode": {
    "name": "ipython",
    "version": 3
   },
   "file_extension": ".py",
   "mimetype": "text/x-python",
   "name": "python",
   "nbconvert_exporter": "python",
   "pygments_lexer": "ipython3",
   "version": "3.8.5"
  }
 },
 "nbformat": 4,
 "nbformat_minor": 5
}
