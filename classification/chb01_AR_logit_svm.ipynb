{
 "cells": [
  {
   "cell_type": "markdown",
   "id": "c1ce18a4",
   "metadata": {},
   "source": [
    "### What is the prediction performance of AR features using Logistic Regression and Linear SVM?"
   ]
  },
  {
   "cell_type": "code",
   "execution_count": 1,
   "id": "6a8f0756",
   "metadata": {},
   "outputs": [],
   "source": [
    "import numpy as np\n",
    "import mne\n",
    "from tqdm import tqdm\n",
    "from ARMA import ARMA\n",
    "from sklearn.linear_model import LogisticRegression\n",
    "from sklearn.svm import SVC\n",
    "from sklearn.kernel_approximation import RBFSampler\n",
    "from sklearn.model_selection import KFold, ShuffleSplit\n",
    "from sklearn.metrics import roc_curve, roc_auc_score, f1_score, auc, precision_recall_curve, \\\n",
    "                            classification_report, confusion_matrix, plot_roc_curve, plot_precision_recall_curve\n",
    "from sklearn.preprocessing import StandardScaler, RobustScaler, MaxAbsScaler, MinMaxScaler\n",
    "from sklearn.model_selection import train_test_split\n",
    "import matplotlib.pyplot as plt\n",
    "import seaborn as sns\n",
    "import pandas as pd\n",
    "from pandas.plotting import parallel_coordinates"
   ]
  },
  {
   "cell_type": "code",
   "execution_count": 2,
   "id": "b7e83fe0",
   "metadata": {},
   "outputs": [],
   "source": [
    "root = '/Volumes/My Passport/AI_Research/data/physionet.org/files/chbmit/1.0.0/' \n",
    "case = 'chb01/'\n",
    "preictal_filenames = ['chb01_03_preictal.npy', 'chb01_04_preictal.npy', 'chb01_15_preictal.npy', 'chb01_16_preictal.npy',\n",
    "             'chb01_18_preictal.npy', 'chb01_26_preictal.npy']\n",
    "interictal_filenames = ['chb01_01.edf', 'chb01_02.edf', 'chb01_05.edf',\n",
    "                        'chb01_06.edf', 'chb01_07.edf', 'chb01_08.edf']"
   ]
  },
  {
   "cell_type": "code",
   "execution_count": 3,
   "id": "c435ba00",
   "metadata": {},
   "outputs": [],
   "source": [
    "def load_EEG(filepath, label) -> (np.ndarray, np.ndarray):\n",
    "    if label == 'preictal':\n",
    "        data = np.load(filepath)\n",
    "        target = np.ones(data.shape[1])\n",
    "    if label == 'interictal':\n",
    "        data = mne.io \\\n",
    "        .read_raw_edf(input_fname=filepath, preload=False, verbose='Error') \\\n",
    "        .get_data(picks='all', units='uV', return_times=False)\n",
    "        target = -1 * np.ones(data.shape[1])\n",
    "    return data, target"
   ]
  },
  {
   "cell_type": "code",
   "execution_count": 4,
   "id": "8eb7ddb8",
   "metadata": {},
   "outputs": [
    {
     "name": "stdout",
     "output_type": "stream",
     "text": [
      "Input channels: 23\n",
      "Model: AR(2)\n",
      "MA lookback: 30\n",
      "Window size: 512\n",
      "Sampling frequency: 256 Hz\n",
      "Prediction frequency: 0.5 Hz\n"
     ]
    }
   ],
   "source": [
    "# ARMA parameters\n",
    "seed = 42\n",
    "fs = 256                 # sampling frequency (Hz)\n",
    "N = 512                  # fs = N*fp (N must be a natural number)\n",
    "fp = fs/N                # prediction frequency\n",
    "n_i = 2                  # AR model order\n",
    "t_s = 1/fs               # Input signal time period\n",
    "n_c = 23                 # Number of EEG electrodes (channels)\n",
    "m = 30                   # MA parameter\n",
    "print(f'Input channels: {n_c}')\n",
    "print(f'Model: AR({n_i})')\n",
    "print(f'MA lookback: {m}')\n",
    "print(f'Window size: {N}')\n",
    "print(f'Sampling frequency: {fs} Hz')\n",
    "print(f'Prediction frequency: {fp} Hz')\n",
    "ar = ARMA(window_width=N, order=n_i, memory=m, seed=seed)"
   ]
  },
  {
   "cell_type": "code",
   "execution_count": 5,
   "id": "2dfb2865",
   "metadata": {},
   "outputs": [
    {
     "name": "stderr",
     "output_type": "stream",
     "text": [
      "100%|██████████| 229887/229887 [00:03<00:00, 65933.16it/s]\n",
      "100%|██████████| 229887/229887 [00:03<00:00, 59987.08it/s]\n",
      "100%|██████████| 229887/229887 [00:07<00:00, 30084.65it/s]\n",
      "100%|██████████| 229887/229887 [00:05<00:00, 44704.77it/s]\n",
      "100%|██████████| 229887/229887 [00:04<00:00, 56280.72it/s]\n",
      "100%|██████████| 229887/229887 [00:04<00:00, 57023.59it/s]\n",
      "100%|██████████| 229887/229887 [00:03<00:00, 65365.17it/s]\n",
      "100%|██████████| 229887/229887 [00:04<00:00, 57420.13it/s]\n",
      "100%|██████████| 229887/229887 [00:03<00:00, 71936.51it/s]\n",
      "100%|██████████| 229887/229887 [00:03<00:00, 73911.30it/s]\n",
      "100%|██████████| 229887/229887 [00:03<00:00, 73399.10it/s]\n",
      "100%|██████████| 229887/229887 [00:03<00:00, 59948.61it/s]\n"
     ]
    }
   ],
   "source": [
    "# load preictal and interictal data\n",
    "preictal_feature_list = []\n",
    "interictal_feature_list = []\n",
    "for i in range(6):\n",
    "    # load preictal data\n",
    "    p_filepath = root + case + preictal_filenames[i]\n",
    "    p_data, _ = load_EEG(p_filepath, 'preictal')\n",
    "    # generate preictal features\n",
    "    _, _, preictal_features = ar.spin(sig=p_data, fs=256)\n",
    "    # load interictal data\n",
    "    ic_filepath = root + case + interictal_filenames[i]\n",
    "    ic_data, _ = load_EEG(ic_filepath, 'interictal')\n",
    "    # generate interictal features\n",
    "    _, _, interictal_features = ar.spin(sig=ic_data[:,:p_data.shape[1]], fs=256)\n",
    "    \n",
    "    # store data in list\n",
    "    preictal_feature_list.append(preictal_features)\n",
    "    interictal_feature_list.append(interictal_features)"
   ]
  },
  {
   "cell_type": "code",
   "execution_count": 32,
   "id": "6e4747fa",
   "metadata": {},
   "outputs": [
    {
     "name": "stdout",
     "output_type": "stream",
     "text": [
      "(92, 2) (92,)\n"
     ]
    }
   ],
   "source": [
    "preictal_1 = preictal_feature_list[0][448,:,:]\n",
    "interictal_1 = interictal_feature_list[0][448,:,:]\n",
    "preictal_1_targets = np.ones(preictal_feature_list[0][448,:,:].shape[0])\n",
    "interictal_1_targets = -1 * np.ones(interictal_feature_list[0][448,:,:].shape[0])\n",
    "joined_1 = np.concatenate((interictal_1, preictal_1), axis=0)\n",
    "joined_1_targets = np.concatenate((interictal_1_targets, preictal_1_targets))\n",
    "\n",
    "preictal_2 = preictal_feature_list[1][448,:,:]\n",
    "interictal_2 = interictal_feature_list[1][448,:,:]\n",
    "preictal_2_targets = np.ones(preictal_feature_list[1][448,:,:].shape[0])\n",
    "interictal_2_targets = -1 * np.ones(interictal_feature_list[1][448,:,:].shape[0])\n",
    "joined_2 = np.concatenate((interictal_2, preictal_2), axis=0)\n",
    "joined_2_targets = np.concatenate((interictal_2_targets, preictal_2_targets))\n",
    "\n",
    "double_joined = np.concatenate((joined_1, joined_2), axis=0)\n",
    "double_joined_targets = np.hstack((joined_1_targets, joined_2_targets))\n",
    "print(double_joined.shape, double_joined_targets.shape)"
   ]
  },
  {
   "cell_type": "markdown",
   "id": "fc657220",
   "metadata": {},
   "source": [
    "### Logistic Regression"
   ]
  },
  {
   "cell_type": "code",
   "execution_count": 33,
   "id": "7e7b821d",
   "metadata": {},
   "outputs": [
    {
     "name": "stdout",
     "output_type": "stream",
     "text": [
      "[[3 2]\n",
      " [0 5]]\n",
      "              precision    recall  f1-score   support\n",
      "\n",
      "        -1.0       1.00      0.60      0.75         5\n",
      "         1.0       0.71      1.00      0.83         5\n",
      "\n",
      "    accuracy                           0.80        10\n",
      "   macro avg       0.86      0.80      0.79        10\n",
      "weighted avg       0.86      0.80      0.79        10\n",
      "\n"
     ]
    },
    {
     "data": {
      "image/png": "[encoded data removed]",
      "text/plain": [
       "<Figure size 432x288 with 2 Axes>"
      ]
     },
     "metadata": {
      "needs_background": "light"
     },
     "output_type": "display_data"
    }
   ],
   "source": [
    "X_train, X_test, y_train, y_test = train_test_split(double_joined, double_joined_targets, test_size=0.10, random_state=42)\n",
    "clf = LogisticRegression(random_state=42).fit(X_train, y_train)\n",
    "y_pred = clf.predict(X_test)\n",
    "print(confusion_matrix(y_test, y_pred))\n",
    "print(classification_report(y_test, y_pred))\n",
    "confuse = confusion_matrix(y_test, y_pred)\n",
    "ax = sns.heatmap(confuse, annot=True, cmap='Blues')\n",
    "ax.set_xticklabels([\"Interictal\", \"Preictal\"])\n",
    "ax.set_yticklabels([\"Interictal\", \"Preictal\"])\n",
    "ax.set_xlabel('Predicted')\n",
    "ax.set_ylabel('Ground Truth')\n",
    "plt.show()"
   ]
  },
  {
   "cell_type": "code",
   "execution_count": 49,
   "id": "fe2a86ce",
   "metadata": {},
   "outputs": [
    {
     "name": "stdout",
     "output_type": "stream",
     "text": [
      "[[3 2]\n",
      " [0 5]]\n",
      "              precision    recall  f1-score   support\n",
      "\n",
      "        -1.0       1.00      0.60      0.75         5\n",
      "         1.0       0.71      1.00      0.83         5\n",
      "\n",
      "    accuracy                           0.80        10\n",
      "   macro avg       0.86      0.80      0.79        10\n",
      "weighted avg       0.86      0.80      0.79        10\n",
      "\n"
     ]
    },
    {
     "data": {
      "image/png": "[encoded data removed]",
      "text/plain": [
       "<Figure size 432x288 with 2 Axes>"
      ]
     },
     "metadata": {
      "needs_background": "light"
     },
     "output_type": "display_data"
    }
   ],
   "source": [
    "svc = SVC(kernel='linear')\n",
    "svc.fit(X_train, y_train)\n",
    "y_pred = svc.predict(X_test)\n",
    "print(confusion_matrix(y_test, y_pred))\n",
    "print(classification_report(y_test, y_pred))\n",
    "confuse = confusion_matrix(y_test, y_pred)\n",
    "palette = sns.color_palette(\"crest\", as_cmap=True)\n",
    "ax = sns.heatmap(confuse, cmap=palette)\n",
    "ax.set_xticklabels([\"Interictal\", \"Preictal\"])\n",
    "ax.set_yticklabels([\"Interictal\", \"Preictal\"])\n",
    "ax.set_xlabel('Predicted')\n",
    "ax.set_ylabel('Ground Truth')\n",
    "plt.tight_layout()\n",
    "plt.savefig('../figures/feature_extraction/chb001/AR_SVM_heatmap.pdf')\n",
    "plt.show()"
   ]
  },
  {
   "cell_type": "code",
   "execution_count": 35,
   "id": "6cc7b7ed",
   "metadata": {},
   "outputs": [
    {
     "name": "stdout",
     "output_type": "stream",
     "text": [
      "[[5 0]\n",
      " [0 5]]\n",
      "              precision    recall  f1-score   support\n",
      "\n",
      "        -1.0       1.00      1.00      1.00         5\n",
      "         1.0       1.00      1.00      1.00         5\n",
      "\n",
      "    accuracy                           1.00        10\n",
      "   macro avg       1.00      1.00      1.00        10\n",
      "weighted avg       1.00      1.00      1.00        10\n",
      "\n"
     ]
    },
    {
     "data": {
      "image/png": "[encoded data removed]",
      "text/plain": [
       "<Figure size 432x288 with 2 Axes>"
      ]
     },
     "metadata": {
      "needs_background": "light"
     },
     "output_type": "display_data"
    }
   ],
   "source": [
    "svc = SVC(kernel='rbf')\n",
    "svc.fit(X_train, y_train)\n",
    "y_pred = svc.predict(X_test)\n",
    "print(confusion_matrix(y_test, y_pred))\n",
    "print(classification_report(y_test, y_pred))\n",
    "confuse = confusion_matrix(y_test, y_pred)\n",
    "ax = sns.heatmap(confuse, annot=True, cmap='Blues')\n",
    "ax.set_xticklabels([\"Interictal\", \"Preictal\"])\n",
    "ax.set_yticklabels([\"Interictal\", \"Preictal\"])\n",
    "ax.set_xlabel('Predicted')\n",
    "ax.set_ylabel('Ground Truth')\n",
    "plt.show()"
   ]
  },
  {
   "cell_type": "code",
   "execution_count": null,
   "id": "b76cc2ab",
   "metadata": {},
   "outputs": [],
   "source": []
  }
 ],
 "metadata": {
  "kernelspec": {
   "display_name": "Python 3",
   "language": "python",
   "name": "python3"
  },
  "language_info": {
   "codemirror_mode": {
    "name": "ipython",
    "version": 3
   },
   "file_extension": ".py",
   "mimetype": "text/x-python",
   "name": "python",
   "nbconvert_exporter": "python",
   "pygments_lexer": "ipython3",
   "version": "3.8.5"
  }
 },
 "nbformat": 4,
 "nbformat_minor": 5
}
