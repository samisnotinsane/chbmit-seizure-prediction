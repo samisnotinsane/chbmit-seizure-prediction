{
 "cells": [
  {
   "cell_type": "markdown",
   "id": "668babc5",
   "metadata": {},
   "source": [
    "# Feature Extraction"
   ]
  },
  {
   "cell_type": "markdown",
   "id": "3f5b9802",
   "metadata": {},
   "source": [
    "Incoming EEG signal is modelled by ARs and the AR coefficients will form our feature vector."
   ]
  },
  {
   "cell_type": "code",
   "execution_count": 1,
   "id": "3c63f388",
   "metadata": {},
   "outputs": [],
   "source": [
    "import os\n",
    "import mne\n",
    "import numpy as np\n",
    "import matplotlib.pyplot as plt\n",
    "import matplotlib.animation as animation"
   ]
  },
  {
   "cell_type": "code",
   "execution_count": 2,
   "id": "68ab154b",
   "metadata": {},
   "outputs": [],
   "source": [
    "%matplotlib osx"
   ]
  },
  {
   "cell_type": "code",
   "execution_count": 3,
   "id": "e688421f",
   "metadata": {},
   "outputs": [],
   "source": [
    "# %matplotlib widget"
   ]
  },
  {
   "cell_type": "code",
   "execution_count": 4,
   "id": "24c3225d",
   "metadata": {},
   "outputs": [],
   "source": [
    "root = '/Volumes/My Passport/AI_Research/data/physionet.org/files/chbmit/1.0.0/chb01/'"
   ]
  },
  {
   "cell_type": "code",
   "execution_count": 5,
   "id": "6a67aadb",
   "metadata": {},
   "outputs": [],
   "source": [
    "# Summary\n",
    "# File Name: chb01_03.edf\n",
    "# File Start Time: 13:43:04\n",
    "# File End Time: 14:43:04\n",
    "# Number of Seizures in File: 1\n",
    "# Seizure Start Time: 2996 seconds\n",
    "# Seizure End Time: 3036 seconds\n",
    "raw = mne.io.read_raw_edf(input_fname=os.path.join(root, os.listdir(root)[3]), preload=False, verbose='Error')\n",
    "ch_names = raw.info['ch_names'] # array of channel names"
   ]
  },
  {
   "cell_type": "markdown",
   "id": "ef99b3d6",
   "metadata": {},
   "source": [
    "To observe the response of the AR coefficients, we select subsets from this 1 hour recording which contains 1 seizure. We will sample the following subsets:\n",
    "\n",
    "- Full seizure period\n",
    "- Normal period\n",
    "- Transition from normal to seizure\n",
    "- Transition from seizure to normal"
   ]
  },
  {
   "cell_type": "code",
   "execution_count": 6,
   "id": "8781e554",
   "metadata": {},
   "outputs": [
    {
     "name": "stdout",
     "output_type": "stream",
     "text": [
      "Start: 2996s, End: 3036s\n",
      "Duration: 40.0s\n"
     ]
    }
   ],
   "source": [
    "# sample the seizure (ictal) clip\n",
    "seizure_start_time = 2996 # in seconds\n",
    "seizure_end_time = 3036\n",
    "seizure_duration = seizure_end_time - seizure_start_time\n",
    "EEG_ictal, times_ictal = raw.copy() \\\n",
    "                        .crop(tmin=seizure_start_time, tmax=seizure_end_time) \\\n",
    "                        .get_data(picks=['eeg'], units='uV', return_times=True) # EEG units in micro-volts (uV)\n",
    "print(f'Start: {seizure_start_time}s, End: {seizure_end_time}s')\n",
    "print(f'Duration: {np.max(times_ictal) - np.min(times_ictal)}s')"
   ]
  },
  {
   "cell_type": "code",
   "execution_count": 132,
   "id": "bb893fe8",
   "metadata": {},
   "outputs": [
    {
     "name": "stdout",
     "output_type": "stream",
     "text": [
      "Start: 720s, End: 760s\n",
      "Duration: 40.0s\n",
      "Dimensions: (23, 10241)\n"
     ]
    }
   ],
   "source": [
    "# sample a normal (interictal) clip of length similar to seizure\n",
    "interictal_start_time = 720 # in seconds\n",
    "interictal_end_time = interictal_start_time + 40\n",
    "EEG_interictal, times_interictal = raw.copy() \\\n",
    "                            .crop(tmin=interictal_start_time, tmax=interictal_end_time) \\\n",
    "                            .get_data(picks=['eeg'], units='uV', return_times=True)\n",
    "print(f'Start: {interictal_start_time}s, End: {interictal_end_time}s')\n",
    "print(f'Duration: {np.max(times_interictal) - np.min(times_interictal)}s')\n",
    "print(f'Dimensions: {EEG_interictal.shape}')"
   ]
  },
  {
   "cell_type": "code",
   "execution_count": 8,
   "id": "4f481374",
   "metadata": {},
   "outputs": [
    {
     "name": "stdout",
     "output_type": "stream",
     "text": [
      "Start: 2976s, End: 3016s\n",
      "Duration: 40.0s\n"
     ]
    }
   ],
   "source": [
    "# sample the start boundary of seizure (20s before seizure start and 20s after seizure start)\n",
    "EEG_ictal_start, times_ictal_start = raw.copy() \\\n",
    "                            .crop(tmin=seizure_start_time-20, tmax=seizure_start_time+20) \\\n",
    "                            .get_data(picks=['eeg'], units='uV', return_times=True)\n",
    "print(f'Start: {seizure_start_time-20}s, End: {seizure_start_time+20}s')\n",
    "print(f'Duration: {np.max(times_ictal_start) - np.min(times_ictal_start)}s')"
   ]
  },
  {
   "cell_type": "code",
   "execution_count": 9,
   "id": "e669c350",
   "metadata": {},
   "outputs": [
    {
     "name": "stdout",
     "output_type": "stream",
     "text": [
      "Start: 3016s, End: 3056s\n",
      "Duration: 40.0s\n"
     ]
    }
   ],
   "source": [
    "# sample the end boundary of seizure (20s before seizure end and 20s after seizure end)\n",
    "EEG_ictal_end, times_ictal_end = raw.copy() \\\n",
    "                                    .crop(tmin=seizure_end_time-20, tmax=seizure_end_time+20) \\\n",
    "                                    .get_data(picks=['eeg'], units='uV', return_times=True)\n",
    "print(f'Start: {seizure_end_time-20}s, End: {seizure_end_time+20}s')\n",
    "print(f'Duration: {np.max(times_ictal_end) - np.min(times_ictal_end)}s')"
   ]
  },
  {
   "cell_type": "code",
   "execution_count": 28,
   "id": "6230bb72",
   "metadata": {
    "jupyter": {
     "source_hidden": true
    }
   },
   "outputs": [],
   "source": [
    "# plot signal streaming as if 'real time'\n",
    "ch_idx = 0 # select channel by index\n",
    "fig = plt.figure()\n",
    "ax = plt.axes(xlim=(np.min(times), np.max(times)), \n",
    "              ylim=(np.min(EEG_ictal_start[ch_idx,:])*1.5, np.max(EEG_ictal_start[ch_idx,:])*1.5))\n",
    "\n",
    "xs = []\n",
    "ys = []\n",
    "line, = ax.plot([], [], 'tab:purple', lw=2)\n",
    "ax.axvline(x=10, color='gray', ls='--') # mark seizure onset\n",
    "\n",
    "def animate(i, xs, ys):\n",
    "    Ik = (i-1)*512+1\n",
    "    timebuf = times[i:i+5]\n",
    "    sigbuf = EEG_ictal_start[0,i:i+5]\n",
    "    \n",
    "    \n",
    "    xs.append(timebuf)\n",
    "    ys.append(sigbuf)\n",
    "    line.set_data(xs, ys)\n",
    "    return line,\n",
    "\n",
    "anim = animation.FuncAnimation(fig, animate, fargs=(xs, ys),\n",
    "                               interval=5, blit=True)\n",
    "plt.xlabel('Time, s')\n",
    "plt.ylabel(r'Potential Difference, $\\mu V$')\n",
    "plt.title(f'Electrode: {ch_names[ch_idx]}')\n",
    "plt.show()"
   ]
  },
  {
   "cell_type": "code",
   "execution_count": 152,
   "id": "de968a09",
   "metadata": {},
   "outputs": [
    {
     "name": "stdout",
     "output_type": "stream",
     "text": [
      "N: 2048\n"
     ]
    }
   ],
   "source": [
    "fs = raw.info['sfreq']   # sampling frequency\n",
    "N = 512*4                 # fs = N*fp (N must be a natural number)\n",
    "fp = fs/N                # prediction frequency\n",
    "n_i = 6                  # AR order\n",
    "t_s = 1/fs\n",
    "print('N:', N)"
   ]
  },
  {
   "cell_type": "markdown",
   "id": "1e8ceb2c",
   "metadata": {},
   "source": [
    "Run a sliding window on the interictal clip to observe AR coefficient response. "
   ]
  },
  {
   "cell_type": "code",
   "execution_count": 153,
   "id": "ff9ac2a4",
   "metadata": {},
   "outputs": [
    {
     "data": {
      "text/plain": [
       "(10241,)"
      ]
     },
     "execution_count": 153,
     "metadata": {},
     "output_type": "execute_result"
    }
   ],
   "source": [
    "X.shape"
   ]
  },
  {
   "cell_type": "code",
   "execution_count": 154,
   "id": "ed1e954c",
   "metadata": {},
   "outputs": [],
   "source": [
    "from scipy.linalg import lstsq"
   ]
  },
  {
   "cell_type": "code",
   "execution_count": 162,
   "id": "c42213f3",
   "metadata": {},
   "outputs": [
    {
     "name": "stdout",
     "output_type": "stream",
     "text": [
      "Window width: 8.0 s\n",
      "Total windows: 3\n",
      "---\n",
      "wStart: 1, wEnd: 2049\n",
      "phi:\n",
      " [[-36.53235653]\n",
      " [-27.15506716]\n",
      " [-20.51282051]\n",
      " [-22.85714286]\n",
      " [-23.24786325]\n",
      " [-26.37362637]] (6, 1)\n",
      "a:\n",
      " [[ 0.49671415]\n",
      " [-0.1382643 ]\n",
      " [ 0.64768854]\n",
      " [ 1.52302986]\n",
      " [-0.23415337]\n",
      " [-0.23413696]] (6, 1)\n",
      "e: [[1.57921282]] (1, 1)\n",
      "x_t: [[-49.29177281]] (1, 1)\n"
     ]
    },
    {
     "ename": "ValueError",
     "evalue": "Shape mismatch: a and b should have the same number of rows (6 != 1).",
     "output_type": "error",
     "traceback": [
      "\u001b[0;31m---------------------------------------------------------------------------\u001b[0m",
      "\u001b[0;31mValueError\u001b[0m                                Traceback (most recent call last)",
      "\u001b[0;32m<ipython-input-162-45d9fc3ae886>\u001b[0m in \u001b[0;36m<module>\u001b[0;34m\u001b[0m\n\u001b[1;32m     20\u001b[0m     \u001b[0mx_t\u001b[0m \u001b[0;34m=\u001b[0m \u001b[0mphi\u001b[0m\u001b[0;34m.\u001b[0m\u001b[0mT\u001b[0m \u001b[0;34m@\u001b[0m \u001b[0ma\u001b[0m \u001b[0;34m+\u001b[0m \u001b[0me_t\u001b[0m\u001b[0;34m\u001b[0m\u001b[0;34m\u001b[0m\u001b[0m\n\u001b[1;32m     21\u001b[0m     \u001b[0mprint\u001b[0m\u001b[0;34m(\u001b[0m\u001b[0;34m'x_t:'\u001b[0m\u001b[0;34m,\u001b[0m \u001b[0mx_t\u001b[0m\u001b[0;34m,\u001b[0m \u001b[0mx_t\u001b[0m\u001b[0;34m.\u001b[0m\u001b[0mshape\u001b[0m\u001b[0;34m)\u001b[0m\u001b[0;34m\u001b[0m\u001b[0;34m\u001b[0m\u001b[0m\n\u001b[0;32m---> 22\u001b[0;31m     \u001b[0mp\u001b[0m\u001b[0;34m,\u001b[0m \u001b[0mres\u001b[0m\u001b[0;34m,\u001b[0m \u001b[0mrnk\u001b[0m\u001b[0;34m,\u001b[0m \u001b[0ms\u001b[0m \u001b[0;34m=\u001b[0m \u001b[0mlstsq\u001b[0m\u001b[0;34m(\u001b[0m\u001b[0mphi\u001b[0m\u001b[0;34m,\u001b[0m \u001b[0mx_t\u001b[0m\u001b[0;34m)\u001b[0m \u001b[0;31m# least squares\u001b[0m\u001b[0;34m\u001b[0m\u001b[0;34m\u001b[0m\u001b[0m\n\u001b[0m\u001b[1;32m     23\u001b[0m     \u001b[0mprint\u001b[0m\u001b[0;34m(\u001b[0m\u001b[0;34m'a_hat:\\n'\u001b[0m\u001b[0;34m,\u001b[0m \u001b[0ms\u001b[0m\u001b[0;34m,\u001b[0m \u001b[0ms\u001b[0m\u001b[0;34m.\u001b[0m\u001b[0mshape\u001b[0m\u001b[0;34m)\u001b[0m\u001b[0;34m\u001b[0m\u001b[0;34m\u001b[0m\u001b[0m\n\u001b[1;32m     24\u001b[0m \u001b[0;31m#     a_hat = np.linalg.inv(phi@phi.T) @ m\u001b[0m\u001b[0;34m\u001b[0m\u001b[0;34m\u001b[0m\u001b[0;34m\u001b[0m\u001b[0m\n",
      "\u001b[0;32m~/anaconda3/envs/ml/lib/python3.8/site-packages/scipy/linalg/basic.py\u001b[0m in \u001b[0;36mlstsq\u001b[0;34m(a, b, cond, overwrite_a, overwrite_b, check_finite, lapack_driver)\u001b[0m\n\u001b[1;32m   1149\u001b[0m         \u001b[0mnrhs\u001b[0m \u001b[0;34m=\u001b[0m \u001b[0;36m1\u001b[0m\u001b[0;34m\u001b[0m\u001b[0;34m\u001b[0m\u001b[0m\n\u001b[1;32m   1150\u001b[0m     \u001b[0;32mif\u001b[0m \u001b[0mm\u001b[0m \u001b[0;34m!=\u001b[0m \u001b[0mb1\u001b[0m\u001b[0;34m.\u001b[0m\u001b[0mshape\u001b[0m\u001b[0;34m[\u001b[0m\u001b[0;36m0\u001b[0m\u001b[0;34m]\u001b[0m\u001b[0;34m:\u001b[0m\u001b[0;34m\u001b[0m\u001b[0;34m\u001b[0m\u001b[0m\n\u001b[0;32m-> 1151\u001b[0;31m         raise ValueError('Shape mismatch: a and b should have the same number'\n\u001b[0m\u001b[1;32m   1152\u001b[0m                          ' of rows ({} != {}).'.format(m, b1.shape[0]))\n\u001b[1;32m   1153\u001b[0m     \u001b[0;32mif\u001b[0m \u001b[0mm\u001b[0m \u001b[0;34m==\u001b[0m \u001b[0;36m0\u001b[0m \u001b[0;32mor\u001b[0m \u001b[0mn\u001b[0m \u001b[0;34m==\u001b[0m \u001b[0;36m0\u001b[0m\u001b[0;34m:\u001b[0m  \u001b[0;31m# Zero-sized problem, confuses LAPACK\u001b[0m\u001b[0;34m\u001b[0m\u001b[0;34m\u001b[0m\u001b[0m\n",
      "\u001b[0;31mValueError\u001b[0m: Shape mismatch: a and b should have the same number of rows (6 != 1)."
     ]
    }
   ],
   "source": [
    "np.random.seed(42)\n",
    "\n",
    "k=1\n",
    "Ik_0 = (k-1)*N+1 # compute window start index\n",
    "K = np.rint(len(EEG_interictal[0,:])).astype(int) # total number of time steps\n",
    "window_slides_count = (K/N).astype(int)\n",
    "print('Window width:', N*t_s, 's')\n",
    "print(f'Total windows: {window_slides_count-2}')\n",
    "print('---')\n",
    "X = EEG_interictal[0,:]\n",
    "a = np.random.randn(n_i).reshape(-1, 1) # AR parameters\n",
    "for k in range(2, window_slides_count):\n",
    "    Ik = np.rint((k-1)*N+1).astype(int) # compute window end index\n",
    "    print(f'wStart: {Ik_0}, wEnd: {Ik}')\n",
    "    phi = X[Ik-n_i:Ik].reshape(-1, 1)  # regressors from time t going back to t-n_i\n",
    "    print('phi:\\n', phi, phi.shape)\n",
    "    print('a:\\n', a, a.shape)\n",
    "    e_t = np.random.randn(1,1) # error signal\n",
    "    print('e:', e_t, e_t.shape)\n",
    "    x_t = phi.T @ a + e_t\n",
    "    print('x_t:', x_t, x_t.shape)\n",
    "    p, res, rnk, s = lstsq(phi, x_t) # least squares\n",
    "    print('a_hat:\\n', s, s.shape)\n",
    "#     a_hat = np.linalg.inv(phi@phi.T) @ m\n",
    "#     print('a_hat:\\n', a_hat, a_hat.shape)\n",
    "    \n",
    "    Ik_0 = Ik # old window end index becomes new window start index\n",
    "    print('Window:', k-1)\n",
    "    print('--')"
   ]
  },
  {
   "cell_type": "code",
   "execution_count": null,
   "id": "040bc097",
   "metadata": {},
   "outputs": [],
   "source": []
  },
  {
   "cell_type": "code",
   "execution_count": null,
   "id": "d39e6812",
   "metadata": {},
   "outputs": [],
   "source": []
  },
  {
   "cell_type": "code",
   "execution_count": null,
   "id": "924be124",
   "metadata": {},
   "outputs": [],
   "source": []
  },
  {
   "cell_type": "code",
   "execution_count": 15,
   "id": "d0d3a11a",
   "metadata": {},
   "outputs": [
    {
     "name": "stdout",
     "output_type": "stream",
     "text": [
      "Window length: 2.0s\n",
      "1\n",
      "i:2, Ik:513, dif:512\n",
      "i:3, Ik:1025, dif:512\n",
      "i:4, Ik:1537, dif:512\n",
      "i:5, Ik:2049, dif:512\n"
     ]
    }
   ],
   "source": [
    "Ik_init = (1-1)*N+1\n",
    "print(f'Window length: {N/fs}s')\n",
    "print(Ik_init)\n",
    "for i in range(2, 6):\n",
    "    Ik = (i-1)*N+1\n",
    "    print(f'i:{i}, Ik:{Ik}, dif:{Ik - Ik_init}')\n",
    "    Ik_init = Ik"
   ]
  },
  {
   "cell_type": "code",
   "execution_count": 13,
   "id": "144db6d9",
   "metadata": {},
   "outputs": [
    {
     "name": "stdout",
     "output_type": "stream",
     "text": [
      "Window length: 2.0s\n"
     ]
    },
    {
     "ename": "NameError",
     "evalue": "name 'EEG' is not defined",
     "output_type": "error",
     "traceback": [
      "\u001b[0;31m---------------------------------------------------------------------------\u001b[0m",
      "\u001b[0;31mNameError\u001b[0m                                 Traceback (most recent call last)",
      "\u001b[0;32m<ipython-input-13-012ef3e6c016>\u001b[0m in \u001b[0;36m<module>\u001b[0;34m\u001b[0m\n\u001b[1;32m      1\u001b[0m \u001b[0mprint\u001b[0m\u001b[0;34m(\u001b[0m\u001b[0;34mf'Window length: {N/fs}s'\u001b[0m\u001b[0;34m)\u001b[0m\u001b[0;34m\u001b[0m\u001b[0;34m\u001b[0m\u001b[0m\n\u001b[0;32m----> 2\u001b[0;31m \u001b[0mX\u001b[0m \u001b[0;34m=\u001b[0m \u001b[0mEEG\u001b[0m\u001b[0;34m[\u001b[0m\u001b[0;36m0\u001b[0m\u001b[0;34m,\u001b[0m\u001b[0;34m:\u001b[0m\u001b[0;34m]\u001b[0m\u001b[0;34m\u001b[0m\u001b[0;34m\u001b[0m\u001b[0m\n\u001b[0m\u001b[1;32m      3\u001b[0m \u001b[0mIk_buf\u001b[0m \u001b[0;34m=\u001b[0m \u001b[0;34m(\u001b[0m\u001b[0;36m1\u001b[0m\u001b[0;34m-\u001b[0m\u001b[0;36m1\u001b[0m\u001b[0;34m)\u001b[0m\u001b[0;34m*\u001b[0m\u001b[0mN\u001b[0m\u001b[0;34m+\u001b[0m\u001b[0;36m1\u001b[0m\u001b[0;34m\u001b[0m\u001b[0;34m\u001b[0m\u001b[0m\n\u001b[1;32m      4\u001b[0m \u001b[0mARs\u001b[0m \u001b[0;34m=\u001b[0m \u001b[0;34m[\u001b[0m\u001b[0;34m]\u001b[0m\u001b[0;34m\u001b[0m\u001b[0;34m\u001b[0m\u001b[0m\n\u001b[1;32m      5\u001b[0m \u001b[0;32mfor\u001b[0m \u001b[0mk\u001b[0m \u001b[0;32min\u001b[0m \u001b[0mrange\u001b[0m\u001b[0;34m(\u001b[0m\u001b[0;36m2\u001b[0m\u001b[0;34m,\u001b[0m \u001b[0mnp\u001b[0m\u001b[0;34m.\u001b[0m\u001b[0mrint\u001b[0m\u001b[0;34m(\u001b[0m\u001b[0mlen\u001b[0m\u001b[0;34m(\u001b[0m\u001b[0mX\u001b[0m\u001b[0;34m)\u001b[0m\u001b[0;34m/\u001b[0m\u001b[0mN\u001b[0m\u001b[0;34m)\u001b[0m\u001b[0;34m.\u001b[0m\u001b[0mastype\u001b[0m\u001b[0;34m(\u001b[0m\u001b[0mint\u001b[0m\u001b[0;34m)\u001b[0m\u001b[0;34m)\u001b[0m\u001b[0;34m:\u001b[0m\u001b[0;34m\u001b[0m\u001b[0;34m\u001b[0m\u001b[0m\n",
      "\u001b[0;31mNameError\u001b[0m: name 'EEG' is not defined"
     ]
    }
   ],
   "source": [
    "print(f'Window length: {N/fs}s')\n",
    "X = EEG[0,:]\n",
    "Ik_buf = (1-1)*N+1\n",
    "ARs = []\n",
    "for k in range(2, np.rint(len(X)/N).astype(int)):\n",
    "    Ik = (k-1)*N+1\n",
    "    print('Ik:', Ik)\n",
    "    sigbuf = X[Ik_buf:Ik]\n",
    "    print('sigbuf.shape:', sigbuf.shape)\n",
    "    print(f'Window {k-1} size:', sigbuf.shape)\n",
    "    AR_order = 6 # AR(6) model\n",
    "    A = np.random.randn(AR_order) # a_j: init AR coeffs from Norm. Dist.\n",
    "    AR_sigbuf = sigbuf[len(sigbuf)-6:len(sigbuf)] # x_t-j\n",
    "    print('AR_sigbuf.shape:', AR_sigbuf.shape)\n",
    "    E = np.random.randn(AR_order) # e_t\n",
    "    print('E.shape:', E.shape)\n",
    "    AR = A @ AR_sigbuf + E\n",
    "    print('Raw Buffer:', AR_sigbuf)\n",
    "    print('AR:', AR)\n",
    "    ARs.append(AR)\n",
    "    Ik_buf = Ik\n",
    "    print('---')"
   ]
  },
  {
   "cell_type": "code",
   "execution_count": 12,
   "id": "0814523f",
   "metadata": {},
   "outputs": [],
   "source": [
    "# TODO: use the data in each window to compute minimising parameters of least-squares regression."
   ]
  },
  {
   "cell_type": "code",
   "execution_count": null,
   "id": "64dcf227",
   "metadata": {},
   "outputs": [],
   "source": []
  }
 ],
 "metadata": {
  "kernelspec": {
   "display_name": "Python 3",
   "language": "python",
   "name": "python3"
  },
  "language_info": {
   "codemirror_mode": {
    "name": "ipython",
    "version": 3
   },
   "file_extension": ".py",
   "mimetype": "text/x-python",
   "name": "python",
   "nbconvert_exporter": "python",
   "pygments_lexer": "ipython3",
   "version": "3.8.5"
  }
 },
 "nbformat": 4,
 "nbformat_minor": 5
}
