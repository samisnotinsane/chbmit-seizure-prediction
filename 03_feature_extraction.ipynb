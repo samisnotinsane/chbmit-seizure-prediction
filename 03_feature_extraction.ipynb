{
 "cells": [
  {
   "cell_type": "code",
   "execution_count": 1,
   "id": "718e497b",
   "metadata": {},
   "outputs": [],
   "source": [
    "import os\n",
    "from itertools import count\n",
    "import mne\n",
    "import numpy as np\n",
    "import matplotlib.pyplot as plt\n",
    "import matplotlib.animation as animation"
   ]
  },
  {
   "cell_type": "code",
   "execution_count": 2,
   "id": "33e9940a",
   "metadata": {},
   "outputs": [],
   "source": [
    "%matplotlib osx"
   ]
  },
  {
   "cell_type": "code",
   "execution_count": 3,
   "id": "fe315c88",
   "metadata": {},
   "outputs": [],
   "source": [
    "# %matplotlib widget"
   ]
  },
  {
   "cell_type": "code",
   "execution_count": 4,
   "id": "e6f520ae",
   "metadata": {},
   "outputs": [],
   "source": [
    "root = '/Volumes/My Passport/AI_Research/data/physionet.org/files/chbmit/1.0.0/chb01/'"
   ]
  },
  {
   "cell_type": "code",
   "execution_count": 5,
   "id": "0b71e2e4",
   "metadata": {},
   "outputs": [],
   "source": [
    "# Summary\n",
    "# File Name: chb01_03.edf\n",
    "# File Start Time: 13:43:04\n",
    "# File End Time: 14:43:04\n",
    "# Number of Seizures in File: 1\n",
    "# Seizure Start Time: 2996 seconds\n",
    "# Seizure End Time: 3036 seconds\n",
    "raw = mne.io.read_raw_edf(input_fname=os.path.join(root, os.listdir(root)[3]), preload=False, verbose='Error')"
   ]
  },
  {
   "cell_type": "code",
   "execution_count": 7,
   "id": "32ae9b6a",
   "metadata": {},
   "outputs": [
    {
     "name": "stdout",
     "output_type": "stream",
     "text": [
      "Seizure duration: 40s\n"
     ]
    }
   ],
   "source": [
    "seizure_start_time = 2996 # in seconds\n",
    "seizure_end_time = 3036\n",
    "seizure_duration = seizure_end_time - seizure_start_time\n",
    "print(f'Seizure duration: {seizure_duration}s')"
   ]
  },
  {
   "cell_type": "code",
   "execution_count": null,
   "id": "8da3ee4c",
   "metadata": {},
   "outputs": [],
   "source": [
    "interictal_start = 720 # interictal sample start (in seconds)\n",
    "interictal_end"
   ]
  },
  {
   "cell_type": "code",
   "execution_count": 6,
   "id": "6c59a8af",
   "metadata": {},
   "outputs": [],
   "source": [
    "\n",
    "ch_names = raw.info['ch_names'] # array of channel names\n",
    "EEG, times = raw.copy().crop(tmin=2996-10, tmax=2996+20).get_data(picks=['eeg'], return_times=True, units='uV')"
   ]
  },
  {
   "cell_type": "code",
   "execution_count": 7,
   "id": "bce7568c",
   "metadata": {},
   "outputs": [],
   "source": [
    "# plot signal streaming as if 'real time'\n",
    "ch_idx = 0 # select channel by index\n",
    "fig = plt.figure()\n",
    "ax = plt.axes(xlim=(np.min(times), np.max(times)), \n",
    "              ylim=(np.min(EEG[ch_idx,:])*1.5, np.max(EEG[ch_idx,:])*1.5))\n",
    "\n",
    "xs = []\n",
    "ys = []\n",
    "line, = ax.plot([], [], 'k', lw=2)\n",
    "ax.axvline(x=10, color='gray', ls='--') # mark seizure onset\n",
    "\n",
    "def animate(i, xs, ys):\n",
    "    Ik = (i-1)*N+1\n",
    "    timebuf = times[i:i+5]\n",
    "    sigbuf = EEG[0,i:i+5]\n",
    "    \n",
    "    \n",
    "    xs.append(timebuf)\n",
    "    ys.append(sigbuf)\n",
    "    line.set_data(xs, ys)\n",
    "    return line,\n",
    "\n",
    "anim = animation.FuncAnimation(fig, animate, fargs=(xs, ys),\n",
    "                               interval=5, blit=True)\n",
    "plt.xlabel('Time, s')\n",
    "plt.ylabel(r'Potential Difference, $\\mu V$')\n",
    "plt.title(f'Electrode: {ch_names[ch_idx]}')\n",
    "plt.show()"
   ]
  },
  {
   "cell_type": "code",
   "execution_count": 8,
   "id": "73b9fdf5",
   "metadata": {},
   "outputs": [
    {
     "data": {
      "text/plain": [
       "256.0"
      ]
     },
     "execution_count": 8,
     "metadata": {},
     "output_type": "execute_result"
    }
   ],
   "source": [
    "fs = raw.info['sfreq']  # sampling frequency\n",
    "fp = 0.5                # prediction frequency\n",
    "N = 512                 # fs = N*fp (N must be a natural number)\n",
    "fs"
   ]
  },
  {
   "cell_type": "code",
   "execution_count": 9,
   "id": "603ff00f",
   "metadata": {},
   "outputs": [
    {
     "name": "stdout",
     "output_type": "stream",
     "text": [
      "1\n",
      "i:2, Ik:513, dif:512\n",
      "i:3, Ik:1025, dif:512\n",
      "i:4, Ik:1537, dif:512\n",
      "i:5, Ik:2049, dif:512\n"
     ]
    }
   ],
   "source": [
    "Ik_init = (1-1)*N+1\n",
    "print(Ik_init)\n",
    "for i in range(2, 6):\n",
    "    Ik = (i-1)*N+1\n",
    "    print(f'i:{i}, Ik:{Ik}, dif:{Ik - Ik_init}')\n",
    "    Ik_init = Ik"
   ]
  },
  {
   "cell_type": "code",
   "execution_count": 10,
   "id": "834f61ad",
   "metadata": {},
   "outputs": [
    {
     "data": {
      "text/plain": [
       "15"
      ]
     },
     "execution_count": 10,
     "metadata": {},
     "output_type": "execute_result"
    }
   ],
   "source": [
    "X = EEG[0,:]\n",
    "np.rint(len(X)/N).astype(int)"
   ]
  },
  {
   "cell_type": "code",
   "execution_count": 52,
   "id": "86df9440",
   "metadata": {},
   "outputs": [
    {
     "name": "stdout",
     "output_type": "stream",
     "text": [
      "Window length: 2.0s\n",
      "Ik: 513\n",
      "sigbuf.shape: (512,)\n",
      "Window 1 size: (512,)\n",
      "AR_sigbuf.shape: (6,)\n",
      "E.shape: (6,)\n",
      "Raw Buffer: [41.61172161 42.002442   47.08180708 51.77045177 50.5982906  47.86324786]\n",
      "AR: [160.652173   158.70448398 160.58130419 159.70126726 160.06063391\n",
      " 160.79234221]\n",
      "---\n",
      "Ik: 1025\n",
      "sigbuf.shape: (512,)\n",
      "Window 2 size: (512,)\n",
      "AR_sigbuf.shape: (6,)\n",
      "E.shape: (6,)\n",
      "Raw Buffer: [-16.60561661  -8.4004884    1.36752137  11.91697192  20.51282051\n",
      "  16.21489621]\n",
      "AR: [-0.4151501  -1.78112148 -2.33530856 -1.73877804 -3.12222408  0.04640154]\n",
      "---\n",
      "Ik: 1537\n",
      "sigbuf.shape: (512,)\n",
      "Window 3 size: (512,)\n",
      "AR_sigbuf.shape: (6,)\n",
      "E.shape: (6,)\n",
      "Raw Buffer: [  3.71184371   6.05616606   6.44688645   0.97680098  -9.18192918\n",
      " -21.29426129]\n",
      "AR: [24.50477309 25.37712219 24.84707474 24.87427364 25.45490929 23.61649177]\n",
      "---\n",
      "Ik: 2049\n",
      "sigbuf.shape: (512,)\n",
      "Window 4 size: (512,)\n",
      "AR_sigbuf.shape: (6,)\n",
      "E.shape: (6,)\n",
      "Raw Buffer: [2.93040293 0.1953602  4.88400488 8.00976801 8.79120879 9.96336996]\n",
      "AR: [22.51131124 23.72396933 23.07445231 22.7490463  24.2477619  23.67305585]\n",
      "---\n",
      "Ik: 2561\n",
      "sigbuf.shape: (512,)\n",
      "Window 5 size: (512,)\n",
      "AR_sigbuf.shape: (6,)\n",
      "E.shape: (6,)\n",
      "Raw Buffer: [73.26007326 72.08791209 74.43223443 70.13431013 61.14774115 57.24053724]\n",
      "AR: [135.59956693 136.97199457 137.12549516 137.02606115 136.95528858\n",
      " 135.17980537]\n",
      "---\n",
      "Ik: 3073\n",
      "sigbuf.shape: (512,)\n",
      "Window 6 size: (512,)\n",
      "AR_sigbuf.shape: (6,)\n",
      "E.shape: (6,)\n",
      "Raw Buffer: [101.78266178 106.08058608 114.67643468 113.5042735  106.86202686\n",
      " 109.5970696 ]\n",
      "AR: [296.70329168 296.52322524 298.31266885 298.24767768 295.07766113\n",
      " 296.29176579]\n",
      "---\n",
      "Ik: 3585\n",
      "sigbuf.shape: (512,)\n",
      "Window 7 size: (512,)\n",
      "AR_sigbuf.shape: (6,)\n",
      "E.shape: (6,)\n",
      "Raw Buffer: [-25.98290598 -26.76434676 -30.28083028 -43.17460317 -48.25396825\n",
      " -45.51892552]\n",
      "AR: [-93.22911732 -92.51856186 -94.3642665  -93.42363737 -95.93349867\n",
      " -94.59608408]\n",
      "---\n",
      "Ik: 4097\n",
      "sigbuf.shape: (512,)\n",
      "Window 8 size: (512,)\n",
      "AR_sigbuf.shape: (6,)\n",
      "E.shape: (6,)\n",
      "Raw Buffer: [-17.38705739 -12.30769231  -9.18192918  -6.05616606   4.1025641\n",
      "  11.91697192]\n",
      "AR: [-9.13646119 -8.62532121 -8.77996173 -7.80197344 -9.02179987 -6.4468773 ]\n",
      "---\n",
      "Ik: 4609\n",
      "sigbuf.shape: (512,)\n",
      "Window 9 size: (512,)\n",
      "AR_sigbuf.shape: (6,)\n",
      "E.shape: (6,)\n",
      "Raw Buffer: [-40.43956044  45.12820513  27.54578755  -2.93040293  11.91697192\n",
      "  38.48595849]\n",
      "AR: [-64.24964894 -64.72785012 -64.88736819 -64.35273926 -62.88526533\n",
      " -63.64988582]\n",
      "---\n",
      "Ik: 5121\n",
      "sigbuf.shape: (512,)\n",
      "Window 10 size: (512,)\n",
      "AR_sigbuf.shape: (6,)\n",
      "E.shape: (6,)\n",
      "Raw Buffer: [-17.77777778  -2.14896215   1.36752137   4.49328449  13.87057387\n",
      "  20.51282051]\n",
      "AR: [18.33269538 19.63783016 17.15263051 18.84625807 18.19894843 18.35154118]\n",
      "---\n",
      "Ik: 5633\n",
      "sigbuf.shape: (512,)\n",
      "Window 11 size: (512,)\n",
      "AR_sigbuf.shape: (6,)\n",
      "E.shape: (6,)\n",
      "Raw Buffer: [-131.08669109 -142.02686203 -110.37851038 -121.70940171  -79.9023199\n",
      "  -65.83638584]\n",
      "AR: [632.57228795 631.86564072 631.04614905 632.02194593 632.85125468\n",
      " 634.43565852]\n",
      "---\n",
      "Ik: 6145\n",
      "sigbuf.shape: (512,)\n",
      "Window 12 size: (512,)\n",
      "AR_sigbuf.shape: (6,)\n",
      "E.shape: (6,)\n",
      "Raw Buffer: [ 48.64468864   0.1953602  -52.94261294  43.17460317  98.65689866\n",
      "  61.53846154]\n",
      "AR: [317.14925179 317.40574894 315.28094409 316.46535149 317.77688958\n",
      " 315.93219133]\n",
      "---\n",
      "Ik: 6657\n",
      "sigbuf.shape: (512,)\n",
      "Window 13 size: (512,)\n",
      "AR_sigbuf.shape: (6,)\n",
      "E.shape: (6,)\n",
      "Raw Buffer: [-118.97435897 -111.15995116 -100.61050061  -89.67032967  -20.9035409\n",
      "  -54.8962149 ]\n",
      "AR: [-56.6130524  -58.15614148 -58.02956183 -58.3291903  -57.94875614\n",
      " -57.52087646]\n",
      "---\n"
     ]
    }
   ],
   "source": [
    "print(f'Window length: {N/fs}s')\n",
    "X = EEG[0,:]\n",
    "Ik_buf = (1-1)*N+1\n",
    "ARs = []\n",
    "for k in range(2, np.rint(len(X)/N).astype(int)):\n",
    "    Ik = (k-1)*N+1\n",
    "    print('Ik:', Ik)\n",
    "    sigbuf = X[Ik_buf:Ik]\n",
    "    print('sigbuf.shape:', sigbuf.shape)\n",
    "    print(f'Window {k-1} size:', sigbuf.shape)\n",
    "    AR_order = 6 # AR(6) model\n",
    "    A = np.random.randn(AR_order) # a_j: init AR coeffs from Norm. Dist.\n",
    "    AR_sigbuf = sigbuf[len(sigbuf)-6:len(sigbuf)] # x_t-j\n",
    "    print('AR_sigbuf.shape:', AR_sigbuf.shape)\n",
    "    E = np.random.randn(AR_order) # e_t\n",
    "    print('E.shape:', E.shape)\n",
    "    AR = A @ AR_sigbuf + E\n",
    "    print('Raw Buffer:', AR_sigbuf)\n",
    "    print('AR:', AR)\n",
    "    ARs.append(AR)\n",
    "    Ik_buf = Ik\n",
    "    print('---')"
   ]
  },
  {
   "cell_type": "code",
   "execution_count": 12,
   "id": "a8b803c6",
   "metadata": {},
   "outputs": [],
   "source": [
    "# TODO: use the data in each window to compute minimising parameters of least-squares regression."
   ]
  }
 ],
 "metadata": {
  "kernelspec": {
   "display_name": "Python 3",
   "language": "python",
   "name": "python3"
  },
  "language_info": {
   "codemirror_mode": {
    "name": "ipython",
    "version": 3
   },
   "file_extension": ".py",
   "mimetype": "text/x-python",
   "name": "python",
   "nbconvert_exporter": "python",
   "pygments_lexer": "ipython3",
   "version": "3.8.5"
  }
 },
 "nbformat": 4,
 "nbformat_minor": 5
}
