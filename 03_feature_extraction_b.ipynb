{
 "cells": [
  {
   "cell_type": "code",
   "execution_count": 1,
   "id": "7193f23d",
   "metadata": {},
   "outputs": [],
   "source": [
    "import os\n",
    "import mne\n",
    "import numpy as np\n",
    "import matplotlib.pyplot as plt"
   ]
  },
  {
   "cell_type": "code",
   "execution_count": 2,
   "id": "69217e1a",
   "metadata": {},
   "outputs": [],
   "source": [
    "root = '/Volumes/My Passport/AI_Research/data/physionet.org/files/chbmit/1.0.0/chb01/'"
   ]
  },
  {
   "cell_type": "code",
   "execution_count": 3,
   "id": "e213a613",
   "metadata": {},
   "outputs": [],
   "source": [
    "# Summary\n",
    "# File Name: chb01_03.edf\n",
    "# File Start Time: 13:43:04\n",
    "# File End Time: 14:43:04\n",
    "# Number of Seizures in File: 1\n",
    "# Seizure Start Time: 2996 seconds\n",
    "# Seizure End Time: 3036 seconds\n",
    "raw = mne.io.read_raw_edf(input_fname=os.path.join(root, os.listdir(root)[3]), preload=False, verbose='Error')\n",
    "ch_names = raw.info['ch_names'] # array of channel names"
   ]
  },
  {
   "cell_type": "code",
   "execution_count": 4,
   "id": "4d2e337a",
   "metadata": {},
   "outputs": [
    {
     "name": "stdout",
     "output_type": "stream",
     "text": [
      "Start: 720s, End: 760s\n",
      "Duration: 40.0s\n",
      "Dimensions: (23, 10241)\n"
     ]
    }
   ],
   "source": [
    "# sample a normal (interictal) clip of length similar to seizure\n",
    "interictal_start_time = 720 # in seconds\n",
    "interictal_end_time = interictal_start_time + 40\n",
    "EEG_interictal, times_interictal = raw.copy() \\\n",
    "                            .crop(tmin=interictal_start_time, tmax=interictal_end_time) \\\n",
    "                            .get_data(picks=['eeg'], units='uV', return_times=True)\n",
    "print(f'Start: {interictal_start_time}s, End: {interictal_end_time}s')\n",
    "print(f'Duration: {np.max(times_interictal) - np.min(times_interictal)}s')\n",
    "print(f'Dimensions: {EEG_interictal.shape}')"
   ]
  },
  {
   "cell_type": "code",
   "execution_count": null,
   "id": "e91c9a90",
   "metadata": {},
   "outputs": [],
   "source": []
  }
 ],
 "metadata": {
  "kernelspec": {
   "display_name": "Python 3",
   "language": "python",
   "name": "python3"
  },
  "language_info": {
   "codemirror_mode": {
    "name": "ipython",
    "version": 3
   },
   "file_extension": ".py",
   "mimetype": "text/x-python",
   "name": "python",
   "nbconvert_exporter": "python",
   "pygments_lexer": "ipython3",
   "version": "3.8.5"
  }
 },
 "nbformat": 4,
 "nbformat_minor": 5
}
